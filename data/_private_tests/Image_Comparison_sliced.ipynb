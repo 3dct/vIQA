{
 "cells": [
  {
   "cell_type": "markdown",
   "source": [
    "# Image Comparison with Image Quality Assessment (IQA)\n",
    "\n",
    "This notebook can be used to compare two images / volumes using different IQA metrics. The metrics used are:\n",
    "- Peak Signal to Noise Ratio (PSNR)\n",
    "- Root Mean Square Error (RMSE)\n",
    "- Structured Similarity (SSIM)\n",
    "- Multi-Scale Structural Similarity (MS-SSIM) [can only be used for 2D images]\n",
    "- Feature Similarity Index (FSIM) [can only be used for 2D images]\n",
    "- Visual Information Fidelity in *pixel* domain (VIFp) [can only be used for 2D images]\n",
    "- Visual Saliency Index (VSI) [can only be used for 2D images]\n",
    "\n",
    "**Important Notes:**\n",
    "The calculated values for VIFp, SSIM, MS-SSIM are probably not correct in this implementation. Those values should be treated with caution.\n",
    "\n",
    "**Usage:**\n",
    "The metrics are implemented to calculate the scores for a 8 bit data range (0-255) per default. The data range can be changed by setting the `data_range` variable for each metric. Images are first loaded from .raw files or .mhd files and their corresponding .raw file, normalized to the chosen data range and then compared. The scores are then calculated and printed. The images are plotted to visually compare them. File names need to be given with the bit depth denoted as a suffix (e.g. _8bit.raw, _16bit.mhd) and the dimensions of the images need to be given in the file name (e.g. _512x512x512_). The images are assumed to be grayscale.\n",
    "\n",
    "To use this notebook, first set the filepaths and parameters, the press 'Run All'.\n",
    "\n",
    "**Requirements:**\n",
    "The following packages have to be installed:\n",
    "- numpy\n",
    "- matplotlib\n",
    "- pytorch\n",
    "- piq\n",
    "- scikit-image"
   ],
   "metadata": {
    "collapsed": false
   },
   "id": "dbfbd578d49a38d0"
  },
  {
   "cell_type": "markdown",
   "source": [
    "## Import"
   ],
   "metadata": {
    "collapsed": false
   },
   "id": "ee163c128ab8a140"
  },
  {
   "cell_type": "code",
   "execution_count": 26,
   "outputs": [],
   "source": [
    "import psnr, rmse, fsim, vif, ssim, msssim, vsi\n",
    "from utils import load_data\n",
    "import matplotlib.pyplot as plt\n",
    "import numpy as np\n",
    "from scipy.io import savemat\n",
    "import torch"
   ],
   "metadata": {
    "collapsed": false,
    "ExecuteTime": {
     "end_time": "2024-01-05T10:20:55.863173200Z",
     "start_time": "2024-01-05T10:20:55.802999700Z"
    }
   },
   "id": "8b30993f21ffe82a"
  },
  {
   "cell_type": "markdown",
   "source": [
    "## Data Loading and Setup"
   ],
   "metadata": {
    "collapsed": false
   },
   "id": "69ff12aea8759add"
  },
  {
   "cell_type": "code",
   "execution_count": 27,
   "outputs": [],
   "source": [
    "# Change these filepaths to your images (_r = reference, _m = modified)\n",
    "file_path_img_r = '../../samples/Catec_Two_PlateIQI_20um/Catec_Two_PlateIQI_20um_1620proj_220kV_Rayscan-SimCT_800x800x1000_16bit.raw'\n",
    "file_path_img_m = '../../samples/Catec_Two_PlateIQI_20um/Catec_Two_PlateIQI_20um_810proj_220kV_Rayscan-SimCT_800x800x1000_16bit.raw'\n",
    "\n",
    "# Set these to true if you want to calculate the denominated metric for your data\n",
    "calc_psnr = True\n",
    "calc_rmse = True\n",
    "calc_ssim = True\n",
    "calc_msssim = True\n",
    "calc_fsim = True\n",
    "calc_vif = True\n",
    "calc_vsi = True"
   ],
   "metadata": {
    "collapsed": false,
    "ExecuteTime": {
     "end_time": "2024-01-05T10:20:55.877894200Z",
     "start_time": "2024-01-05T10:20:55.866418700Z"
    }
   },
   "id": "36f7eb7789883375"
  },
  {
   "cell_type": "code",
   "execution_count": 28,
   "outputs": [],
   "source": [
    "# Data loading\n",
    "img_r = load_data(file_path_img_r, data_range=255, normalize=True, batch=False)[0:1000, 200, 0:800]\n",
    "img_m = load_data(file_path_img_m, data_range=255, normalize=True, batch=False)[0:1000, 200, 0:800]"
   ],
   "metadata": {
    "collapsed": false,
    "ExecuteTime": {
     "end_time": "2024-01-05T10:21:24.297369700Z",
     "start_time": "2024-01-05T10:20:55.869915700Z"
    }
   },
   "id": "884b9afda6d9061d"
  },
  {
   "cell_type": "code",
   "execution_count": 29,
   "outputs": [],
   "source": [
    "img_r_tensor = torch.tensor(img_r).unsqueeze(0).unsqueeze(0)\n",
    "img_m_tensor = torch.tensor(img_m).unsqueeze(0).unsqueeze(0)"
   ],
   "metadata": {
    "collapsed": false,
    "ExecuteTime": {
     "end_time": "2024-01-05T10:21:24.305347800Z",
     "start_time": "2024-01-05T10:21:24.299364900Z"
    }
   },
   "id": "59dd2322818f47b3"
  },
  {
   "cell_type": "code",
   "execution_count": 30,
   "outputs": [],
   "source": [
    "savemat('img_m.mat', {'img_m': img_m})\n",
    "savemat('img_r.mat', {'img_r': img_r})"
   ],
   "metadata": {
    "collapsed": false,
    "ExecuteTime": {
     "end_time": "2024-01-05T10:21:24.377996400Z",
     "start_time": "2024-01-05T10:21:24.303353600Z"
    }
   },
   "id": "7493cef6bffcdedc"
  },
  {
   "cell_type": "markdown",
   "source": [
    "## Calculation"
   ],
   "metadata": {
    "collapsed": false
   },
   "id": "e617e628e46f7f81"
  },
  {
   "cell_type": "markdown",
   "source": [
    "### PSNR\n",
    "Set the parameters for PSNR. The data range is set to 255 per default."
   ],
   "metadata": {
    "collapsed": false
   },
   "id": "6365bbfbe2df714c"
  },
  {
   "cell_type": "code",
   "execution_count": 31,
   "outputs": [],
   "source": [
    "# Change this parameter\n",
    "psnr_data_range = 255"
   ],
   "metadata": {
    "collapsed": false,
    "ExecuteTime": {
     "end_time": "2024-01-05T10:21:24.386388300Z",
     "start_time": "2024-01-05T10:21:24.379899100Z"
    }
   },
   "id": "c8c5e608b61029de"
  },
  {
   "cell_type": "code",
   "execution_count": 32,
   "outputs": [],
   "source": [
    "if calc_psnr:\n",
    "    metric_psnr_m = psnr.PSNR(data_range=psnr_data_range)\n",
    "    metric_psnr_m.score(img_r, img_m)"
   ],
   "metadata": {
    "collapsed": false,
    "ExecuteTime": {
     "end_time": "2024-01-05T10:21:24.396265700Z",
     "start_time": "2024-01-05T10:21:24.382399300Z"
    }
   },
   "id": "e3a9439e178c1769"
  },
  {
   "cell_type": "markdown",
   "source": [
    "### RMSE\n",
    "The RMSE metric does not need any parameters."
   ],
   "metadata": {
    "collapsed": false
   },
   "id": "6718cd8aab415b75"
  },
  {
   "cell_type": "code",
   "execution_count": 33,
   "outputs": [],
   "source": [
    "if calc_rmse:\n",
    "    metric_rmse_m = rmse.RMSE(data_range=255)\n",
    "    metric_rmse_m.score(img_r, img_m)"
   ],
   "metadata": {
    "collapsed": false,
    "ExecuteTime": {
     "end_time": "2024-01-05T10:21:24.424232400Z",
     "start_time": "2024-01-05T10:21:24.396265700Z"
    }
   },
   "id": "837bf28490be1eb6"
  },
  {
   "cell_type": "markdown",
   "source": [
    "### SSIM\n",
    "Set the parameters for SSIM. The data range is set to 255 per default."
   ],
   "metadata": {
    "collapsed": false
   },
   "id": "9432a7770f3a7a09"
  },
  {
   "cell_type": "code",
   "execution_count": 34,
   "outputs": [],
   "source": [
    "# Change this parameter\n",
    "ssim_data_range = 255\n",
    "ssim_calc_parameters = {'gaussian_weights': True, 'use_sample_covariance': False, 'sigma': 1.5}"
   ],
   "metadata": {
    "collapsed": false,
    "ExecuteTime": {
     "end_time": "2024-01-05T10:21:24.425229500Z",
     "start_time": "2024-01-05T10:21:24.406069500Z"
    }
   },
   "id": "a80d29e96760ee77"
  },
  {
   "cell_type": "code",
   "execution_count": 35,
   "outputs": [],
   "source": [
    "if calc_ssim:\n",
    "    metric_ssim_m = ssim.SSIM(data_range=ssim_data_range)\n",
    "    metric_ssim_m.score(img_r, img_m,  **ssim_calc_parameters)"
   ],
   "metadata": {
    "collapsed": false,
    "ExecuteTime": {
     "end_time": "2024-01-05T10:21:24.519222100Z",
     "start_time": "2024-01-05T10:21:24.409273Z"
    }
   },
   "id": "ee138fb7cda57474"
  },
  {
   "cell_type": "code",
   "execution_count": 36,
   "outputs": [
    {
     "name": "stdout",
     "output_type": "stream",
     "text": [
      "sewar:  (0.6508314417296361, 0.6514188981938117)\n",
      "piq:  tensor(0.8296)\n",
      "skimage:  0.667623583012712\n",
      "pytorch_msssim:  tensor(1.)\n",
      "pytorch-ignite:  0.6743957127206505\n",
      "xdesign:  0.7873974805075192\n",
      "IQA-pytorch:  tensor([1.])\n"
     ]
    }
   ],
   "source": [
    "# sewar ssim\n",
    "from sewar import ssim\n",
    "print('sewar: ', ssim(img_r, img_m))\n",
    "\n",
    "# piq ssim\n",
    "from piq import ssim as piq_ssim\n",
    "print('piq: ', piq_ssim(img_r_tensor, img_m_tensor, data_range=255))\n",
    "\n",
    "# skimage ssim\n",
    "from skimage.metrics import structural_similarity as skimage_ssim\n",
    "print('skimage: ', skimage_ssim(img_r, img_m, data_range=255, gaussian_weights=True, use_sample_covariance=False, sigma=1.5))\n",
    "\n",
    "# pytorch-msssim ssim\n",
    "from pytorch_msssim import ssim as pytorch_msssim_ssim\n",
    "print('pytorch_msssim: ', pytorch_msssim_ssim(img_r_tensor, img_m_tensor, data_range=255))\n",
    "\n",
    "# pytorch-ignite ssim\n",
    "from ignite.metrics import SSIM\n",
    "metric = SSIM(data_range=255)\n",
    "metric.update((img_r_tensor, img_m_tensor))\n",
    "print('pytorch-ignite: ', metric.compute())\n",
    "\n",
    "# xdesign ssim\n",
    "from xdesign.metrics import ssim as xdesign_ssim\n",
    "print('xdesign: ', xdesign_ssim(img_r, img_m, L=255)[1])\n",
    "\n",
    "# IQA-pytorch ssim\n",
    "from IQA_pytorch import SSIM\n",
    "from torch.nn.functional import normalize\n",
    "metric = SSIM()\n",
    "print('IQA-pytorch: ', metric(normalize(img_r_tensor.float()), normalize(img_m_tensor.float()), as_loss=False))"
   ],
   "metadata": {
    "collapsed": false,
    "ExecuteTime": {
     "end_time": "2024-01-05T10:21:25.848916400Z",
     "start_time": "2024-01-05T10:21:24.524181900Z"
    }
   },
   "id": "bcc7b466b26f3b07"
  },
  {
   "cell_type": "markdown",
   "source": [
    "### MS-SSIM\n",
    "\n",
    "Set the parameters for MS-SSIM. The data range is set to 255 per default."
   ],
   "metadata": {
    "collapsed": false
   },
   "id": "2563782019240a34"
  },
  {
   "cell_type": "code",
   "execution_count": 37,
   "outputs": [],
   "source": [
    "# Change this parameter\n",
    "msssim_data_range = 255"
   ],
   "metadata": {
    "collapsed": false,
    "ExecuteTime": {
     "end_time": "2024-01-05T10:21:25.856489800Z",
     "start_time": "2024-01-05T10:21:25.851487300Z"
    }
   },
   "id": "2ddac996f2adb678"
  },
  {
   "cell_type": "code",
   "execution_count": 38,
   "outputs": [],
   "source": [
    "if calc_msssim:\n",
    "    if len(img_r.shape) == 2:\n",
    "        metric_msssim_m = msssim.MSSSIM(data_range=msssim_data_range)\n",
    "        metric_msssim_m.score(img_r, img_m)\n",
    "    else:\n",
    "        print('MS-SSIM can only be used for 2D images')"
   ],
   "metadata": {
    "collapsed": false,
    "ExecuteTime": {
     "end_time": "2024-01-05T10:21:25.937778100Z",
     "start_time": "2024-01-05T10:21:25.854495200Z"
    }
   },
   "id": "b07a5d83e8c5d05c"
  },
  {
   "cell_type": "code",
   "execution_count": 39,
   "outputs": [
    {
     "name": "stdout",
     "output_type": "stream",
     "text": [
      "sewar:  (0.8631333216904347+0j)\n",
      "piq:  tensor(0.8630)\n",
      "xdesign:  0.5962385859460634\n",
      "IQA_pytorch:  tensor([1.])\n"
     ]
    }
   ],
   "source": [
    "# sewar msssim\n",
    "from sewar import msssim\n",
    "print('sewar: ', msssim(img_r, img_m))\n",
    "\n",
    "# piq msssim\n",
    "from piq import multi_scale_ssim as piq_msssim\n",
    "print('piq: ', piq_msssim(img_r_tensor, img_m_tensor, data_range=255))\n",
    "\n",
    "# pytorch-msssim msssim\n",
    "try:\n",
    "    from pytorch_msssim import ms_ssim as pytorch_msssim_msssim\n",
    "    print('pytorch msssim: ', pytorch_msssim_msssim(img_r_tensor, img_m_tensor, data_range=255))\n",
    "except:\n",
    "    pass\n",
    "\n",
    "# xdesign msssim\n",
    "from xdesign.metrics import msssim as xdesign_msssim\n",
    "print('xdesign: ', xdesign_msssim(img_r, img_m, L=255)[1])\n",
    "\n",
    "# IQA-pytorch msssim\n",
    "from IQA_pytorch import MS_SSIM\n",
    "from torch.nn.functional import normalize\n",
    "metric = MS_SSIM()\n",
    "print('IQA_pytorch: ', metric(normalize(img_r_tensor.float()), normalize(img_m_tensor.float()), as_loss=False))"
   ],
   "metadata": {
    "collapsed": false,
    "ExecuteTime": {
     "end_time": "2024-01-05T10:21:27.653202700Z",
     "start_time": "2024-01-05T10:21:25.937778100Z"
    }
   },
   "id": "df626b4a5a4a305d"
  },
  {
   "cell_type": "markdown",
   "source": [
    "### FSIM\n",
    "Set the parameters for FSIM. The data range is set to 255 per default. The chromatic parameter can be set to true if the images are RGB images."
   ],
   "metadata": {
    "collapsed": false
   },
   "id": "5aeb6934fb8becf8"
  },
  {
   "cell_type": "code",
   "execution_count": 40,
   "outputs": [],
   "source": [
    "# Change these parameters\n",
    "fsim_data_range = 255\n",
    "fsim_load_parameters = {'chromatic': False}"
   ],
   "metadata": {
    "collapsed": false,
    "ExecuteTime": {
     "end_time": "2024-01-05T10:21:27.654200700Z",
     "start_time": "2024-01-05T10:21:27.647219400Z"
    }
   },
   "id": "7ae02d334541334e"
  },
  {
   "cell_type": "code",
   "execution_count": 41,
   "outputs": [],
   "source": [
    "if calc_fsim:\n",
    "    if len(img_r.shape) == 2:\n",
    "        metric_fsim_m = fsim.FSIM(data_range=fsim_data_range, **fsim_load_parameters)\n",
    "        metric_fsim_m.score(img_r, img_m)\n",
    "    else:\n",
    "        print('FSIM can only be used for 2D images')"
   ],
   "metadata": {
    "collapsed": false,
    "ExecuteTime": {
     "end_time": "2024-01-05T10:21:27.750356800Z",
     "start_time": "2024-01-05T10:21:27.650211100Z"
    }
   },
   "id": "6d30baa06d90bbb3"
  },
  {
   "cell_type": "markdown",
   "source": [
    "### VIFp\n",
    "Set the parameters for VIFp. The data range is set to 255 per default. The sigma_n_sq parameter can be set to adapt the metric for the variance of visual noise. This parameter is set to 3.2 per default and has to be changed according to the data. Currently there is no recommendation how to set this parameter."
   ],
   "metadata": {
    "collapsed": false
   },
   "id": "f453a99b5e4f93c4"
  },
  {
   "cell_type": "code",
   "execution_count": 51,
   "outputs": [],
   "source": [
    "# Change these parameters\n",
    "vif_data_range = 255\n",
    "vif_load_parameters = {'chromatic': False}\n",
    "vif_calc_parameters = {'sigma_n_sq': 2}"
   ],
   "metadata": {
    "collapsed": false,
    "ExecuteTime": {
     "end_time": "2024-01-05T10:24:17.577096300Z",
     "start_time": "2024-01-05T10:24:17.420884300Z"
    }
   },
   "id": "cd289fb4b648aaad"
  },
  {
   "cell_type": "code",
   "execution_count": 52,
   "outputs": [],
   "source": [
    "if calc_vif:\n",
    "    if len(img_r.shape) == 2:\n",
    "        metric_vifp_m = vif.VIFp(data_range=255, **vif_load_parameters)\n",
    "        metric_vifp_m.score(img_r, img_m, **vif_calc_parameters)\n",
    "    else:\n",
    "        raise Exception('VIFp can only be used for 2D images')"
   ],
   "metadata": {
    "collapsed": false,
    "ExecuteTime": {
     "end_time": "2024-01-05T10:24:18.942662100Z",
     "start_time": "2024-01-05T10:24:18.819976200Z"
    }
   },
   "id": "5ba576aa1c6ba1da"
  },
  {
   "cell_type": "markdown",
   "source": [
    "### VSI\n",
    "\n",
    "Set the parameters for VSI. The data range is set to 255 per default."
   ],
   "metadata": {
    "collapsed": false
   },
   "id": "5fd3207fab1ddc2"
  },
  {
   "cell_type": "code",
   "execution_count": 44,
   "outputs": [],
   "source": [
    "# Change these parameters\n",
    "vsi_data_range = 255\n",
    "vsi_load_parameters = {'chromatic': False}"
   ],
   "metadata": {
    "collapsed": false,
    "ExecuteTime": {
     "end_time": "2024-01-05T10:21:27.872714900Z",
     "start_time": "2024-01-05T10:21:27.862230200Z"
    }
   },
   "id": "b6df73d0f9b5b010"
  },
  {
   "cell_type": "code",
   "execution_count": 45,
   "outputs": [],
   "source": [
    "if calc_vsi:\n",
    "    if len(img_r.shape) == 2:\n",
    "        metric_vsi_m = vsi.VSI(data_range=vsi_data_range, **vsi_load_parameters)\n",
    "        metric_vsi_m.score(img_r, img_m)\n",
    "    else:\n",
    "        raise Exception('VSI can only be used for 2D images')"
   ],
   "metadata": {
    "collapsed": false,
    "ExecuteTime": {
     "end_time": "2024-01-05T10:21:27.914017900Z",
     "start_time": "2024-01-05T10:21:27.863732700Z"
    }
   },
   "id": "6a79221f81995381"
  },
  {
   "cell_type": "code",
   "execution_count": 46,
   "outputs": [],
   "source": [
    "# Set the number of decimals to be printed\n",
    "decimals = 4"
   ],
   "metadata": {
    "collapsed": false,
    "ExecuteTime": {
     "end_time": "2024-01-05T10:21:27.922265300Z",
     "start_time": "2024-01-05T10:21:27.914017900Z"
    }
   },
   "id": "e33a06b794e5ec83"
  },
  {
   "cell_type": "code",
   "execution_count": 53,
   "outputs": [
    {
     "name": "stdout",
     "output_type": "stream",
     "text": [
      "PSNR: 29.7071\n",
      "RMSE: 8.3404\n",
      "SSIM: 0.6676\n",
      "MS-SSIM: 0.863\n",
      "FSIM: 0.9479\n",
      "VIFp: 0.1005\n",
      "VSI: 0.9919\n"
     ]
    }
   ],
   "source": [
    "if calc_psnr:\n",
    "    metric_psnr_m.print_score(decimals)\n",
    "if calc_rmse:\n",
    "    metric_rmse_m.print_score(decimals)\n",
    "if calc_ssim:\n",
    "    metric_ssim_m.print_score(decimals)\n",
    "if calc_msssim:\n",
    "    metric_msssim_m.print_score(decimals)\n",
    "if calc_fsim:\n",
    "    metric_fsim_m.print_score(decimals)\n",
    "if calc_vif:\n",
    "    metric_vifp_m.print_score(decimals)\n",
    "if calc_vsi:\n",
    "    metric_vsi_m.print_score(decimals)"
   ],
   "metadata": {
    "collapsed": false,
    "ExecuteTime": {
     "end_time": "2024-01-05T10:24:22.145028700Z",
     "start_time": "2024-01-05T10:24:22.141134300Z"
    }
   },
   "id": "4593ba3d3ba3ca77"
  },
  {
   "cell_type": "markdown",
   "source": [
    "## Plotting"
   ],
   "metadata": {
    "collapsed": false
   },
   "id": "9efb28dc93fcf719"
  },
  {
   "cell_type": "code",
   "execution_count": 48,
   "outputs": [
    {
     "name": "stdout",
     "output_type": "stream",
     "text": [
      "Shape of reference image: (1000, 800)\n"
     ]
    }
   ],
   "source": [
    "print('Shape of reference image:', img_r.shape)"
   ],
   "metadata": {
    "collapsed": false,
    "ExecuteTime": {
     "end_time": "2024-01-05T10:21:27.927251500Z",
     "start_time": "2024-01-05T10:21:27.923263600Z"
    }
   },
   "id": "44d7d3f77e287cff"
  },
  {
   "cell_type": "code",
   "execution_count": 49,
   "outputs": [],
   "source": [
    "# Set the area to be plotted (two dimensions have to be given as range, the third value is the slice to be plotted)\n",
    "x = None\n",
    "x_1 = 0\n",
    "x_2 = 1000\n",
    "\n",
    "y = 200\n",
    "y_1 = None\n",
    "y_2 = None\n",
    "\n",
    "z = None\n",
    "z_1 = 0\n",
    "z_2 = 800"
   ],
   "metadata": {
    "collapsed": false,
    "ExecuteTime": {
     "end_time": "2024-01-05T10:21:27.936938900Z",
     "start_time": "2024-01-05T10:21:27.928249300Z"
    }
   },
   "id": "9bb2814655e16bad"
  },
  {
   "cell_type": "code",
   "execution_count": 50,
   "outputs": [
    {
     "ename": "IndexError",
     "evalue": "too many indices for array: array is 2-dimensional, but 3 were indexed",
     "output_type": "error",
     "traceback": [
      "\u001B[1;31m---------------------------------------------------------------------------\u001B[0m",
      "\u001B[1;31mIndexError\u001B[0m                                Traceback (most recent call last)",
      "Cell \u001B[1;32mIn[50], line 5\u001B[0m\n\u001B[0;32m      3\u001B[0m     img_m_plot \u001B[38;5;241m=\u001B[39m img_m[x, y_1:y_2, z_1:z_2]\n\u001B[0;32m      4\u001B[0m \u001B[38;5;28;01melif\u001B[39;00m y \u001B[38;5;129;01mis\u001B[39;00m \u001B[38;5;129;01mnot\u001B[39;00m \u001B[38;5;28;01mNone\u001B[39;00m:\n\u001B[1;32m----> 5\u001B[0m     img_r_plot \u001B[38;5;241m=\u001B[39m img_r[x_1:x_2, y, z_1:z_2]\n\u001B[0;32m      6\u001B[0m     img_m_plot \u001B[38;5;241m=\u001B[39m img_m[x_1:x_2, y, z_1:z_2]\n\u001B[0;32m      7\u001B[0m \u001B[38;5;28;01melif\u001B[39;00m z \u001B[38;5;129;01mis\u001B[39;00m \u001B[38;5;129;01mnot\u001B[39;00m \u001B[38;5;28;01mNone\u001B[39;00m:\n",
      "\u001B[1;31mIndexError\u001B[0m: too many indices for array: array is 2-dimensional, but 3 were indexed"
     ]
    }
   ],
   "source": [
    "if x is not None:\n",
    "    img_r_plot = img_r[x, y_1:y_2, z_1:z_2]\n",
    "    img_m_plot = img_m[x, y_1:y_2, z_1:z_2]\n",
    "elif y is not None:\n",
    "    img_r_plot = img_r[x_1:x_2, y, z_1:z_2]\n",
    "    img_m_plot = img_m[x_1:x_2, y, z_1:z_2]\n",
    "elif z is not None:\n",
    "    img_r_plot = img_r[x_1:x_2, y_1:y_2, z]\n",
    "    img_m_plot = img_m[x_1:x_2, y_1:y_2, z]\n",
    "else:\n",
    "    raise Exception('Area to be plotted was not correctly specified')"
   ],
   "metadata": {
    "collapsed": false,
    "ExecuteTime": {
     "end_time": "2024-01-05T10:21:27.974329200Z",
     "start_time": "2024-01-05T10:21:27.933946700Z"
    }
   },
   "id": "79bb1ae496dafe78"
  },
  {
   "cell_type": "code",
   "execution_count": null,
   "outputs": [],
   "source": [
    "fig, axs = plt.subplots(1,2, dpi=300)\n",
    "axs[0].imshow(img_r_plot, cmap=\"gray\")\n",
    "axs[1].imshow(img_m_plot, cmap=\"gray\")\n",
    "\n",
    "fig.suptitle('Image Comparison and IQA metric values', y=0.92)\n",
    "axs[0].set_title('Reference image')\n",
    "axs[1].set_title('Modified image')\n",
    "\n",
    "if calc_psnr:\n",
    "    fig.text(0.4, 0.09, f'RMSE: {metric_rmse_m.score_val:.2f}', ha='center', fontsize=8)\n",
    "if calc_rmse:\n",
    "    fig.text(0.4, 0.06, f'PSNR: {metric_psnr_m.score_val:.2f} dB', ha='center', fontsize=8)\n",
    "if calc_ssim:\n",
    "    fig.text(0.4, 0.03, f'SSIM: {metric_ssim_m.score_val:.2f}', ha='center', fontsize=8)\n",
    "if calc_msssim:\n",
    "    fig.text(0.4, 0.00, f'MS-SSIM: {metric_msssim_m.score_val:.2f}', ha='center', fontsize=8)\n",
    "if calc_fsim:\n",
    "    fig.text(0.6, 0.09, f'FSIM: {metric_fsim_m.score_val:.2f}', ha='center', fontsize=8)\n",
    "if calc_vif:\n",
    "    fig.text(0.6, 0.06, f'VIFp: {metric_vifp_m.score_val:.2f}', ha='center', fontsize=8)\n",
    "if calc_vsi:\n",
    "    fig.text(0.6, 0.03, f'VSI: {metric_vsi_m.score_val:.2f}', ha='center', fontsize=8)\n",
    "    \n",
    "axs[0].axis('off')\n",
    "axs[1].axis('off');"
   ],
   "metadata": {
    "collapsed": false,
    "ExecuteTime": {
     "start_time": "2024-01-05T10:21:27.962361Z"
    }
   },
   "id": "2357d6b124cc2c54"
  },
  {
   "cell_type": "markdown",
   "source": [
    "## Conclusion\n",
    "\n",
    "| Metric | Code OK | Value OK |\n",
    "| --- |---------|----------|\n",
    "| PSNR | OK      | OK       |\n",
    "| RMSE | OK      | OK       |\n",
    "| VIFp | OK      | *NOT* OK |\n",
    "| FSIM | OK      | ?        |\n",
    "| SSIM | OK      | OK       |\n",
    "| MSSSIM | OK      | OK       |\n",
    "| VSI | OK      | OK       |\n",
    "| MAD | --      | --       |\n",
    "| GSM | --      | --       |\n",
    "| SFF | --      | --       |\n",
    "| CNR | --      | --       |\n",
    "| Ma | --      | --       |\n",
    "| PI | --      | --       |\n",
    "| NIQE | --      | --       |"
   ],
   "metadata": {
    "collapsed": false
   },
   "id": "6345e7a905e3b18d"
  }
 ],
 "metadata": {
  "kernelspec": {
   "display_name": "Python 3",
   "language": "python",
   "name": "python3"
  },
  "language_info": {
   "codemirror_mode": {
    "name": "ipython",
    "version": 2
   },
   "file_extension": ".py",
   "mimetype": "text/x-python",
   "name": "python",
   "nbconvert_exporter": "python",
   "pygments_lexer": "ipython2",
   "version": "2.7.6"
  }
 },
 "nbformat": 4,
 "nbformat_minor": 5
}
