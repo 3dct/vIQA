{
 "cells": [
  {
   "cell_type": "markdown",
   "id": "fb9ba7d0195dd546",
   "metadata": {
    "collapsed": false
   },
   "source": [
    "# Image Comparison with Image Quality Assessment (IQA)\n",
    "\n",
    "This notebook can be used to compare two images / volumes using different IQA metrics. The metrics used are:\n",
    "\n",
    "| Metric    | Name                                          | Type | Dimensional behaviour | Colour Behaviour | Range              | Tested   | Validated |\n",
    "|-----------|-----------------------------------------------|------|-----------------------|------------------|--------------------|----------|-----------|\n",
    "| PSNR      | Peak Signal to Noise Ratio                    | FR   | 3D native             | OK               | $[0, \\infty)$      | OK       | OK        |\n",
    "| RMSE      | Root Mean Square Error                        | FR   | 3D native             | OK               | $(\\infty, 0]$      | OK       | OK        |\n",
    "| SSIM      | Structured Similarity                         | FR   | 3D native             | (OK) [^a]        | $[-1, 1]$ [^b]     | OK       | OK        |\n",
    "| MS-SSIM   | Multi-Scale Structural Similarity             | FR   | 3D slicing            | ?                | $[0, 1]$           | x        | OK        |\n",
    "| FSIM      | Feature Similarity Index                      | FR   | 3D slicing            | OK               | $[0, 1]$           | OK       | OK        |\n",
    "| VIFp      | Visual Information Fidelity in *pixel* domain | FR   | 3D slicing            | ?                | $[0, \\infty)$ [^c] | x        | x         |\n",
    "| VSI       | Visual Saliency Index                         | FR   | 3D slicing            | OK [^d]          | $[0, 1]$           | x        | x         |\n",
    "| MAD       | Most Apparent Distortion                      | FR   | 3D slicing            |                  | $[0, \\infty)$      | OK       | x         |\n",
    "| GSM       | Gradient Similarity                           | FR   | 3D native or slicing  |                  | $[0, 1]$           | x        | x         |\n",
    "| CNR       | Contrast to Noise Ratio                       | NR   | 3D native             |                  | $[0, \\infty)$      | OK       | x         |\n",
    "| SNR       | Signal to Noise Ratio                         | NR   | 3D native             | OK               | $[0, \\infty)$      | OK       | x         |\n",
    "| Q-Measure | Q-Measure                                     | NR   | 3D only [^e]          | x                | $[0, \\infty)$      | x        | x         |\n",
    "\n",
    "**Important Notes:**\n",
    "The calculated values for VIFp are probably not correct in this implementation. Those values should be treated with caution. Further testing is required.\n",
    "The MAD metric takes very long for calculation. It is recommended to use it only for small slices of the images.\n",
    "The largest images currently tested are around `2000x2300x2300` pixels. Calculation for these works with 512GiB of RAM.\n",
    "\n",
    "**Usage:**\n",
    "The metrics are implemented to calculate the scores for an 16-bit data range (0-65535) per default in this notebook. The data range can be changed by setting the `data_range` variable for each metric. Images are first loaded from .raw files or .mhd files and their corresponding .raw file, normalized to the chosen data range and then compared. The scores are then calculated and printed. The images are plotted to visually compare them. File names need to be given with the bit depth denoted as a suffix (e.g. `_8bit.raw`, `_16bit.raw`) and the dimensions of the images need to be given in the file name (e.g. `_512x512x512_`). The images are assumed to be grayscale.\n",
    "\n",
    "To use this notebook, first set the filepaths and parameters, then press 'Run All'.\n",
    "\n",
    "**Requirements:**\n",
    "The following packages have to be installed:\n",
    "- jupyter\n",
    "- matplotlib\n",
    "- nibabel\n",
    "- numpy\n",
    "- piq\n",
    "- pytorch\n",
    "- scikit-image\n",
    "- scipy\n",
    "\n",
    "**References:**\n",
    "-  Wang, Z., Bovik, A. C., Sheikh, H. R., & Simoncelli, E. P. (2004). Image quality \n",
    "assessment: From error visibility to structural similarity. IEEE Transactions on \n",
    "Image Processing, 13(4), 600–612. <https://doi.org/10.1109/TIP.2003.819861>\n",
    "- Wang, Z., Simoncelli, E. P., & Bovik, A. C. (2003). Multi-scale structural \n",
    "similarity for image quality assessment. The Thirty-Seventh Asilomar Conference on \n",
    "Signals, Systems & Computers, 1298–1402. <https://doi.org/10.1109/ACSSC.2003.1292216>\n",
    "- Zhang, L., Zhang, L., Mou, X., & Zhang, D. (2011). FSIM: A feature similarity \n",
    "index for image quality assessment. IEEE Transactions on Image Processing, 20(8). \n",
    "<https://doi.org/10.1109/TIP.2011.2109730>\n",
    "- Sheikh, H. R., & Bovik, A. C. (2006). Image information and visual quality. IEEE \n",
    "Transactions on Image Processing, 15(2), 430–444. \n",
    "<https://doi.org/10.1109/TIP.2005.859378>\n",
    "- Zhang, L., Shen, Y., & Li, H. (2014). VSI: A visual saliency-induced index for \n",
    "perceptual image quality assessment. IEEE Transactions on Image Processing, 23(10), \n",
    "4270–4281. <https://doi.org/10.1109/TIP.2014.2346028>\n",
    "- Larson, E. C., & Chandler, D. M. (2010). Most apparent distortion: full-reference \n",
    "image quality assessment and the role of strategy. Journal of Electronic Imaging, 19\n",
    "(1), 011006. <https://doi.org/10.1117/1.3267105>\n",
    "- Liu, A., Lin, W., & Narwaria, M. (2012). Image quality assessment based on \n",
    "gradient similarity. IEEE Transactions on Image Processing, 21(4), 1500–1512. \n",
    "<https://doi.org/10.1109/TIP.2011.2175935>\n",
    "- Desai, N., Singh, A., & Valentino, D. J. (2010). Practical evaluation of image \n",
    "quality in computed radiographic (CR) imaging systems. Medical Imaging 2010: Physics \n",
    "of Medical Imaging, 7622, 76224Q. <https://doi.org/10.1117/12.844640>\n",
    "- Reiter, M., Weiß, D., Gusenbauer, C., Erler, M., Kuhn, C., Kasperl, S., & \n",
    "Kastner, J. (2014). Evaluation of a Histogram-based Image Quality Measure for X-ray \n",
    "computed Tomography. 5th Conference on Industrial Computed Tomography (iCT) 2014, 25-28 \n",
    "February 2014, Wels, Austria. e-Journal of Nondestructive Testing Vol. 19(6). \n",
    "https://www.ndt.net/?id=15715\n",
    "\n",
    "[^a]: The metric is calculated channel-wise for color images. The values are then averaged after weighting.\n",
    "[^b]: The range for SSIM is given as $[-1, 1]$, but is usually $[0, 1]$ in practice.\n",
    "[^c]: Normally $[0, 1]$, but can be higher than 1 for modified images with higher \n",
    "contrast than reference images.\n",
    "[^d]: The original metric supports RGB images only. This implementation can work \n",
    "with grayscale images by copying the luminance channel 3 times.\n",
    "[^e]: The Q-Measure is a special metric designed for CT images. Therefore it only works\n",
    "with 3D volumes."
   ]
  },
  {
   "cell_type": "markdown",
   "id": "ee163c128ab8a140",
   "metadata": {
    "collapsed": false
   },
   "source": [
    "## Import"
   ]
  },
  {
   "cell_type": "code",
   "execution_count": null,
   "id": "8b30993f21ffe82a",
   "metadata": {
    "collapsed": false
   },
   "outputs": [],
   "source": [
    "import os\n",
    "\n",
    "import matplotlib.pyplot as plt\n",
    "import numpy as np\n",
    "import skimage.transform as skt\n",
    "import viqa\n",
    "from viqa import export_csv, load_data"
   ]
  },
  {
   "cell_type": "markdown",
   "id": "69ff12aea8759add",
   "metadata": {
    "collapsed": false
   },
   "source": [
    "## Data Loading and Setup"
   ]
  },
  {
   "cell_type": "code",
   "execution_count": null,
   "id": "36f7eb7789883375",
   "metadata": {
    "collapsed": false
   },
   "outputs": [],
   "source": [
    "# Change these filepaths to your images (_r = reference, _m = modified)\n",
    "file_path_img_r = \"/path/to/reference/image\"\n",
    "file_name_img_r = \"reference_image_512x512x512_16bit.raw\"\n",
    "file_path_img_m = \"/path/to/modified/image\"\n",
    "file_name_img_m = \"modified_image_512x512x512_16bit.raw\"\n",
    "\n",
    "file_path_img_r = os.path.join(file_path_img_r, file_name_img_r)\n",
    "file_path_img_m = os.path.join(file_path_img_m, file_name_img_m)\n",
    "\n",
    "# Set these to true if you want to calculate the denominated metric for your data\n",
    "calc_psnr = True\n",
    "calc_rmse = True\n",
    "calc_ssim = True\n",
    "calc_msssim = False  # Not possible for very large images due to memory constraints\n",
    "calc_fsim = True\n",
    "calc_vif = False  # Not possible for very large images due to memory constraints\n",
    "calc_vsi = False  # Not possible for very large images due to memory constraints\n",
    "calc_mad = False  # Not possible for very large images due to memory constraints\n",
    "calc_gsm = True\n",
    "\n",
    "calc_cnr = True\n",
    "calc_snr = True\n",
    "calc_qmeasure = True"
   ]
  },
  {
   "cell_type": "code",
   "execution_count": null,
   "id": "884b9afda6d9061d",
   "metadata": {
    "collapsed": false
   },
   "outputs": [],
   "source": [
    "# Data loading\n",
    "img_r = load_data(file_path_img_r, data_range=65535, normalize=False, batch=False)\n",
    "img_m = load_data(file_path_img_m, data_range=65535, normalize=False, batch=False)"
   ]
  },
  {
   "cell_type": "code",
   "execution_count": null,
   "id": "782083534af5ff8f",
   "metadata": {},
   "outputs": [],
   "source": [
    "# Resize image if shapes unequal\n",
    "if img_r.shape != img_m.shape:\n",
    "    img_m = skt.resize(img_m, img_r.shape, preserve_range=True, order=1)\n",
    "    img_m = img_m.astype(img_r.dtype)"
   ]
  },
  {
   "cell_type": "code",
   "execution_count": null,
   "id": "e89a0c1179265cfa",
   "metadata": {
    "collapsed": false
   },
   "outputs": [],
   "source": [
    "# Print shapes\n",
    "print(\"Original image shape:\", img_r.shape)\n",
    "print(\"Modified shape:\", img_m.shape)"
   ]
  },
  {
   "cell_type": "markdown",
   "id": "e617e628e46f7f81",
   "metadata": {
    "collapsed": false
   },
   "source": "## Calculation"
  },
  {
   "cell_type": "markdown",
   "id": "6365bbfbe2df714c",
   "metadata": {
    "collapsed": false
   },
   "source": [
    "### PSNR\n",
    "Set the parameters for PSNR."
   ]
  },
  {
   "cell_type": "code",
   "execution_count": null,
   "id": "c8c5e608b61029de",
   "metadata": {
    "collapsed": false
   },
   "outputs": [],
   "source": [
    "# Change these parameters\n",
    "psnr_load_parameters = {\n",
    "    \"data_range\": 65535,\n",
    "    \"normalize\": False,\n",
    "    \"chromatic\": False,\n",
    "}"
   ]
  },
  {
   "cell_type": "code",
   "execution_count": null,
   "id": "e3a9439e178c1769",
   "metadata": {
    "collapsed": false
   },
   "outputs": [],
   "source": [
    "if calc_psnr:\n",
    "    metric_psnr_m = viqa.PSNR(**psnr_load_parameters)\n",
    "    metric_psnr_m.score(img_r, img_m)"
   ]
  },
  {
   "cell_type": "markdown",
   "id": "6718cd8aab415b75",
   "metadata": {
    "collapsed": false
   },
   "source": [
    "### RMSE\n",
    "Set the parameters for RMSE."
   ]
  },
  {
   "cell_type": "code",
   "execution_count": null,
   "id": "f2c5ff3aaf89ff16",
   "metadata": {
    "collapsed": false
   },
   "outputs": [],
   "source": [
    "# Change these parameters\n",
    "rmse_load_parameters = {\n",
    "    \"data_range\": 65535,\n",
    "    \"normalize\": False,\n",
    "    \"chromatic\": False,\n",
    "}"
   ]
  },
  {
   "cell_type": "code",
   "execution_count": null,
   "id": "837bf28490be1eb6",
   "metadata": {
    "collapsed": false
   },
   "outputs": [],
   "source": [
    "if calc_rmse:\n",
    "    metric_rmse_m = viqa.RMSE()\n",
    "    metric_rmse_m.score(img_r, img_m)"
   ]
  },
  {
   "cell_type": "markdown",
   "id": "9432a7770f3a7a09",
   "metadata": {
    "collapsed": false
   },
   "source": [
    "### SSIM\n",
    "Set the parameters for SSIM. Alpha, beta and gamma control the influence of the luminance, contrast and structure terms respectively. The final SSIM score is lower if one of these parameters is set to a higher value due to $SSIM = luminance ^ \\alpha \\times contrast ^ \\beta \\times structure ^ \\gamma$."
   ]
  },
  {
   "cell_type": "code",
   "execution_count": null,
   "id": "a80d29e96760ee77",
   "metadata": {
    "collapsed": false
   },
   "outputs": [],
   "source": [
    "# Change these parameters\n",
    "ssim_load_parameters = {\n",
    "    \"data_range\": 65535,\n",
    "    \"normalize\": False,\n",
    "    \"chromatic\": False,\n",
    "}\n",
    "ssim_calc_parameters = {\n",
    "    \"gaussian_weights\": True,\n",
    "    \"use_sample_covariance\": False,\n",
    "    \"sigma\": 1.5,\n",
    "    \"alpha\": 1,\n",
    "    \"beta\": 1,\n",
    "    \"gamma\": 1,\n",
    "}"
   ]
  },
  {
   "cell_type": "code",
   "execution_count": null,
   "id": "ee138fb7cda57474",
   "metadata": {
    "collapsed": false
   },
   "outputs": [],
   "source": [
    "if calc_ssim:\n",
    "    metric_ssim_m = viqa.SSIM(**ssim_load_parameters)\n",
    "    metric_ssim_m.score(img_r, img_m, **ssim_calc_parameters)"
   ]
  },
  {
   "cell_type": "markdown",
   "id": "2563782019240a34",
   "metadata": {
    "collapsed": false
   },
   "source": [
    "### MS-SSIM\n",
    "\n",
    "Set the parameters for MS-SSIM."
   ]
  },
  {
   "cell_type": "code",
   "execution_count": null,
   "id": "2ddac996f2adb678",
   "metadata": {
    "collapsed": false
   },
   "outputs": [],
   "source": [
    "# Change these parameters\n",
    "msssim_load_parameters = {\n",
    "    \"data_range\": 65535,\n",
    "    \"normalize\": False,\n",
    "    \"chromatic\": False,\n",
    "}\n",
    "msssim_calc_parameters = {\n",
    "    \"dim\": 1,\n",
    "}"
   ]
  },
  {
   "cell_type": "code",
   "execution_count": null,
   "id": "b07a5d83e8c5d05c",
   "metadata": {
    "collapsed": false
   },
   "outputs": [],
   "source": [
    "if calc_msssim:\n",
    "    metric_msssim_m = viqa.MSSSIM(**msssim_load_parameters)\n",
    "    metric_msssim_m.score(img_r, img_m, **msssim_calc_parameters)"
   ]
  },
  {
   "cell_type": "markdown",
   "id": "5aeb6934fb8becf8",
   "metadata": {
    "collapsed": false
   },
   "source": [
    "### FSIM\n",
    "Set the parameters for FSIM. The chromatic parameter can be set to true if the images are RGB images."
   ]
  },
  {
   "cell_type": "code",
   "execution_count": null,
   "id": "7ae02d334541334e",
   "metadata": {
    "collapsed": false
   },
   "outputs": [],
   "source": [
    "# Change these parameters\n",
    "fsim_load_parameters = {\n",
    "    \"data_range\": 65535,\n",
    "    \"normalize\": False,\n",
    "    \"chromatic\": False,\n",
    "}\n",
    "fsim_calc_parameters = {\n",
    "    \"dim\": 0,\n",
    "}"
   ]
  },
  {
   "cell_type": "code",
   "execution_count": null,
   "id": "6d30baa06d90bbb3",
   "metadata": {
    "collapsed": false
   },
   "outputs": [],
   "source": [
    "if calc_fsim:\n",
    "    metric_fsim_m = viqa.FSIM(**fsim_load_parameters)\n",
    "    metric_fsim_m.score(img_r, img_m, **fsim_calc_parameters)"
   ]
  },
  {
   "cell_type": "markdown",
   "id": "f453a99b5e4f93c4",
   "metadata": {
    "collapsed": false
   },
   "source": [
    "### VIFp\n",
    "Set the parameters for VIFp. The sigma_n_sq parameter can be set to adapt the metric for the variance of visual noise. This parameter is set to 3.2 per default and has to be changed according to the data. Currently, there is no recommendation how to set this parameter."
   ]
  },
  {
   "cell_type": "code",
   "execution_count": null,
   "id": "cd289fb4b648aaad",
   "metadata": {
    "collapsed": false
   },
   "outputs": [],
   "source": [
    "# Change these parameters\n",
    "vif_load_parameters = {\n",
    "    \"data_range\": 65535,\n",
    "    \"normalize\": False,\n",
    "    \"chromatic\": False,\n",
    "}\n",
    "vif_calc_parameters = {\n",
    "    \"dim\": 0,\n",
    "    \"sigma_n_sq\": 2,\n",
    "}"
   ]
  },
  {
   "cell_type": "code",
   "execution_count": null,
   "id": "5ba576aa1c6ba1da",
   "metadata": {
    "collapsed": false
   },
   "outputs": [],
   "source": [
    "if calc_vif:\n",
    "    metric_vifp_m = viqa.VIFp(**vif_load_parameters)\n",
    "    metric_vifp_m.score(img_r, img_m, **vif_calc_parameters)"
   ]
  },
  {
   "cell_type": "markdown",
   "id": "5fd3207fab1ddc2",
   "metadata": {
    "collapsed": false
   },
   "source": [
    "### VSI\n",
    "\n",
    "Set the parameters for VSI."
   ]
  },
  {
   "cell_type": "code",
   "execution_count": null,
   "id": "b6df73d0f9b5b010",
   "metadata": {
    "collapsed": false
   },
   "outputs": [],
   "source": [
    "# Change these parameters\n",
    "vsi_load_parameters = {\n",
    "    \"data_range\": 65535,\n",
    "    \"normalize\": False,\n",
    "    \"chromatic\": False,\n",
    "}\n",
    "vsi_calc_parameters = {\n",
    "    \"dim\": 0,\n",
    "}"
   ]
  },
  {
   "cell_type": "code",
   "execution_count": null,
   "id": "6a79221f81995381",
   "metadata": {
    "collapsed": false
   },
   "outputs": [],
   "source": [
    "if calc_vsi:\n",
    "    metric_vsi_m = viqa.VSI(**vsi_load_parameters)\n",
    "    metric_vsi_m.score(img_r, img_m, **vsi_calc_parameters)"
   ]
  },
  {
   "cell_type": "markdown",
   "id": "e1061bba37a0c7c4",
   "metadata": {
    "collapsed": false
   },
   "source": [
    "### MAD\n",
    "\n",
    "Set the parameters for MAD. "
   ]
  },
  {
   "cell_type": "code",
   "execution_count": null,
   "id": "c48e2a1d8411dc0e",
   "metadata": {
    "collapsed": false
   },
   "outputs": [],
   "source": [
    "# Change these parameters\n",
    "mad_load_parameters = {\n",
    "    \"data_range\": 65535,\n",
    "    \"normalize\": False,\n",
    "    \"chromatic\": False,\n",
    "}\n",
    "mad_calc_parameters = {\n",
    "    \"dim\": 0,\n",
    "    \"block_size\": 16,\n",
    "    \"block_overlap\": 0.75,\n",
    "    \"beta_1\": 0.467,\n",
    "    \"beta_2\": 0.130,\n",
    "    \"luminance_function\": {\"b\": 0, \"k\": 0.02874, \"gamma\": 2.2},\n",
    "    \"orientations_num\": 4,\n",
    "    \"scales_num\": 5,\n",
    "    \"weights\": [0.5, 0.75, 1, 5, 6],\n",
    "}"
   ]
  },
  {
   "cell_type": "code",
   "execution_count": null,
   "id": "e88214f7ddbb3012",
   "metadata": {
    "collapsed": false
   },
   "outputs": [],
   "source": [
    "if calc_mad:\n",
    "    metric_mad_m = viqa.MAD(**mad_load_parameters)\n",
    "    metric_mad_m.score(img_r, img_m, **mad_calc_parameters)"
   ]
  },
  {
   "cell_type": "markdown",
   "id": "6bff8ffc162dda6d",
   "metadata": {
    "collapsed": false
   },
   "source": [
    "### GSM\n",
    "\n",
    "Set the parameters for GSM."
   ]
  },
  {
   "cell_type": "code",
   "execution_count": null,
   "id": "8777e6e97cf5475e",
   "metadata": {
    "collapsed": false
   },
   "outputs": [],
   "source": [
    "# Change these parameters\n",
    "gsm_load_parameters = {\n",
    "    \"data_range\": 65535,\n",
    "    \"normalize\": False,\n",
    "    \"chromatic\": False,\n",
    "}\n",
    "gsm_calc_parameters = {\n",
    "    \"dim\": 0,\n",
    "    \"experimental\": False,\n",
    "    \"c\": 200,\n",
    "    \"p\": 0.1,\n",
    "}"
   ]
  },
  {
   "cell_type": "code",
   "execution_count": null,
   "id": "25fa6a9c370649e",
   "metadata": {
    "collapsed": false
   },
   "outputs": [],
   "source": [
    "if calc_gsm:\n",
    "    metric_gsm_m = viqa.GSM(**gsm_load_parameters)\n",
    "    metric_gsm_m.score(img_r, img_m, **gsm_calc_parameters)"
   ]
  },
  {
   "cell_type": "markdown",
   "id": "931cca0feb050f9c",
   "metadata": {
    "collapsed": false
   },
   "source": [
    "### CNR\n",
    "\n",
    "Set the parameters for CNR. Order for coordinate Tuples is (z, y, x)."
   ]
  },
  {
   "cell_type": "code",
   "execution_count": null,
   "id": "d57d56aab6228db8",
   "metadata": {},
   "outputs": [],
   "source": [
    "print(\"Shape of modified image:\", img_m.shape)"
   ]
  },
  {
   "cell_type": "code",
   "execution_count": null,
   "id": "c339f2f32ef4d30",
   "metadata": {
    "collapsed": false
   },
   "outputs": [],
   "source": [
    "# Change these parameters\n",
    "cnr_load_parameters = {\n",
    "    \"data_range\": 65535,\n",
    "    \"normalize\": False,\n",
    "    \"chromatic\": False,\n",
    "}\n",
    "cnr_calc_parameters = {\n",
    "    \"background_center\": (70, 70, 70),\n",
    "    \"signal_center\": (200, 200, 200),\n",
    "    \"radius\": 40,\n",
    "}"
   ]
  },
  {
   "cell_type": "code",
   "execution_count": null,
   "id": "6e7486e21ae53262",
   "metadata": {
    "collapsed": false
   },
   "outputs": [],
   "source": [
    "# Run this to visualize centers\n",
    "if calc_cnr:\n",
    "    metric_cnr_m = viqa.CNR(**cnr_load_parameters)\n",
    "    metric_cnr_r = viqa.CNR(**cnr_load_parameters)\n",
    "    metric_cnr_m.visualize_centers(img=img_m, signal_center=cnr_calc_parameters[\"signal_center\"], background_center=cnr_calc_parameters[\"background_center\"], radius=cnr_calc_parameters[\"radius\"])"
   ]
  },
  {
   "cell_type": "code",
   "execution_count": null,
   "id": "3e75bebcf3ce3871",
   "metadata": {
    "collapsed": false
   },
   "outputs": [],
   "source": [
    "if calc_cnr:\n",
    "    metric_cnr_m.score(img_m, **cnr_calc_parameters)\n",
    "    metric_cnr_r.score(img_r, **cnr_calc_parameters)"
   ]
  },
  {
   "cell_type": "markdown",
   "id": "1a6d693a4616c7ba",
   "metadata": {
    "collapsed": false
   },
   "source": [
    "### SNR\n",
    "\n",
    "Set the parameters for SNR. Order for coordinate Tuples is (z, y, x)."
   ]
  },
  {
   "cell_type": "code",
   "execution_count": null,
   "id": "6f24655094f7721b",
   "metadata": {},
   "outputs": [],
   "source": [
    "print(\"Shape of modified image:\", img_m.shape)"
   ]
  },
  {
   "cell_type": "code",
   "execution_count": null,
   "id": "7b971fb46e9bf692",
   "metadata": {
    "collapsed": false
   },
   "outputs": [],
   "source": [
    "# Change these parameters\n",
    "snr_load_parameters = {\n",
    "    \"data_range\": 65535,\n",
    "    \"normalize\": False,\n",
    "    \"chromatic\": False,\n",
    "}\n",
    "snr_calc_parameters = {\n",
    "    \"signal_center\": (200, 200, 220),\n",
    "    \"radius\": 40,\n",
    "}"
   ]
  },
  {
   "cell_type": "code",
   "execution_count": null,
   "id": "b28851f7647f1b68",
   "metadata": {
    "collapsed": false
   },
   "outputs": [],
   "source": [
    "# Run this to visualize center\n",
    "if calc_snr:\n",
    "    metric_snr_m = viqa.SNR(**snr_load_parameters)\n",
    "    metric_snr_r = viqa.SNR(**snr_load_parameters)\n",
    "    metric_snr_m.visualize_centers(img=img_m, signal_center=snr_calc_parameters[\"signal_center\"], radius=snr_calc_parameters[\"radius\"])"
   ]
  },
  {
   "cell_type": "code",
   "execution_count": null,
   "id": "ea51169748099e14",
   "metadata": {
    "collapsed": false
   },
   "outputs": [],
   "source": [
    "if calc_snr:\n",
    "    metric_snr_m.score(img_m, **snr_calc_parameters)\n",
    "    metric_snr_r.score(img_r, **snr_calc_parameters)"
   ]
  },
  {
   "cell_type": "markdown",
   "id": "428733e81d05d5dd",
   "metadata": {},
   "source": [
    "### Q-Measure\n",
    "\n",
    "Set the parameters for QMeasure."
   ]
  },
  {
   "cell_type": "code",
   "execution_count": null,
   "id": "1b67af0d650c5847",
   "metadata": {},
   "outputs": [],
   "source": [
    "# Change these parameters\n",
    "qmeasure_load_parameters = {\n",
    "    \"data_range\": 65535,\n",
    "    \"normalize\": False,\n",
    "    \"chromatic\": False,\n",
    "}\n",
    "qmeasure_calc_parameters = {\n",
    "    \"hist_bins\": 128,\n",
    "    \"num_peaks\": 2,\n",
    "}"
   ]
  },
  {
   "cell_type": "code",
   "execution_count": null,
   "id": "a063c5a42c8006d7",
   "metadata": {},
   "outputs": [],
   "source": [
    "if calc_qmeasure:\n",
    "    metric_qmeasure_m = viqa.QMeasure(**qmeasure_load_parameters)\n",
    "    metric_qmeasure_r = viqa.QMeasure(**qmeasure_load_parameters)\n",
    "    metric_qmeasure_m.score(img_m, **qmeasure_calc_parameters)\n",
    "    metric_qmeasure_r.score(img_r, **qmeasure_calc_parameters)"
   ]
  },
  {
   "cell_type": "markdown",
   "id": "1dfc727c2e9e37d7",
   "metadata": {},
   "source": "## Print values"
  },
  {
   "cell_type": "code",
   "execution_count": null,
   "id": "e33a06b794e5ec83",
   "metadata": {
    "collapsed": false
   },
   "outputs": [],
   "source": [
    "# Set the number of decimals to be printed\n",
    "decimals = 2"
   ]
  },
  {
   "cell_type": "code",
   "execution_count": null,
   "id": "4593ba3d3ba3ca77",
   "metadata": {
    "collapsed": false
   },
   "outputs": [],
   "source": [
    "metrics = []\n",
    "if calc_psnr:\n",
    "    metric_psnr_m.print_score(decimals)\n",
    "    metrics.append(metric_psnr_m)\n",
    "if calc_rmse:\n",
    "    metric_rmse_m.print_score(decimals)\n",
    "    metrics.append(metric_rmse_m)\n",
    "if calc_ssim:\n",
    "    metric_ssim_m.print_score(decimals)\n",
    "    metrics.append(metric_ssim_m)\n",
    "if calc_msssim:\n",
    "    metric_msssim_m.print_score(decimals)\n",
    "    metrics.append(metric_msssim_m)\n",
    "if calc_fsim:\n",
    "    metric_fsim_m.print_score(decimals)\n",
    "    metrics.append(metric_fsim_m)\n",
    "if calc_vif:\n",
    "    metric_vifp_m.print_score(decimals)\n",
    "    metrics.append(metric_vifp_m)\n",
    "if calc_vsi:\n",
    "    metric_vsi_m.print_score(decimals)\n",
    "    metrics.append(metric_vsi_m)\n",
    "if calc_mad:\n",
    "    metric_mad_m.print_score(decimals)\n",
    "    metrics.append(metric_mad_m)\n",
    "if calc_gsm:\n",
    "    metric_gsm_m.print_score(decimals)\n",
    "    metrics.append(metric_gsm_m)\n",
    "if calc_cnr:\n",
    "    print(\"Reference image:\", end=\" \")\n",
    "    metric_cnr_r.print_score(decimals)\n",
    "    print(\"Modified image:\", end=\" \")\n",
    "    metric_cnr_m.print_score(decimals)\n",
    "    metrics.append(metric_cnr_r)\n",
    "    metrics.append(metric_cnr_m)\n",
    "if calc_snr:\n",
    "    print(\"Reference image:\", end=\" \")\n",
    "    metric_snr_r.print_score(decimals)\n",
    "    print(\"Modified image:\", end=\" \")\n",
    "    metric_snr_m.print_score(decimals)\n",
    "    metrics.append(metric_snr_r)\n",
    "    metrics.append(metric_snr_m)\n",
    "if calc_qmeasure:\n",
    "    print(\"Reference image:\", end=\" \")\n",
    "    metric_qmeasure_r.print_score(decimals)\n",
    "    print(\"Modified image:\", end=\" \")\n",
    "    metric_qmeasure_m.print_score(decimals)\n",
    "    metrics.append(metric_qmeasure_r)\n",
    "    metrics.append(metric_qmeasure_m)"
   ]
  },
  {
   "cell_type": "markdown",
   "id": "9efb28dc93fcf719",
   "metadata": {
    "collapsed": false
   },
   "source": [
    "## Plotting"
   ]
  },
  {
   "cell_type": "code",
   "execution_count": null,
   "id": "44d7d3f77e287cff",
   "metadata": {
    "collapsed": false
   },
   "outputs": [],
   "source": [
    "print(\"Shape of reference image:\", img_r.shape)"
   ]
  },
  {
   "cell_type": "code",
   "execution_count": null,
   "id": "9bb2814655e16bad",
   "metadata": {
    "collapsed": false
   },
   "outputs": [],
   "source": [
    "# Set the area to be plotted (two dimensions have to be given as range, the third value is the slice to be plotted)\n",
    "x = None\n",
    "x_1 = 0\n",
    "x_2 = 400\n",
    "\n",
    "y = 200\n",
    "y_1 = None\n",
    "y_2 = None\n",
    "\n",
    "z = None\n",
    "z_1 = 0\n",
    "z_2 = 400"
   ]
  },
  {
   "cell_type": "code",
   "execution_count": null,
   "id": "79bb1ae496dafe78",
   "metadata": {
    "collapsed": false
   },
   "outputs": [],
   "source": [
    "if x is not None:\n",
    "    img_r_plot = np.rot90(img_r[z_1:z_2, y_1:y_2, x], 2)\n",
    "    img_m_plot = np.rot90(img_m[z_1:z_2, y_1:y_2, x], 2)\n",
    "elif y is not None:\n",
    "    img_r_plot = np.rot90(img_r[z_1:z_2, y, x_1:x_2], 2)\n",
    "    img_m_plot = np.rot90(img_m[z_1:z_2, y, x_1:x_2], 2)\n",
    "elif z is not None:\n",
    "    img_r_plot = np.rot90(img_r[z_1:z_2, y_1:y_2, x], 2)\n",
    "    img_m_plot = np.rot90(img_m[z_1:z_2, y_1:y_2, x], 2)\n",
    "else:\n",
    "    raise Exception(\"Area to be plotted was not correctly specified\")"
   ]
  },
  {
   "cell_type": "code",
   "execution_count": null,
   "id": "2357d6b124cc2c54",
   "metadata": {
    "collapsed": false
   },
   "outputs": [],
   "source": [
    "fig, axs = plt.subplots(1, 2, dpi=300)\n",
    "axs[0].imshow(img_r_plot, cmap=\"gray\")\n",
    "axs[1].imshow(img_m_plot, cmap=\"gray\")\n",
    "\n",
    "fig.suptitle(\"Image Comparison and IQA metric values\", y=0.92)\n",
    "axs[0].set_title(\"Reference image\")\n",
    "axs[1].set_title(\"Modified image\")\n",
    "\n",
    "if calc_psnr:\n",
    "    fig.text(0.2, 0.09, f\"RMSE: {metric_rmse_m.score_val:.2f}\", ha=\"center\", fontsize=8)\n",
    "if calc_rmse:\n",
    "    fig.text(\n",
    "        0.2, 0.06, f\"PSNR: {metric_psnr_m.score_val:.2f} dB\", ha=\"center\", fontsize=8\n",
    "    )\n",
    "if calc_ssim:\n",
    "    fig.text(0.2, 0.03, f\"SSIM: {metric_ssim_m.score_val:.2f}\", ha=\"center\", fontsize=8)\n",
    "if calc_msssim:\n",
    "    fig.text(\n",
    "        0.2, 0.00, f\"MS-SSIM: {metric_msssim_m.score_val:.2f}\", ha=\"center\", fontsize=8\n",
    "    )\n",
    "if calc_fsim:\n",
    "    fig.text(0.4, 0.09, f\"FSIM: {metric_fsim_m.score_val:.2f}\", ha=\"center\", fontsize=8)\n",
    "if calc_vif:\n",
    "    fig.text(0.4, 0.06, f\"VIFp: {metric_vifp_m.score_val:.2f}\", ha=\"center\", fontsize=8)\n",
    "if calc_vsi:\n",
    "    fig.text(0.4, 0.03, f\"VSI: {metric_vsi_m.score_val:.2f}\", ha=\"center\", fontsize=8)\n",
    "if calc_mad:\n",
    "    fig.text(0.4, 0.00, f\"MAD: {metric_mad_m.score_val:.2f}\", ha=\"center\", fontsize=8)\n",
    "if calc_gsm:\n",
    "    fig.text(0.6, 0.09, f\"GSM: {metric_gsm_m.score_val:.2f}\", ha=\"center\", fontsize=8)\n",
    "if calc_cnr:\n",
    "    fig.text(0.8, 0.09, f\"CNR_r: {metric_cnr_r.score_val:.2f}\", ha=\"center\", fontsize=8)\n",
    "    fig.text(0.8, 0.06, f\"CNR_m: {metric_cnr_m.score_val:.2f}\", ha=\"center\", fontsize=8)\n",
    "if calc_snr:\n",
    "    fig.text(0.8, 0.03, f\"SNR_r: {metric_snr_r.score_val:.2f}\", ha=\"center\", fontsize=8)\n",
    "    fig.text(0.8, 0.00, f\"SNR_m: {metric_snr_m.score_val:.2f}\", ha=\"center\", fontsize=8)\n",
    "if calc_qmeasure:\n",
    "    fig.text(0.8, -0.03, f\"QMeasure_r: {metric_qmeasure_r.score_val:.2f}\", ha=\"center\", fontsize=8)\n",
    "    fig.text(0.8, -0.06, f\"QMeasure_m: {metric_qmeasure_m.score_val:.2f}\", ha=\"center\", fontsize=8)\n",
    "\n",
    "axs[0].axis(\"off\")\n",
    "axs[1].axis(\"off\")\n",
    "\n",
    "# Export image\n",
    "plt.savefig(\"export_folder/image.png\", bbox_inches=\"tight\", pad_inches=0.5)"
   ]
  },
  {
   "cell_type": "code",
   "execution_count": null,
   "id": "12deaaf589d234c7",
   "metadata": {},
   "outputs": [],
   "source": [
    "# Export csv\n",
    "export_csv(metrics, \"export_folder\", \"all_values.csv\")"
   ]
  }
 ],
 "metadata": {
  "kernelspec": {
   "display_name": "Python 3 (ipykernel)",
   "language": "python",
   "name": "python3"
  },
  "language_info": {
   "codemirror_mode": {
    "name": "ipython",
    "version": 3
   },
   "file_extension": ".py",
   "mimetype": "text/x-python",
   "name": "python",
   "nbconvert_exporter": "python",
   "pygments_lexer": "ipython3",
   "version": "3.11.7"
  }
 },
 "nbformat": 4,
 "nbformat_minor": 5
}
