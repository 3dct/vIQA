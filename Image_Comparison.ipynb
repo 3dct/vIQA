{
 "cells": [
  {
   "cell_type": "markdown",
   "source": [
    "# Image Comparison with Image Quality Assessment (IQA)\n",
    "\n",
    "This notebook can be used to compare two images / volumes using different IQA metrics. The metrics used are:\n",
    "- Peak Signal to Noise Ratio (PSNR)\n",
    "- Root Mean Square Error (RMSE)\n",
    "- Structured Similarity (SSIM)\n",
    "- Multi-Scale Structural Similarity (MS-SSIM) [can only be used for 2D images]\n",
    "- Feature Similarity Index (FSIM) [can only be used for 2D images]\n",
    "- Visual Information Fidelity in **pixel** domain (VIFp) [can only be used for 2D images]\n",
    "\n",
    "The calculated values for VIFp, SSIM, MS-SSIM are probably not correct in this implementation. Those values should be treated with caution.\n",
    "\n",
    "The metrics are implemented to calculate the scores for a 8 bit data range (0-255) per default. The data range can be changed by setting the `data_range` variable for each metric. Images are first loaded from .raw files or .mhd files and their corresponding .raw file, normalized to the chosen data range and then compared. The scores are then calculated and printed. The images are plotted to visually compare them. File names need to be given with the bit depth denoted as a suffix (e.g. _8bit.raw, _16bit.mhd) and the dimensions of the images need to be given in the file name (e.g. _512x512x512_). The images are assumed to be grayscale.\n",
    "\n",
    "To use this notebook, first set the filepaths and parameters, the press 'Run All'.\n",
    "\n",
    "The following packages have to be installed:\n",
    "- numpy\n",
    "- matplotlib\n",
    "- pytorch\n",
    "- piq\n",
    "- scikit-image"
   ],
   "metadata": {
    "collapsed": false
   },
   "id": "dbfbd578d49a38d0"
  },
  {
   "cell_type": "markdown",
   "source": [
    "## Import"
   ],
   "metadata": {
    "collapsed": false
   },
   "id": "ee163c128ab8a140"
  },
  {
   "cell_type": "code",
   "execution_count": 2,
   "outputs": [],
   "source": [
    "import psnr, rmse, fsim, vif, ssim, msssim\n",
    "from utils import load_data\n",
    "import matplotlib.pyplot as plt"
   ],
   "metadata": {
    "collapsed": false,
    "ExecuteTime": {
     "end_time": "2024-01-03T14:27:00.895864100Z",
     "start_time": "2024-01-03T14:27:00.893866800Z"
    }
   },
   "id": "8b30993f21ffe82a"
  },
  {
   "cell_type": "markdown",
   "source": [
    "## Data Loading and Setup"
   ],
   "metadata": {
    "collapsed": false
   },
   "id": "69ff12aea8759add"
  },
  {
   "cell_type": "code",
   "execution_count": 3,
   "outputs": [],
   "source": [
    "# Change these filepaths to your images (_r = reference, _m = modified)\n",
    "file_path_img_r = '../samples/Catec_Two_PlateIQI_20um/Catec_Two_PlateIQI_20um_1620proj_220kV_Rayscan-SimCT_800x800x1000_16bit.raw'\n",
    "file_path_img_m = '../samples/Catec_Two_PlateIQI_20um/Catec_Two_PlateIQI_20um_810proj_220kV_Rayscan-SimCT_800x800x1000_16bit.raw'\n",
    "\n",
    "# Set these to true if you want to calculate the denominated metric for your data\n",
    "calc_psnr = True\n",
    "calc_rmse = True\n",
    "calc_ssim = True\n",
    "calc_fsim = False\n",
    "calc_vif = False"
   ],
   "metadata": {
    "collapsed": false,
    "ExecuteTime": {
     "end_time": "2024-01-03T14:27:02.708268400Z",
     "start_time": "2024-01-03T14:27:02.701137700Z"
    }
   },
   "id": "36f7eb7789883375"
  },
  {
   "cell_type": "code",
   "execution_count": 4,
   "outputs": [],
   "source": [
    "# Data loading\n",
    "img_r = load_data(file_path_img_r)\n",
    "img_m = load_data(file_path_img_m)"
   ],
   "metadata": {
    "collapsed": false,
    "ExecuteTime": {
     "end_time": "2024-01-03T14:27:33.309335900Z",
     "start_time": "2024-01-03T14:27:04.288028900Z"
    }
   },
   "id": "884b9afda6d9061d"
  },
  {
   "cell_type": "markdown",
   "source": [
    "## Calculation"
   ],
   "metadata": {
    "collapsed": false
   },
   "id": "e617e628e46f7f81"
  },
  {
   "cell_type": "markdown",
   "source": [
    "### PSNR\n",
    "Set the parameters for PSNR. The data range is set to 255 per default."
   ],
   "metadata": {
    "collapsed": false
   },
   "id": "6365bbfbe2df714c"
  },
  {
   "cell_type": "code",
   "execution_count": 5,
   "outputs": [],
   "source": [
    "# Change this parameter\n",
    "psnr_data_range = 255"
   ],
   "metadata": {
    "collapsed": false,
    "ExecuteTime": {
     "end_time": "2024-01-03T14:28:13.198919100Z",
     "start_time": "2024-01-03T14:28:13.196484100Z"
    }
   },
   "id": "c8c5e608b61029de"
  },
  {
   "cell_type": "code",
   "execution_count": 6,
   "outputs": [],
   "source": [
    "if calc_psnr:\n",
    "    metric_psnr_m = psnr.PSNR(data_range=psnr_data_range)\n",
    "    metric_psnr_m.score(img_r, img_m)"
   ],
   "metadata": {
    "collapsed": false,
    "ExecuteTime": {
     "end_time": "2024-01-03T14:28:53.689706400Z",
     "start_time": "2024-01-03T14:28:13.200941500Z"
    }
   },
   "id": "e3a9439e178c1769"
  },
  {
   "cell_type": "markdown",
   "source": [
    "### RMSE\n",
    "The RMSE metric does not need any parameters."
   ],
   "metadata": {
    "collapsed": false
   },
   "id": "6718cd8aab415b75"
  },
  {
   "cell_type": "code",
   "execution_count": 7,
   "outputs": [],
   "source": [
    "if calc_rmse:\n",
    "    metric_rmse_m = rmse.RMSE(data_range=255)\n",
    "    metric_rmse_m.score(img_r, img_m)"
   ],
   "metadata": {
    "collapsed": false,
    "ExecuteTime": {
     "end_time": "2024-01-03T14:29:23.357933300Z",
     "start_time": "2024-01-03T14:28:58.832033300Z"
    }
   },
   "id": "837bf28490be1eb6"
  },
  {
   "cell_type": "markdown",
   "source": [
    "### SSIM\n",
    "Set the parameters for SSIM. The data range is set to 255 per default."
   ],
   "metadata": {
    "collapsed": false
   },
   "id": "9432a7770f3a7a09"
  },
  {
   "cell_type": "code",
   "execution_count": 8,
   "outputs": [],
   "source": [
    "ssim_data_range = 255"
   ],
   "metadata": {
    "collapsed": false,
    "ExecuteTime": {
     "end_time": "2024-01-03T14:29:42.944484300Z",
     "start_time": "2024-01-03T14:29:42.911070500Z"
    }
   },
   "id": "a80d29e96760ee77"
  },
  {
   "cell_type": "code",
   "execution_count": 9,
   "outputs": [
    {
     "ename": "MemoryError",
     "evalue": "Unable to allocate 4.77 GiB for an array with shape (1000, 800, 800) and data type float64",
     "output_type": "error",
     "traceback": [
      "\u001B[1;31m---------------------------------------------------------------------------\u001B[0m",
      "\u001B[1;31mMemoryError\u001B[0m                               Traceback (most recent call last)",
      "Cell \u001B[1;32mIn[9], line 3\u001B[0m\n\u001B[0;32m      1\u001B[0m \u001B[38;5;28;01mif\u001B[39;00m calc_ssim:\n\u001B[0;32m      2\u001B[0m     metric_ssim_m \u001B[38;5;241m=\u001B[39m ssim\u001B[38;5;241m.\u001B[39mSSIM(data_range\u001B[38;5;241m=\u001B[39mssim_data_range)\n\u001B[1;32m----> 3\u001B[0m     metric_ssim_m\u001B[38;5;241m.\u001B[39mscore(img_r, img_m)\n",
      "File \u001B[1;32mZ:\\CT-Student\\LBehammer\\IQA_Library\\ssim.py:28\u001B[0m, in \u001B[0;36mSSIM.score\u001B[1;34m(self, img_r, img_m, **kwargs)\u001B[0m\n\u001B[0;32m     20\u001B[0m \u001B[38;5;250m\u001B[39m\u001B[38;5;124;03m\"\"\"\u001B[39;00m\n\u001B[0;32m     21\u001B[0m \u001B[38;5;124;03mCalculates the structural similarity index (SSIM) between two images.\u001B[39;00m\n\u001B[0;32m     22\u001B[0m \u001B[38;5;124;03m:param img_r: Reference image\u001B[39;00m\n\u001B[0;32m     23\u001B[0m \u001B[38;5;124;03m:param img_m: Modified image\u001B[39;00m\n\u001B[0;32m     24\u001B[0m \u001B[38;5;124;03m:return: Score value\u001B[39;00m\n\u001B[0;32m     25\u001B[0m \u001B[38;5;124;03m\"\"\"\u001B[39;00m\n\u001B[0;32m     26\u001B[0m img_r, img_m \u001B[38;5;241m=\u001B[39m check_imgs(img_r, img_m, data_range\u001B[38;5;241m=\u001B[39m\u001B[38;5;28mself\u001B[39m\u001B[38;5;241m.\u001B[39m_parameters[\u001B[38;5;124m'\u001B[39m\u001B[38;5;124mdata_range\u001B[39m\u001B[38;5;124m'\u001B[39m],\n\u001B[0;32m     27\u001B[0m                           normalize\u001B[38;5;241m=\u001B[39m\u001B[38;5;28mself\u001B[39m\u001B[38;5;241m.\u001B[39m_parameters[\u001B[38;5;124m'\u001B[39m\u001B[38;5;124mnormalize\u001B[39m\u001B[38;5;124m'\u001B[39m], batch\u001B[38;5;241m=\u001B[39m\u001B[38;5;28mself\u001B[39m\u001B[38;5;241m.\u001B[39m_parameters[\u001B[38;5;124m'\u001B[39m\u001B[38;5;124mbatch\u001B[39m\u001B[38;5;124m'\u001B[39m])\n\u001B[1;32m---> 28\u001B[0m score_val \u001B[38;5;241m=\u001B[39m structural_similarity(img_r, img_m, data_range\u001B[38;5;241m=\u001B[39m\u001B[38;5;28mself\u001B[39m\u001B[38;5;241m.\u001B[39m_parameters[\u001B[38;5;124m'\u001B[39m\u001B[38;5;124mdata_range\u001B[39m\u001B[38;5;124m'\u001B[39m], \u001B[38;5;241m*\u001B[39m\u001B[38;5;241m*\u001B[39mkwargs)\n\u001B[0;32m     29\u001B[0m \u001B[38;5;28mself\u001B[39m\u001B[38;5;241m.\u001B[39mscore_val \u001B[38;5;241m=\u001B[39m score_val\n\u001B[0;32m     30\u001B[0m \u001B[38;5;28;01mreturn\u001B[39;00m score_val\n",
      "File \u001B[1;32m~\\.conda\\envs\\IQA_Library\\Lib\\site-packages\\skimage\\metrics\\_structural_similarity.py:248\u001B[0m, in \u001B[0;36mstructural_similarity\u001B[1;34m(im1, im2, win_size, gradient, data_range, channel_axis, gaussian_weights, full, **kwargs)\u001B[0m\n\u001B[0;32m    243\u001B[0m C1 \u001B[38;5;241m=\u001B[39m (K1 \u001B[38;5;241m*\u001B[39m R) \u001B[38;5;241m*\u001B[39m\u001B[38;5;241m*\u001B[39m \u001B[38;5;241m2\u001B[39m\n\u001B[0;32m    244\u001B[0m C2 \u001B[38;5;241m=\u001B[39m (K2 \u001B[38;5;241m*\u001B[39m R) \u001B[38;5;241m*\u001B[39m\u001B[38;5;241m*\u001B[39m \u001B[38;5;241m2\u001B[39m\n\u001B[0;32m    246\u001B[0m A1, A2, B1, B2 \u001B[38;5;241m=\u001B[39m ((\u001B[38;5;241m2\u001B[39m \u001B[38;5;241m*\u001B[39m ux \u001B[38;5;241m*\u001B[39m uy \u001B[38;5;241m+\u001B[39m C1,\n\u001B[0;32m    247\u001B[0m                    \u001B[38;5;241m2\u001B[39m \u001B[38;5;241m*\u001B[39m vxy \u001B[38;5;241m+\u001B[39m C2,\n\u001B[1;32m--> 248\u001B[0m                    ux \u001B[38;5;241m*\u001B[39m\u001B[38;5;241m*\u001B[39m \u001B[38;5;241m2\u001B[39m \u001B[38;5;241m+\u001B[39m uy \u001B[38;5;241m*\u001B[39m\u001B[38;5;241m*\u001B[39m \u001B[38;5;241m2\u001B[39m \u001B[38;5;241m+\u001B[39m C1,\n\u001B[0;32m    249\u001B[0m                    vx \u001B[38;5;241m+\u001B[39m vy \u001B[38;5;241m+\u001B[39m C2))\n\u001B[0;32m    250\u001B[0m D \u001B[38;5;241m=\u001B[39m B1 \u001B[38;5;241m*\u001B[39m B2\n\u001B[0;32m    251\u001B[0m S \u001B[38;5;241m=\u001B[39m (A1 \u001B[38;5;241m*\u001B[39m A2) \u001B[38;5;241m/\u001B[39m D\n",
      "\u001B[1;31mMemoryError\u001B[0m: Unable to allocate 4.77 GiB for an array with shape (1000, 800, 800) and data type float64"
     ]
    }
   ],
   "source": [
    "if calc_ssim:\n",
    "    metric_ssim_m = ssim.SSIM(data_range=ssim_data_range)\n",
    "    metric_ssim_m.score(img_r, img_m)"
   ],
   "metadata": {
    "collapsed": false,
    "ExecuteTime": {
     "end_time": "2024-01-03T14:37:59.944242400Z",
     "start_time": "2024-01-03T14:29:44.465975600Z"
    }
   },
   "id": "ee138fb7cda57474"
  },
  {
   "cell_type": "markdown",
   "source": [
    "### FSIM\n",
    "Set the parameters for FSIM. The data range is set to 255 per default. The chromatic parameter can be set to true if the images are RGB images."
   ],
   "metadata": {
    "collapsed": false
   },
   "id": "5aeb6934fb8becf8"
  },
  {
   "cell_type": "code",
   "execution_count": 10,
   "outputs": [],
   "source": [
    "# Change these parameters\n",
    "fsim_data_range = 255\n",
    "fsim_parameters = {'chromatic': False}"
   ],
   "metadata": {
    "collapsed": false,
    "ExecuteTime": {
     "end_time": "2024-01-03T14:43:07.249341Z",
     "start_time": "2024-01-03T14:43:07.238860900Z"
    }
   },
   "id": "7ae02d334541334e"
  },
  {
   "cell_type": "code",
   "execution_count": 11,
   "outputs": [],
   "source": [
    "if calc_fsim:\n",
    "    if len(img_r.shape) == 2:\n",
    "        metric_fsim_m = fsim.FSIM(fsim_parameters, data_range=fsim_data_range)\n",
    "        metric_fsim_m.score(img_r, img_m)\n",
    "    else:\n",
    "        print('FSIM can only be used for 2D images')"
   ],
   "metadata": {
    "collapsed": false,
    "ExecuteTime": {
     "end_time": "2024-01-03T14:43:09.389167700Z",
     "start_time": "2024-01-03T14:43:09.379344900Z"
    }
   },
   "id": "6d30baa06d90bbb3"
  },
  {
   "cell_type": "markdown",
   "source": [
    "### VIFp\n",
    "Set the parameters for VIFp. The data range is set to 255 per default. The sigma_n_sq parameter can be set to adapt the metric for the variance of visual noise. This parameter is set to 3.2 per default and has to be changed according to the data. Currently there is no recommendation how to set this parameter."
   ],
   "metadata": {
    "collapsed": false
   },
   "id": "f453a99b5e4f93c4"
  },
  {
   "cell_type": "code",
   "execution_count": 12,
   "outputs": [],
   "source": [
    "# Change these parameters\n",
    "vif_data_range = 255\n",
    "vif_parameters = {'sigma_n_sq': 3.2}"
   ],
   "metadata": {
    "collapsed": false,
    "ExecuteTime": {
     "end_time": "2024-01-03T14:43:11.799459700Z",
     "start_time": "2024-01-03T14:43:11.795531100Z"
    }
   },
   "id": "cd289fb4b648aaad"
  },
  {
   "cell_type": "code",
   "execution_count": 13,
   "outputs": [],
   "source": [
    "if calc_vif:\n",
    "    if len(img_r.shape) == 2:\n",
    "        metric_vifp_m = vif.VIFp(vif_parameters, data_range=255)\n",
    "        metric_vifp_m.score(img_r, img_m)\n",
    "    else:\n",
    "        raise Exception('VIFp can only be used for 2D images')"
   ],
   "metadata": {
    "collapsed": false,
    "ExecuteTime": {
     "end_time": "2024-01-03T14:43:13.686850900Z",
     "start_time": "2024-01-03T14:43:13.685347500Z"
    }
   },
   "id": "5ba576aa1c6ba1da"
  },
  {
   "cell_type": "code",
   "execution_count": 14,
   "outputs": [],
   "source": [
    "# Set the number of decimals to be printed\n",
    "decimals = 2"
   ],
   "metadata": {
    "collapsed": false,
    "ExecuteTime": {
     "end_time": "2024-01-03T14:43:15.936592100Z",
     "start_time": "2024-01-03T14:43:15.924073100Z"
    }
   },
   "id": "e33a06b794e5ec83"
  },
  {
   "cell_type": "code",
   "execution_count": 15,
   "outputs": [
    {
     "name": "stdout",
     "output_type": "stream",
     "text": [
      "PSNR: 29.86\n",
      "RMSE: 8.19\n",
      "No score value for SSIM. Run score() first.\n"
     ]
    }
   ],
   "source": [
    "if calc_psnr:\n",
    "    metric_psnr_m.print_score(decimals)\n",
    "if calc_rmse:\n",
    "    metric_rmse_m.print_score(decimals)\n",
    "if calc_ssim:\n",
    "    metric_ssim_m.print_score(decimals)\n",
    "if calc_fsim:\n",
    "    metric_fsim_m.print_score(decimals)\n",
    "if calc_vif:\n",
    "    metric_vifp_m.print_score(decimals)"
   ],
   "metadata": {
    "collapsed": false,
    "ExecuteTime": {
     "end_time": "2024-01-03T14:43:17.780875200Z",
     "start_time": "2024-01-03T14:43:17.775640600Z"
    }
   },
   "id": "4593ba3d3ba3ca77"
  },
  {
   "cell_type": "markdown",
   "source": [
    "## Plotting"
   ],
   "metadata": {
    "collapsed": false
   },
   "id": "9efb28dc93fcf719"
  },
  {
   "cell_type": "code",
   "execution_count": null,
   "outputs": [],
   "source": [
    "print('Shape of reference image:', img_r.shape)"
   ],
   "metadata": {
    "collapsed": false,
    "ExecuteTime": {
     "start_time": "2024-01-03T10:35:23.240667600Z"
    }
   },
   "id": "44d7d3f77e287cff"
  },
  {
   "cell_type": "code",
   "execution_count": null,
   "outputs": [],
   "source": [
    "# Set the area to be plotted (two dimensions have to be given as range, the third value is the slice to be plotted)\n",
    "x = None\n",
    "x_1 = 0\n",
    "x_2 = 1000\n",
    "\n",
    "y = 200\n",
    "y_1 = None\n",
    "y_2 = None\n",
    "\n",
    "z = None\n",
    "z_1 = 0\n",
    "z_2 = 800"
   ],
   "metadata": {
    "collapsed": false,
    "ExecuteTime": {
     "start_time": "2024-01-03T10:35:23.240667600Z"
    }
   },
   "id": "9bb2814655e16bad"
  },
  {
   "cell_type": "code",
   "execution_count": null,
   "outputs": [],
   "source": [
    "if x is not None:\n",
    "    img_r_plot = img_r[x, y_1:y_2, z_1:z_2]\n",
    "    img_m_plot = img_m[x, y_1:y_2, z_1:z_2]\n",
    "elif y is not None:\n",
    "    img_r_plot = img_r[x_1:x_2, y, z_1:z_2]\n",
    "    img_m_plot = img_m[x_1:x_2, y, z_1:z_2]\n",
    "elif z is not None:\n",
    "    img_r_plot = img_r[x_1:x_2, y_1:y_2, z]\n",
    "    img_m_plot = img_m[x_1:x_2, y_1:y_2, z]\n",
    "else:\n",
    "    raise Exception('Area to be plotted was not correctly specified')"
   ],
   "metadata": {
    "collapsed": false,
    "ExecuteTime": {
     "end_time": "2024-01-03T10:35:23.283560200Z",
     "start_time": "2024-01-03T10:35:23.255627300Z"
    }
   },
   "id": "79bb1ae496dafe78"
  },
  {
   "cell_type": "code",
   "execution_count": null,
   "outputs": [],
   "source": [
    "fig, axs = plt.subplots(1,2, dpi=300)\n",
    "axs[0].imshow(img_r_plot, cmap=\"gray\")\n",
    "axs[1].imshow(img_m_plot, cmap=\"gray\")\n",
    "\n",
    "fig.suptitle('Image Comparison and IQA metric values', y=0.92)\n",
    "axs[0].set_title('Reference image')\n",
    "axs[1].set_title('Modified image')\n",
    "\n",
    "if calc_psnr:\n",
    "    fig.text(0.5, 0.12, f'RMSE: {metric_rmse_m.score_val:.2f}', ha='center', fontsize=8)\n",
    "if calc_rmse:\n",
    "    fig.text(0.5, 0.09, f'PSNR: {metric_psnr_m.score_val:.2f} dB', ha='center', fontsize=8)\n",
    "if calc_ssim:\n",
    "    fig.text(0.5, 0.06, f'SSIM: {metric_ssim_m.score_val:.2f}', ha='center', fontsize=8)\n",
    "if calc_fsim:\n",
    "    fig.text(0.5, 0.03, f'FSIM: {metric_fsim_m.score_val:.2f}', ha='center', fontsize=8)\n",
    "if calc_vif:\n",
    "    fig.text(0.5, 0.00, f'VIFp: {metric_vifp_m.score_val:.2f}', ha='center', fontsize=8)\n",
    "    \n",
    "axs[0].axis('off')\n",
    "axs[1].axis('off');"
   ],
   "metadata": {
    "collapsed": false,
    "ExecuteTime": {
     "start_time": "2024-01-03T10:35:23.255627300Z"
    }
   },
   "id": "2357d6b124cc2c54"
  }
 ],
 "metadata": {
  "kernelspec": {
   "display_name": "Python 3",
   "language": "python",
   "name": "python3"
  },
  "language_info": {
   "codemirror_mode": {
    "name": "ipython",
    "version": 2
   },
   "file_extension": ".py",
   "mimetype": "text/x-python",
   "name": "python",
   "nbconvert_exporter": "python",
   "pygments_lexer": "ipython2",
   "version": "2.7.6"
  }
 },
 "nbformat": 4,
 "nbformat_minor": 5
}
