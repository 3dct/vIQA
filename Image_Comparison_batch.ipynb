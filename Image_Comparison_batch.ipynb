{
 "cells": [
  {
   "cell_type": "markdown",
   "id": "fb9ba7d0195dd546",
   "metadata": {
    "collapsed": false
   },
   "source": [
    "# Image Comparison with Image Quality Assessment (IQA) &mdash; Batch Mode\n",
    "\n",
    "This notebook can be used to compare two images / volumes using different IQA metrics. The metrics used are:\n",
    "\n",
    "| Metric    | Name                                          | Type | Dimensional behaviour | Colour Behaviour | Range              | Tested   | Validated |\n",
    "|-----------|-----------------------------------------------|------|-----------------------|------------------|--------------------|----------|-----------|\n",
    "| PSNR      | Peak Signal to Noise Ratio                    | FR   | 3D native             | OK               | $[0, \\infty)$      | OK       | OK        |\n",
    "| RMSE      | Root Mean Square Error                        | FR   | 3D native             | OK               | $(\\infty, 0]$      | OK       | OK        |\n",
    "| SSIM      | Structured Similarity                         | FR   | 3D native             | (OK) [^a]        | $[-1, 1]$ [^b]     | OK       | OK        |\n",
    "| MS-SSIM   | Multi-Scale Structural Similarity             | FR   | 3D slicing            | ?                | $[0, 1]$           | x        | OK        |\n",
    "| FSIM      | Feature Similarity Index                      | FR   | 3D slicing            | OK               | $[0, 1]$           | OK       | OK        |\n",
    "| VIFp      | Visual Information Fidelity in *pixel* domain | FR   | 3D slicing            | ?                | $[0, \\infty)$ [^c] | x        | x         |\n",
    "| VSI       | Visual Saliency Index                         | FR   | 3D slicing            | OK [^d]          | $[0, 1]$           | x        | x         |\n",
    "| MAD       | Most Apparent Distortion                      | FR   | 3D slicing            |                  | $[0, \\infty)$      | OK       | x         |\n",
    "| GSM       | Gradient Similarity                           | FR   | 3D native or slicing  |                  | $[0, 1]$           | x        | x         |\n",
    "| CNR       | Contrast to Noise Ratio                       | NR   | 3D native             |                  | $[0, \\infty)$      | OK       | x         |\n",
    "| SNR       | Signal to Noise Ratio                         | NR   | 3D native             | OK               | $[0, \\infty)$      | OK       | x         |\n",
    "| Q-Measure | Q-Measure                                     | NR   | 3D only [^e]          | x                | $[0, \\infty)$      | x        | x         |\n",
    "\n",
    "**Important Notes:**\n",
    "The calculated values for VIFp are probably not correct in this implementation. Those values should be treated with caution. Further testing is required.\n",
    "The MAD metric takes very long for calculation. It is recommended to use it only for small slices of the images.\n",
    "The largest images currently tested are around `2000x2300x2300` pixels. Calculation for these works with 512GiB of RAM.\n",
    "\n",
    "**Usage:**\n",
    "The metrics are implemented to calculate the scores for an 16-bit data range (0-65535) per default in this notebook. The data range can be changed by setting the `data_range` variable for each metric. Images are first loaded from .raw files or .mhd files and their corresponding .raw file, normalized to the chosen data range and then compared. The scores are then calculated and printed. The images are plotted to visually compare them. File names need to be given with the bit depth denoted as a suffix (e.g. `_8bit.raw`, `_16bit.raw`) and the dimensions of the images need to be given in the file name (e.g. `_512x512x512_`). The images are assumed to be grayscale.\n",
    "\n",
    "To use this notebook, first set the filepaths and parameters, then press 'Run All'.\n",
    "\n",
    "**Requirements:**\n",
    "The following packages have to be installed:\n",
    "- jupyter\n",
    "- matplotlib\n",
    "- nibabel\n",
    "- numpy\n",
    "- piq\n",
    "- pytorch\n",
    "- scikit-image\n",
    "- scipy\n",
    "\n",
    "**References:**\n",
    "-  Wang, Z., Bovik, A. C., Sheikh, H. R., & Simoncelli, E. P. (2004). Image quality \n",
    "assessment: From error visibility to structural similarity. IEEE Transactions on \n",
    "Image Processing, 13(4), 600–612. <https://doi.org/10.1109/TIP.2003.819861>\n",
    "- Wang, Z., Simoncelli, E. P., & Bovik, A. C. (2003). Multi-scale structural \n",
    "similarity for image quality assessment. The Thirty-Seventh Asilomar Conference on \n",
    "Signals, Systems & Computers, 1298–1402. <https://doi.org/10.1109/ACSSC.2003.1292216>\n",
    "- Zhang, L., Zhang, L., Mou, X., & Zhang, D. (2011). FSIM: A feature similarity \n",
    "index for image quality assessment. IEEE Transactions on Image Processing, 20(8). \n",
    "<https://doi.org/10.1109/TIP.2011.2109730>\n",
    "- Sheikh, H. R., & Bovik, A. C. (2006). Image information and visual quality. IEEE \n",
    "Transactions on Image Processing, 15(2), 430–444. \n",
    "<https://doi.org/10.1109/TIP.2005.859378>\n",
    "- Zhang, L., Shen, Y., & Li, H. (2014). VSI: A visual saliency-induced index for \n",
    "perceptual image quality assessment. IEEE Transactions on Image Processing, 23(10), \n",
    "4270–4281. <https://doi.org/10.1109/TIP.2014.2346028>\n",
    "- Larson, E. C., & Chandler, D. M. (2010). Most apparent distortion: full-reference \n",
    "image quality assessment and the role of strategy. Journal of Electronic Imaging, 19\n",
    "(1), 011006. <https://doi.org/10.1117/1.3267105>\n",
    "- Liu, A., Lin, W., & Narwaria, M. (2012). Image quality assessment based on \n",
    "gradient similarity. IEEE Transactions on Image Processing, 21(4), 1500–1512. \n",
    "<https://doi.org/10.1109/TIP.2011.2175935>\n",
    "- Desai, N., Singh, A., & Valentino, D. J. (2010). Practical evaluation of image \n",
    "quality in computed radiographic (CR) imaging systems. Medical Imaging 2010: Physics \n",
    "of Medical Imaging, 7622, 76224Q. <https://doi.org/10.1117/12.844640>\n",
    "- Reiter, M., Weiß, D., Gusenbauer, C., Erler, M., Kuhn, C., Kasperl, S., & \n",
    "Kastner, J. (2014). Evaluation of a Histogram-based Image Quality Measure for X-ray \n",
    "computed Tomography. 5th Conference on Industrial Computed Tomography (iCT) 2014, 25-28 \n",
    "February 2014, Wels, Austria. e-Journal of Nondestructive Testing Vol. 19(6). \n",
    "https://www.ndt.net/?id=15715\n",
    "\n",
    "[^a]: The metric is calculated channel-wise for color images. The values are then averaged after weighting.\n",
    "[^b]: The range for SSIM is given as $[-1, 1]$, but is usually $[0, 1]$ in practice.\n",
    "[^c]: Normally $[0, 1]$, but can be higher than 1 for modified images with higher \n",
    "contrast than reference images.\n",
    "[^d]: The original metric supports RGB images only. This implementation can work \n",
    "with grayscale images by copying the luminance channel 3 times.\n",
    "[^e]: The Q-Measure is a special metric designed for CT images. Therefore it only works\n",
    "with 3D volumes."
   ]
  },
  {
   "cell_type": "markdown",
   "id": "ee163c128ab8a140",
   "metadata": {
    "collapsed": false
   },
   "source": [
    "## Import"
   ]
  },
  {
   "cell_type": "code",
   "id": "8b30993f21ffe82a",
   "metadata": {
    "collapsed": false
   },
   "source": "import viqa",
   "execution_count": null,
   "outputs": []
  },
  {
   "cell_type": "markdown",
   "id": "69ff12aea8759add",
   "metadata": {
    "collapsed": false
   },
   "source": [
    "## Data Loading and Setup"
   ]
  },
  {
   "cell_type": "code",
   "id": "ae602e741f6fefc0",
   "metadata": {
    "collapsed": false
   },
   "source": [
    "# Change this filepaths to your images and csv with the info about the pairs you want to compare\n",
    "files_path = \"/path/to/images\"\n",
    "pairs_path = \"/path/to/pairs.csv\"\n",
    "\n",
    "# Set these to true if you want to calculate the denominated metric for your data\n",
    "calc_psnr = True\n",
    "calc_rmse = True\n",
    "calc_ssim = True\n",
    "calc_msssim = False  # Not possible for very large images due to memory constraints\n",
    "calc_fsim = True\n",
    "calc_vif = False  # Not possible for very large images due to memory constraints\n",
    "calc_vsi = False  # Not possible for very large images due to memory constraints\n",
    "calc_mad = False  # Not possible for very large images due to memory constraints\n",
    "calc_gsm = True\n",
    "\n",
    "calc_cnr = True\n",
    "calc_snr = True\n",
    "calc_qmeasure = True"
   ],
   "execution_count": null,
   "outputs": []
  },
  {
   "metadata": {},
   "cell_type": "code",
   "execution_count": null,
   "source": [
    "# No need to change these\n",
    "metrics = []\n",
    "metrics_parameters = []"
   ],
   "id": "adc3c463599fa344",
   "outputs": []
  },
  {
   "metadata": {},
   "cell_type": "code",
   "execution_count": null,
   "source": [
    "# Load image to visualize CNR and SNR centers\n",
    "img = viqa.load_image(\"path/to/image.raw\", data_range=65535, normalize=False)\n",
    "print(\"Shape of image:\", img.shape)"
   ],
   "id": "36f7eb7789883375",
   "outputs": []
  },
  {
   "cell_type": "markdown",
   "id": "e617e628e46f7f81",
   "metadata": {
    "collapsed": false
   },
   "source": "## Instantiation"
  },
  {
   "cell_type": "markdown",
   "id": "6365bbfbe2df714c",
   "metadata": {
    "collapsed": false
   },
   "source": [
    "### PSNR\n",
    "Set the parameters for PSNR."
   ]
  },
  {
   "cell_type": "code",
   "id": "c8c5e608b61029de",
   "metadata": {
    "collapsed": false
   },
   "source": [
    "# Change these parameters\n",
    "if calc_psnr:\n",
    "    psnr_load_parameters = {\n",
    "        \"data_range\": 65535,\n",
    "        \"normalize\": False,\n",
    "    }\n",
    "    psnr_calc_parameters = {}"
   ],
   "execution_count": null,
   "outputs": []
  },
  {
   "cell_type": "code",
   "id": "e3a9439e178c1769",
   "metadata": {
    "collapsed": false
   },
   "source": [
    "if calc_psnr:\n",
    "    metric_psnr = viqa.PSNR(**psnr_load_parameters)\n",
    "    metrics.append(metric_psnr)\n",
    "    metrics_parameters.append(psnr_calc_parameters)"
   ],
   "execution_count": null,
   "outputs": []
  },
  {
   "cell_type": "markdown",
   "id": "6718cd8aab415b75",
   "metadata": {
    "collapsed": false
   },
   "source": [
    "### RMSE\n",
    "Set the parameters for RMSE."
   ]
  },
  {
   "cell_type": "code",
   "id": "f2c5ff3aaf89ff16",
   "metadata": {
    "collapsed": false
   },
   "source": [
    "# Change these parameters\n",
    "if calc_rmse:\n",
    "    rmse_load_parameters = {\n",
    "        \"data_range\": 65535,\n",
    "        \"normalize\": False,\n",
    "    }\n",
    "    rmse_calc_parameters = {}"
   ],
   "execution_count": null,
   "outputs": []
  },
  {
   "cell_type": "code",
   "id": "837bf28490be1eb6",
   "metadata": {
    "collapsed": false
   },
   "source": [
    "if calc_rmse:\n",
    "    metric_rmse = viqa.RMSE()\n",
    "    metrics.append(metric_rmse)\n",
    "    metrics_parameters.append(rmse_calc_parameters)"
   ],
   "execution_count": null,
   "outputs": []
  },
  {
   "cell_type": "markdown",
   "id": "9432a7770f3a7a09",
   "metadata": {
    "collapsed": false
   },
   "source": [
    "### SSIM\n",
    "Set the parameters for SSIM. Alpha, beta and gamma control the influence of the luminance, contrast and structure terms respectively. The final SSIM score is lower if one of these parameters is set to a higher value due to $SSIM = luminance ^ \\alpha \\times contrast ^ \\beta \\times structure ^ \\gamma$."
   ]
  },
  {
   "cell_type": "code",
   "id": "a80d29e96760ee77",
   "metadata": {
    "collapsed": false
   },
   "source": [
    "# Change these parameters\n",
    "if calc_ssim:\n",
    "    ssim_load_parameters = {\n",
    "        \"data_range\": 65535,\n",
    "        \"normalize\": False,\n",
    "    }\n",
    "    ssim_calc_parameters = {\n",
    "        \"gaussian_weights\": True,\n",
    "        \"use_sample_covariance\": False,\n",
    "        \"sigma\": 1.5,\n",
    "        \"alpha\": 1,\n",
    "        \"beta\": 1,\n",
    "        \"gamma\": 1,\n",
    "    }"
   ],
   "execution_count": null,
   "outputs": []
  },
  {
   "cell_type": "code",
   "id": "ee138fb7cda57474",
   "metadata": {
    "collapsed": false
   },
   "source": [
    "if calc_ssim:\n",
    "    metric_ssim = viqa.SSIM(**ssim_load_parameters)\n",
    "    metrics.append(metric_ssim)\n",
    "    metrics_parameters.append(ssim_calc_parameters)"
   ],
   "execution_count": null,
   "outputs": []
  },
  {
   "cell_type": "markdown",
   "id": "2563782019240a34",
   "metadata": {
    "collapsed": false
   },
   "source": [
    "### MS-SSIM\n",
    "\n",
    "Set the parameters for MS-SSIM."
   ]
  },
  {
   "cell_type": "code",
   "id": "2ddac996f2adb678",
   "metadata": {
    "collapsed": false
   },
   "source": [
    "# Change these parameters\n",
    "if calc_msssim:\n",
    "    msssim_load_parameters = {\n",
    "        \"data_range\": 65535,\n",
    "        \"normalize\": False,\n",
    "        \"chromatic\": False,\n",
    "    }\n",
    "    msssim_calc_parameters = {\n",
    "        \"dim\": 1,\n",
    "    }"
   ],
   "execution_count": null,
   "outputs": []
  },
  {
   "cell_type": "code",
   "id": "b07a5d83e8c5d05c",
   "metadata": {
    "collapsed": false
   },
   "source": [
    "if calc_msssim:\n",
    "    metric_msssim = viqa.MSSSIM(**msssim_load_parameters)\n",
    "    metrics.append(metric_msssim)\n",
    "    metrics_parameters.append(msssim_calc_parameters)"
   ],
   "execution_count": null,
   "outputs": []
  },
  {
   "cell_type": "markdown",
   "id": "5aeb6934fb8becf8",
   "metadata": {
    "collapsed": false
   },
   "source": [
    "### FSIM\n",
    "Set the parameters for FSIM. The chromatic parameter can be set to true if the images are RGB images."
   ]
  },
  {
   "cell_type": "code",
   "id": "7ae02d334541334e",
   "metadata": {
    "collapsed": false
   },
   "source": [
    "# Change these parameters\n",
    "if calc_fsim:\n",
    "    fsim_load_parameters = {\n",
    "        \"data_range\": 65535,\n",
    "        \"normalize\": False,\n",
    "        \"chromatic\": False,\n",
    "    }\n",
    "    fsim_calc_parameters = {\n",
    "        \"dim\": 0,\n",
    "    }"
   ],
   "execution_count": null,
   "outputs": []
  },
  {
   "cell_type": "code",
   "id": "6d30baa06d90bbb3",
   "metadata": {
    "collapsed": false
   },
   "source": [
    "if calc_fsim:\n",
    "    metric_fsim = viqa.FSIM(**fsim_load_parameters)\n",
    "    metrics.append(metric_fsim)\n",
    "    metrics_parameters.append(fsim_calc_parameters)"
   ],
   "execution_count": null,
   "outputs": []
  },
  {
   "cell_type": "markdown",
   "id": "f453a99b5e4f93c4",
   "metadata": {
    "collapsed": false
   },
   "source": [
    "### VIFp\n",
    "Set the parameters for VIFp. The sigma_n_sq parameter can be set to adapt the metric for the variance of visual noise. This parameter is set to 3.2 per default and has to be changed according to the data. Currently, there is no recommendation how to set this parameter."
   ]
  },
  {
   "cell_type": "code",
   "id": "cd289fb4b648aaad",
   "metadata": {
    "collapsed": false
   },
   "source": [
    "# Change these parameters\n",
    "if calc_vif:\n",
    "    vif_load_parameters = {\n",
    "        \"data_range\": 65535,\n",
    "        \"normalize\": False,\n",
    "        \"chromatic\": False,\n",
    "    }\n",
    "    vif_calc_parameters = {\n",
    "        \"dim\": 0,\n",
    "        \"sigma_n_sq\": 2,\n",
    "    }"
   ],
   "execution_count": null,
   "outputs": []
  },
  {
   "cell_type": "code",
   "id": "5ba576aa1c6ba1da",
   "metadata": {
    "collapsed": false
   },
   "source": [
    "if calc_vif:\n",
    "    metric_vifp = viqa.VIFp(**vif_load_parameters)\n",
    "    metrics.append(metric_vifp)\n",
    "    metrics_parameters.append(vif_calc_parameters)"
   ],
   "execution_count": null,
   "outputs": []
  },
  {
   "cell_type": "markdown",
   "id": "5fd3207fab1ddc2",
   "metadata": {
    "collapsed": false
   },
   "source": [
    "### VSI\n",
    "\n",
    "Set the parameters for VSI."
   ]
  },
  {
   "cell_type": "code",
   "id": "b6df73d0f9b5b010",
   "metadata": {
    "collapsed": false
   },
   "source": [
    "# Change these parameters\n",
    "if calc_vsi:\n",
    "    vsi_load_parameters = {\n",
    "        \"data_range\": 65535,\n",
    "        \"normalize\": False,\n",
    "        \"chromatic\": False,\n",
    "    }\n",
    "    vsi_calc_parameters = {\n",
    "        \"dim\": 0,\n",
    "    }"
   ],
   "execution_count": null,
   "outputs": []
  },
  {
   "cell_type": "code",
   "id": "6a79221f81995381",
   "metadata": {
    "collapsed": false
   },
   "source": [
    "if calc_vsi:\n",
    "    metric_vsi = viqa.VSI(**vsi_load_parameters)\n",
    "    metrics.append(metric_vsi)\n",
    "    metrics_parameters.append(vsi_calc_parameters)"
   ],
   "execution_count": null,
   "outputs": []
  },
  {
   "cell_type": "markdown",
   "id": "e1061bba37a0c7c4",
   "metadata": {
    "collapsed": false
   },
   "source": [
    "### MAD\n",
    "\n",
    "Set the parameters for MAD. "
   ]
  },
  {
   "cell_type": "code",
   "id": "c48e2a1d8411dc0e",
   "metadata": {
    "collapsed": false
   },
   "source": [
    "# Change these parameters\n",
    "if calc_mad:\n",
    "    mad_load_parameters = {\n",
    "        \"data_range\": 65535,\n",
    "        \"normalize\": False,\n",
    "    }\n",
    "    mad_calc_parameters = {\n",
    "        \"dim\": 0,\n",
    "        \"block_size\": 16,\n",
    "        \"block_overlap\": 0.75,\n",
    "        \"beta_1\": 0.467,\n",
    "        \"beta_2\": 0.130,\n",
    "        \"luminance_function\": {\"b\": 0, \"k\": 0.02874, \"gamma\": 2.2},\n",
    "        \"orientations_num\": 4,\n",
    "        \"scales_num\": 5,\n",
    "        \"weights\": [0.5, 0.75, 1, 5, 6],\n",
    "    }"
   ],
   "execution_count": null,
   "outputs": []
  },
  {
   "cell_type": "code",
   "id": "e88214f7ddbb3012",
   "metadata": {
    "collapsed": false
   },
   "source": [
    "if calc_mad:\n",
    "    metric_mad = viqa.MAD(**mad_load_parameters)\n",
    "    metrics.append(metric_mad)\n",
    "    metrics_parameters.append(mad_calc_parameters)"
   ],
   "execution_count": null,
   "outputs": []
  },
  {
   "cell_type": "markdown",
   "id": "6bff8ffc162dda6d",
   "metadata": {
    "collapsed": false
   },
   "source": [
    "### GSM\n",
    "\n",
    "Set the parameters for GSM."
   ]
  },
  {
   "cell_type": "code",
   "id": "8777e6e97cf5475e",
   "metadata": {
    "collapsed": false
   },
   "source": [
    "# Change these parameters\n",
    "if calc_gsm:\n",
    "    gsm_load_parameters = {\n",
    "        \"data_range\": 65535,\n",
    "        \"normalize\": False,\n",
    "    }\n",
    "    gsm_calc_parameters = {\n",
    "        \"dim\": 0,\n",
    "        \"experimental\": False,\n",
    "        \"c\": 200,\n",
    "        \"p\": 0.1,\n",
    "    }"
   ],
   "execution_count": null,
   "outputs": []
  },
  {
   "cell_type": "code",
   "id": "25fa6a9c370649e",
   "metadata": {
    "collapsed": false
   },
   "source": [
    "if calc_gsm:\n",
    "    metric_gsm = viqa.GSM(**gsm_load_parameters)\n",
    "    metrics.append(metric_gsm)\n",
    "    metrics_parameters.append(gsm_calc_parameters)"
   ],
   "execution_count": null,
   "outputs": []
  },
  {
   "cell_type": "markdown",
   "id": "931cca0feb050f9c",
   "metadata": {
    "collapsed": false
   },
   "source": [
    "### CNR\n",
    "\n",
    "Set the parameters for CNR. Order for coordinate Tuples is (z, y, x)."
   ]
  },
  {
   "metadata": {},
   "cell_type": "code",
   "execution_count": null,
   "source": "print(\"Shape of image:\", img.shape)",
   "id": "221c3b1d41735bea",
   "outputs": []
  },
  {
   "cell_type": "code",
   "id": "c339f2f32ef4d30",
   "metadata": {
    "collapsed": false
   },
   "source": [
    "# Change these parameters\n",
    "if calc_cnr:\n",
    "    cnr_load_parameters = {\n",
    "        \"data_range\": 65535,\n",
    "        \"normalize\": False,\n",
    "    }\n",
    "    cnr_calc_parameters = {\n",
    "        \"background_center\": (70, 70, 70),\n",
    "        \"signal_center\": (200, 200, 200),\n",
    "        \"radius\": 40,\n",
    "    }"
   ],
   "execution_count": null,
   "outputs": []
  },
  {
   "cell_type": "code",
   "id": "6e7486e21ae53262",
   "metadata": {
    "collapsed": false
   },
   "source": [
    "# Run this to visualize centers\n",
    "if calc_cnr:\n",
    "    metric_cnr = viqa.CNR(**cnr_load_parameters)\n",
    "    metric_cnr.visualize_centers(img=img, signal_center=cnr_calc_parameters[\"signal_center\"], background_center=cnr_calc_parameters[\"background_center\"], radius=cnr_calc_parameters[\"radius\"])"
   ],
   "execution_count": null,
   "outputs": []
  },
  {
   "metadata": {},
   "cell_type": "code",
   "execution_count": null,
   "source": [
    "if calc_cnr:\n",
    "    metrics.append(metric_cnr)\n",
    "    metrics_parameters.append(cnr_calc_parameters)"
   ],
   "id": "acaedc9091db9e03",
   "outputs": []
  },
  {
   "cell_type": "markdown",
   "id": "1a6d693a4616c7ba",
   "metadata": {
    "collapsed": false
   },
   "source": [
    "### SNR\n",
    "\n",
    "Set the parameters for SNR. Order for coordinate Tuples is (z, y, x)."
   ]
  },
  {
   "metadata": {},
   "cell_type": "code",
   "execution_count": null,
   "source": "print(\"Shape of image:\", img.shape)",
   "id": "6f24655094f7721b",
   "outputs": []
  },
  {
   "cell_type": "code",
   "id": "7b971fb46e9bf692",
   "metadata": {
    "collapsed": false
   },
   "source": [
    "# Change these parameters\n",
    "if calc_snr:\n",
    "    snr_load_parameters = {\n",
    "        \"data_range\": 65535,\n",
    "        \"normalize\": False,\n",
    "    }\n",
    "    snr_calc_parameters = {\n",
    "        \"signal_center\": (200, 200, 220),\n",
    "        \"radius\": 40,\n",
    "    }"
   ],
   "execution_count": null,
   "outputs": []
  },
  {
   "cell_type": "code",
   "id": "b28851f7647f1b68",
   "metadata": {
    "collapsed": false
   },
   "source": [
    "# Run this to visualize center\n",
    "if calc_snr:\n",
    "    metric_snr = viqa.SNR(**snr_load_parameters)\n",
    "    metric_snr.visualize_centers(img=img, signal_center=snr_calc_parameters[\"signal_center\"], radius=snr_calc_parameters[\"radius\"])"
   ],
   "execution_count": null,
   "outputs": []
  },
  {
   "metadata": {},
   "cell_type": "code",
   "execution_count": null,
   "source": [
    "if calc_snr:\n",
    "    metrics.append(metric_snr)\n",
    "    metrics_parameters.append(snr_calc_parameters)"
   ],
   "id": "e45f21cf710ff6b0",
   "outputs": []
  },
  {
   "metadata": {},
   "cell_type": "markdown",
   "source": [
    "### Q-Measure\n",
    "\n",
    "Set the parameters for QMeasure."
   ],
   "id": "428733e81d05d5dd"
  },
  {
   "metadata": {},
   "cell_type": "code",
   "execution_count": null,
   "source": [
    "# Change these parameters\n",
    "if calc_qmeasure:\n",
    "    qmeasure_load_parameters = {\n",
    "        \"data_range\": 65535,\n",
    "        \"normalize\": False,\n",
    "    }\n",
    "    qmeasure_calc_parameters = {\n",
    "        \"hist_bins\": 128,\n",
    "        \"num_peaks\": 2,\n",
    "    }"
   ],
   "id": "1b67af0d650c5847",
   "outputs": []
  },
  {
   "metadata": {},
   "cell_type": "code",
   "execution_count": null,
   "source": [
    "if calc_qmeasure:\n",
    "    metric_qmeasure = viqa.QMeasure(**qmeasure_load_parameters)\n",
    "    metrics.append(metric_qmeasure)\n",
    "    metrics_parameters.append(qmeasure_calc_parameters)"
   ],
   "id": "a063c5a42c8006d7",
   "outputs": []
  },
  {
   "metadata": {},
   "cell_type": "markdown",
   "source": "## Calculation",
   "id": "1dfc727c2e9e37d7"
  },
  {
   "metadata": {},
   "cell_type": "code",
   "execution_count": null,
   "source": [
    "batch = viqa.BatchMetrics(file_dir=files_path, pairs_csv=pairs_path, metrics=metrics, metrics_parameters=metrics_parameters)\n",
    "batch.calculate()"
   ],
   "id": "3cd3f4f1a300ccb9",
   "outputs": []
  },
  {
   "metadata": {},
   "cell_type": "markdown",
   "source": "## Export to CSV",
   "id": "a17e0bd9a058a03f"
  },
  {
   "metadata": {},
   "cell_type": "code",
   "execution_count": null,
   "source": [
    "# Change the path and filename\n",
    "batch.export_csv(file_path=\"path/to/export/folder\", file_name=\"filename.csv\")"
   ],
   "id": "2003fc155d95dc08",
   "outputs": []
  }
 ],
 "metadata": {
  "kernelspec": {
   "display_name": "Python 3 (ipykernel)",
   "language": "python",
   "name": "python3"
  },
  "language_info": {
   "codemirror_mode": {
    "name": "ipython",
    "version": 3
   },
   "file_extension": ".py",
   "mimetype": "text/x-python",
   "name": "python",
   "nbconvert_exporter": "python",
   "pygments_lexer": "ipython3",
   "version": "3.11.7"
  }
 },
 "nbformat": 4,
 "nbformat_minor": 5
}
