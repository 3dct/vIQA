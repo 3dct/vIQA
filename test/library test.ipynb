{
 "cells": [
  {
   "cell_type": "markdown",
   "source": [
    "# Test Metrics"
   ],
   "metadata": {
    "collapsed": false
   },
   "id": "72951f718eb4c97e"
  },
  {
   "cell_type": "markdown",
   "source": [
    "## Import and Configuration"
   ],
   "metadata": {
    "collapsed": false
   },
   "id": "c7df78e46239d75d"
  },
  {
   "cell_type": "code",
   "execution_count": 1,
   "id": "initial_id",
   "metadata": {
    "collapsed": true,
    "ExecuteTime": {
     "end_time": "2024-01-03T14:25:49.369307800Z",
     "start_time": "2024-01-03T14:25:46.090935100Z"
    }
   },
   "outputs": [],
   "source": [
    "import psnr, rmse, vif, fsim, ssim, msssim\n",
    "import numpy as np\n",
    "import skimage.io as io\n",
    "from skimage.color import rgb2gray\n",
    "import torch"
   ]
  },
  {
   "cell_type": "code",
   "execution_count": 2,
   "outputs": [],
   "source": [
    "file_path_img_r = '../../TID2013/reference_images/I01.bmp'\n",
    "file_path_img_m = '../../TID2013/distorted_images/I01_01_1.bmp'\n",
    "\n",
    "img_r = io.imread(file_path_img_r)\n",
    "img_m = io.imread(file_path_img_m)\n",
    "\n",
    "img_r_gray = rgb2gray(img_r)\n",
    "img_m_gray = rgb2gray(img_m)\n",
    "\n",
    "img_r_tensor = torch.tensor(img_r).permute(2, 0, 1).unsqueeze(0)\n",
    "img_m_tensor = torch.tensor(img_m).permute(2, 0, 1).unsqueeze(0)"
   ],
   "metadata": {
    "collapsed": false,
    "ExecuteTime": {
     "end_time": "2024-01-03T14:16:33.008361500Z",
     "start_time": "2024-01-03T14:16:32.579522600Z"
    }
   },
   "id": "6595dca8a766d911"
  },
  {
   "cell_type": "code",
   "execution_count": 3,
   "outputs": [
    {
     "data": {
      "text/plain": "(384, 512, 3)"
     },
     "execution_count": 3,
     "metadata": {},
     "output_type": "execute_result"
    }
   ],
   "source": [
    "img_r.shape"
   ],
   "metadata": {
    "collapsed": false,
    "ExecuteTime": {
     "end_time": "2024-01-03T14:16:34.996335500Z",
     "start_time": "2024-01-03T14:16:34.988994300Z"
    }
   },
   "id": "6b63e15167090951"
  },
  {
   "cell_type": "code",
   "execution_count": 4,
   "outputs": [
    {
     "data": {
      "text/plain": "torch.Size([1, 3, 384, 512])"
     },
     "execution_count": 4,
     "metadata": {},
     "output_type": "execute_result"
    }
   ],
   "source": [
    "img_r_tensor.shape"
   ],
   "metadata": {
    "collapsed": false,
    "ExecuteTime": {
     "end_time": "2024-01-03T14:16:37.064835300Z",
     "start_time": "2024-01-03T14:16:37.059003300Z"
    }
   },
   "id": "6ae8efba6c984b6d"
  },
  {
   "cell_type": "markdown",
   "source": [
    "## Calculations"
   ],
   "metadata": {
    "collapsed": false
   },
   "id": "ea11f7f44be3a14a"
  },
  {
   "cell_type": "markdown",
   "source": [
    "### PSNR"
   ],
   "metadata": {
    "collapsed": false
   },
   "id": "3109533afe89c5ea"
  },
  {
   "cell_type": "code",
   "execution_count": 7,
   "outputs": [
    {
     "data": {
      "text/plain": "33.07421268229845"
     },
     "execution_count": 7,
     "metadata": {},
     "output_type": "execute_result"
    }
   ],
   "source": [
    "metric = psnr.PSNR(data_range=255, normalize=False, batch=False)\n",
    "metric.score(img_r, img_m)\n",
    "metric.score_val"
   ],
   "metadata": {
    "collapsed": false,
    "ExecuteTime": {
     "end_time": "2024-01-03T14:16:51.610804500Z",
     "start_time": "2024-01-03T14:16:51.213832Z"
    }
   },
   "id": "3c4e8fab6649a47f"
  },
  {
   "cell_type": "markdown",
   "source": [
    "--> code OK, value OK"
   ],
   "metadata": {
    "collapsed": false
   },
   "id": "30dd49144bbbe4ce"
  },
  {
   "cell_type": "markdown",
   "source": [
    "### RMSE"
   ],
   "metadata": {
    "collapsed": false
   },
   "id": "6d49acb164d6ba5e"
  },
  {
   "cell_type": "code",
   "execution_count": 8,
   "outputs": [
    {
     "data": {
      "text/plain": "5.660170927248818"
     },
     "execution_count": 8,
     "metadata": {},
     "output_type": "execute_result"
    }
   ],
   "source": [
    "metric = rmse.RMSE(data_range=255, normalize=False)\n",
    "metric.score(img_r, img_m)\n",
    "metric.score_val"
   ],
   "metadata": {
    "collapsed": false,
    "ExecuteTime": {
     "end_time": "2024-01-03T14:17:12.496943400Z",
     "start_time": "2024-01-03T14:17:12.454881100Z"
    }
   },
   "id": "a7402f9753e570f9"
  },
  {
   "cell_type": "markdown",
   "source": [
    "--> code OK, value probably OK"
   ],
   "metadata": {
    "collapsed": false
   },
   "id": "7689fc6dcbd9617d"
  },
  {
   "cell_type": "markdown",
   "source": [
    "### VIFp"
   ],
   "metadata": {
    "collapsed": false
   },
   "id": "fe9c7f748256af0e"
  },
  {
   "cell_type": "code",
   "execution_count": 18,
   "outputs": [
    {
     "data": {
      "text/plain": "tensor(0.6713)"
     },
     "execution_count": 18,
     "metadata": {},
     "output_type": "execute_result"
    }
   ],
   "source": [
    "metric = vif.VIFp(data_range=255, normalize=False, chromatic=True)\n",
    "metric.score(img_r, img_m)\n",
    "metric.score_val"
   ],
   "metadata": {
    "collapsed": false,
    "ExecuteTime": {
     "end_time": "2024-01-03T14:19:38.529224700Z",
     "start_time": "2024-01-03T14:19:38.477459200Z"
    }
   },
   "id": "d317b893da3bab89"
  },
  {
   "cell_type": "markdown",
   "source": [
    "--> code OK, value **NOT** OK"
   ],
   "metadata": {
    "collapsed": false
   },
   "id": "5644b0b928e51097"
  },
  {
   "cell_type": "code",
   "execution_count": 20,
   "outputs": [
    {
     "name": "stdout",
     "output_type": "stream",
     "text": [
      "0.6092888086704665\n",
      "tensor(0.7071)\n"
     ]
    }
   ],
   "source": [
    "# sewar VIFp\n",
    "from sewar import vifp\n",
    "print(vifp(img_r, img_m, sigma_nsq=3.2))\n",
    "# piq VIFp\n",
    "from piq import vif_p as piq_vif_p\n",
    "print(piq_vif_p(img_r_tensor, img_m_tensor, data_range=255, sigma_n_sq=3.2))"
   ],
   "metadata": {
    "collapsed": false,
    "ExecuteTime": {
     "end_time": "2024-01-03T14:19:53.308599800Z",
     "start_time": "2024-01-03T14:19:51.667678500Z"
    }
   },
   "id": "570b872c6104b3d0"
  },
  {
   "cell_type": "markdown",
   "source": [
    "### FSIM"
   ],
   "metadata": {
    "collapsed": false
   },
   "id": "e1e8bee96d7208b3"
  },
  {
   "cell_type": "code",
   "execution_count": 23,
   "outputs": [
    {
     "data": {
      "text/plain": "tensor(0.9938)"
     },
     "execution_count": 23,
     "metadata": {},
     "output_type": "execute_result"
    }
   ],
   "source": [
    "metric_fsim_m = fsim.FSIM(data_range=255, normalize=False, chromatic=True)\n",
    "metric_fsim_m.score(img_r, img_m)\n",
    "metric_fsim_m.score_val"
   ],
   "metadata": {
    "collapsed": false,
    "ExecuteTime": {
     "end_time": "2024-01-03T14:20:18.847680300Z",
     "start_time": "2024-01-03T14:20:18.786098600Z"
    }
   },
   "id": "b2323034962dbec8"
  },
  {
   "cell_type": "markdown",
   "source": [
    "--> code OK, value OK"
   ],
   "metadata": {
    "collapsed": false
   },
   "id": "f83fe954ff5c16e"
  },
  {
   "cell_type": "markdown",
   "source": [
    "### SSIM"
   ],
   "metadata": {
    "collapsed": false
   },
   "id": "ba894bf6b972866d"
  },
  {
   "cell_type": "code",
   "execution_count": 30,
   "outputs": [
    {
     "data": {
      "text/plain": "0.9167259591896975"
     },
     "execution_count": 30,
     "metadata": {},
     "output_type": "execute_result"
    }
   ],
   "source": [
    "metric_ssim_m = ssim.SSIM(data_range=255, normalize=False)\n",
    "metric_ssim_m.score(img_r, img_m, gaussian_weights=True, use_sample_covariance=False, sigma=1.5, channel_axis=2)\n",
    "metric_ssim_m.score_val"
   ],
   "metadata": {
    "collapsed": false,
    "ExecuteTime": {
     "end_time": "2024-01-03T14:21:54.591070900Z",
     "start_time": "2024-01-03T14:21:54.494258Z"
    }
   },
   "id": "85dc8402092d712"
  },
  {
   "cell_type": "markdown",
   "source": [
    "--> code OK, value **NOT** OK"
   ],
   "metadata": {
    "collapsed": false
   },
   "id": "80849a3ebb71206b"
  },
  {
   "cell_type": "code",
   "execution_count": 31,
   "outputs": [
    {
     "name": "stdout",
     "output_type": "stream",
     "text": [
      "(0.9369159676757867, 0.9369360732793357)\n",
      "tensor(0.9784)\n",
      "0.9167259591896975\n",
      "tensor(1.)\n",
      "0.9139210249821998\n"
     ]
    }
   ],
   "source": [
    "# sewar ssim\n",
    "from sewar import ssim\n",
    "print(ssim(img_r, img_m))\n",
    "\n",
    "# piq ssim\n",
    "from piq import ssim as piq_ssim\n",
    "print(piq_ssim(img_r_tensor, img_m_tensor, data_range=255))\n",
    "\n",
    "# skimage ssim\n",
    "from skimage.metrics import structural_similarity as skimage_ssim\n",
    "print(skimage_ssim(img_r, img_m, data_range=255, gaussian_weights=True, use_sample_covariance=False, sigma=1.5, channel_axis=2))\n",
    "\n",
    "# pytorch-msssim ssim\n",
    "from pytorch_msssim import ssim as pytorch_msssim_ssim\n",
    "print(pytorch_msssim_ssim(img_r_tensor, img_m_tensor, data_range=255))\n",
    "\n",
    "# pytorch-ignite ssim\n",
    "from ignite.metrics import SSIM\n",
    "metric = SSIM(data_range=255)\n",
    "metric.update((img_r_tensor, img_m_tensor))\n",
    "print(metric.compute())"
   ],
   "metadata": {
    "collapsed": false,
    "ExecuteTime": {
     "end_time": "2024-01-03T14:21:59.873120900Z",
     "start_time": "2024-01-03T14:21:59.052625400Z"
    }
   },
   "id": "4f5c7f6ff49805e4"
  },
  {
   "cell_type": "markdown",
   "source": [
    "### MSSSIM"
   ],
   "metadata": {
    "collapsed": false
   },
   "id": "6b6e089adf5fcadc"
  },
  {
   "cell_type": "code",
   "execution_count": 36,
   "outputs": [
    {
     "data": {
      "text/plain": "(0.9903786114953346+0j)"
     },
     "execution_count": 36,
     "metadata": {},
     "output_type": "execute_result"
    }
   ],
   "source": [
    "metric_msssim_m = msssim.MSSSIM(data_range=255, normalize=False)\n",
    "metric_msssim_m.score(img_r, img_m)\n",
    "metric_msssim_m.score_val"
   ],
   "metadata": {
    "collapsed": false,
    "ExecuteTime": {
     "end_time": "2024-01-03T14:22:45.839576200Z",
     "start_time": "2024-01-03T14:22:44.959099100Z"
    }
   },
   "id": "d4c469ad91d3af61"
  },
  {
   "cell_type": "markdown",
   "source": [
    "--> code **NOT** OK, value **NOT** OK"
   ],
   "metadata": {
    "collapsed": false
   },
   "id": "78ce227c78498e07"
  },
  {
   "cell_type": "code",
   "execution_count": 33,
   "outputs": [
    {
     "name": "stdout",
     "output_type": "stream",
     "text": [
      "(0.9903786114953346+0j)\n",
      "tensor(0.9880)\n"
     ]
    },
    {
     "ename": "RuntimeError",
     "evalue": "\"avg_pool2d\" not implemented for 'Byte'",
     "output_type": "error",
     "traceback": [
      "\u001B[1;31m---------------------------------------------------------------------------\u001B[0m",
      "\u001B[1;31mRuntimeError\u001B[0m                              Traceback (most recent call last)",
      "Cell \u001B[1;32mIn[33], line 11\u001B[0m\n\u001B[0;32m      9\u001B[0m \u001B[38;5;66;03m# pytorch-msssim msssim\u001B[39;00m\n\u001B[0;32m     10\u001B[0m \u001B[38;5;28;01mfrom\u001B[39;00m \u001B[38;5;21;01mpytorch_msssim\u001B[39;00m \u001B[38;5;28;01mimport\u001B[39;00m ms_ssim \u001B[38;5;28;01mas\u001B[39;00m pytorch_msssim_msssim\n\u001B[1;32m---> 11\u001B[0m \u001B[38;5;28mprint\u001B[39m(pytorch_msssim_msssim(img_r_tensor, img_m_tensor, data_range\u001B[38;5;241m=\u001B[39m\u001B[38;5;241m255\u001B[39m))\n",
      "File \u001B[1;32m~\\.conda\\envs\\IQA_Library\\Lib\\site-packages\\pytorch_msssim\\ssim.py:233\u001B[0m, in \u001B[0;36mms_ssim\u001B[1;34m(X, Y, data_range, size_average, win_size, win_sigma, win, weights, K)\u001B[0m\n\u001B[0;32m    231\u001B[0m         mcs\u001B[38;5;241m.\u001B[39mappend(torch\u001B[38;5;241m.\u001B[39mrelu(cs))\n\u001B[0;32m    232\u001B[0m         padding \u001B[38;5;241m=\u001B[39m [s \u001B[38;5;241m%\u001B[39m \u001B[38;5;241m2\u001B[39m \u001B[38;5;28;01mfor\u001B[39;00m s \u001B[38;5;129;01min\u001B[39;00m X\u001B[38;5;241m.\u001B[39mshape[\u001B[38;5;241m2\u001B[39m:]]\n\u001B[1;32m--> 233\u001B[0m         X \u001B[38;5;241m=\u001B[39m avg_pool(X, kernel_size\u001B[38;5;241m=\u001B[39m\u001B[38;5;241m2\u001B[39m, padding\u001B[38;5;241m=\u001B[39mpadding)\n\u001B[0;32m    234\u001B[0m         Y \u001B[38;5;241m=\u001B[39m avg_pool(Y, kernel_size\u001B[38;5;241m=\u001B[39m\u001B[38;5;241m2\u001B[39m, padding\u001B[38;5;241m=\u001B[39mpadding)\n\u001B[0;32m    236\u001B[0m ssim_per_channel \u001B[38;5;241m=\u001B[39m torch\u001B[38;5;241m.\u001B[39mrelu(ssim_per_channel)  \u001B[38;5;66;03m# type: ignore  # (batch, channel)\u001B[39;00m\n",
      "\u001B[1;31mRuntimeError\u001B[0m: \"avg_pool2d\" not implemented for 'Byte'"
     ]
    }
   ],
   "source": [
    "# sewar msssim\n",
    "from sewar import msssim\n",
    "print(msssim(img_r, img_m))\n",
    "\n",
    "# piq msssim\n",
    "from piq import multi_scale_ssim as piq_msssim\n",
    "print(piq_msssim(img_r_tensor, img_m_tensor, data_range=255))\n",
    "\n",
    "# pytorch-msssim msssim\n",
    "from pytorch_msssim import ms_ssim as pytorch_msssim_msssim\n",
    "print(pytorch_msssim_msssim(img_r_tensor, img_m_tensor, data_range=255))"
   ],
   "metadata": {
    "collapsed": false,
    "ExecuteTime": {
     "end_time": "2024-01-03T14:22:24.295535500Z",
     "start_time": "2024-01-03T14:22:22.978848300Z"
    }
   },
   "id": "dd02529373b938b6"
  },
  {
   "cell_type": "markdown",
   "source": [
    "## Conclusion\n",
    "\n",
    "| Metric | Code OK    | Value OK |\n",
    "| --- |------------| --- |\n",
    "| PSNR | OK         | OK |\n",
    "| RMSE | OK         | OK |\n",
    "| VIFp | OK         | **NOT** OK |\n",
    "| FSIM | OK         | OK |\n",
    "| SSIM | OK         | **NOT** OK |\n",
    "| MSSSIM | **NOT** OK | **NOT** OK |"
   ],
   "metadata": {
    "collapsed": false
   },
   "id": "b32811577a434e51"
  }
 ],
 "metadata": {
  "kernelspec": {
   "display_name": "Python 3",
   "language": "python",
   "name": "python3"
  },
  "language_info": {
   "codemirror_mode": {
    "name": "ipython",
    "version": 2
   },
   "file_extension": ".py",
   "mimetype": "text/x-python",
   "name": "python",
   "nbconvert_exporter": "python",
   "pygments_lexer": "ipython2",
   "version": "2.7.6"
  }
 },
 "nbformat": 4,
 "nbformat_minor": 5
}
