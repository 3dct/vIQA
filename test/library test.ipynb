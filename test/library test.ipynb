{
 "cells": [
  {
   "cell_type": "markdown",
   "source": [
    "# Test Metrics"
   ],
   "metadata": {
    "collapsed": false
   },
   "id": "72951f718eb4c97e"
  },
  {
   "cell_type": "markdown",
   "source": [
    "## Import and Configuration"
   ],
   "metadata": {
    "collapsed": false
   },
   "id": "c7df78e46239d75d"
  },
  {
   "cell_type": "code",
   "execution_count": 40,
   "id": "initial_id",
   "metadata": {
    "collapsed": true,
    "ExecuteTime": {
     "end_time": "2024-01-03T16:04:05.365843400Z",
     "start_time": "2024-01-03T16:04:05.354663Z"
    }
   },
   "outputs": [],
   "source": [
    "import psnr, rmse, vif, fsim, ssim, msssim, vsi\n",
    "import numpy as np\n",
    "import skimage.io as io\n",
    "from skimage.color import rgb2gray\n",
    "import torch"
   ]
  },
  {
   "cell_type": "code",
   "execution_count": 3,
   "outputs": [],
   "source": [
    "file_path_img_r = '../../TID2013/reference_images/I01.bmp'\n",
    "file_path_img_m = '../../TID2013/distorted_images/I01_01_1.bmp'\n",
    "\n",
    "img_r = io.imread(file_path_img_r)\n",
    "img_m = io.imread(file_path_img_m)\n",
    "\n",
    "img_r_gray = rgb2gray(img_r)\n",
    "img_m_gray = rgb2gray(img_m)\n",
    "\n",
    "img_r_tensor = torch.tensor(img_r).permute(2, 0, 1).unsqueeze(0)\n",
    "img_m_tensor = torch.tensor(img_m).permute(2, 0, 1).unsqueeze(0)"
   ],
   "metadata": {
    "collapsed": false,
    "ExecuteTime": {
     "end_time": "2024-01-03T15:21:14.702578200Z",
     "start_time": "2024-01-03T15:21:14.184002600Z"
    }
   },
   "id": "6595dca8a766d911"
  },
  {
   "cell_type": "code",
   "execution_count": 4,
   "outputs": [
    {
     "data": {
      "text/plain": "(384, 512, 3)"
     },
     "execution_count": 4,
     "metadata": {},
     "output_type": "execute_result"
    }
   ],
   "source": [
    "img_r.shape"
   ],
   "metadata": {
    "collapsed": false,
    "ExecuteTime": {
     "end_time": "2024-01-03T15:21:14.714510600Z",
     "start_time": "2024-01-03T15:21:14.704572200Z"
    }
   },
   "id": "6b63e15167090951"
  },
  {
   "cell_type": "code",
   "execution_count": 5,
   "outputs": [
    {
     "data": {
      "text/plain": "torch.Size([1, 3, 384, 512])"
     },
     "execution_count": 5,
     "metadata": {},
     "output_type": "execute_result"
    }
   ],
   "source": [
    "img_r_tensor.shape"
   ],
   "metadata": {
    "collapsed": false,
    "ExecuteTime": {
     "end_time": "2024-01-03T15:21:14.721480100Z",
     "start_time": "2024-01-03T15:21:14.710520500Z"
    }
   },
   "id": "6ae8efba6c984b6d"
  },
  {
   "cell_type": "markdown",
   "source": [
    "## Calculations"
   ],
   "metadata": {
    "collapsed": false
   },
   "id": "ea11f7f44be3a14a"
  },
  {
   "cell_type": "markdown",
   "source": [
    "### PSNR"
   ],
   "metadata": {
    "collapsed": false
   },
   "id": "3109533afe89c5ea"
  },
  {
   "cell_type": "code",
   "execution_count": 7,
   "outputs": [
    {
     "data": {
      "text/plain": "33.07421268229845"
     },
     "execution_count": 7,
     "metadata": {},
     "output_type": "execute_result"
    }
   ],
   "source": [
    "metric = psnr.PSNR(data_range=255, normalize=False, batch=False)\n",
    "metric.score(img_r, img_m)\n",
    "metric.score_val"
   ],
   "metadata": {
    "collapsed": false,
    "ExecuteTime": {
     "end_time": "2024-01-03T14:16:51.610804500Z",
     "start_time": "2024-01-03T14:16:51.213832Z"
    }
   },
   "id": "3c4e8fab6649a47f"
  },
  {
   "cell_type": "markdown",
   "source": [
    "--> code OK, value OK"
   ],
   "metadata": {
    "collapsed": false
   },
   "id": "30dd49144bbbe4ce"
  },
  {
   "cell_type": "markdown",
   "source": [
    "### RMSE"
   ],
   "metadata": {
    "collapsed": false
   },
   "id": "6d49acb164d6ba5e"
  },
  {
   "cell_type": "code",
   "execution_count": 8,
   "outputs": [
    {
     "data": {
      "text/plain": "5.660170927248818"
     },
     "execution_count": 8,
     "metadata": {},
     "output_type": "execute_result"
    }
   ],
   "source": [
    "metric = rmse.RMSE(data_range=255, normalize=False)\n",
    "metric.score(img_r, img_m)\n",
    "metric.score_val"
   ],
   "metadata": {
    "collapsed": false,
    "ExecuteTime": {
     "end_time": "2024-01-03T14:17:12.496943400Z",
     "start_time": "2024-01-03T14:17:12.454881100Z"
    }
   },
   "id": "a7402f9753e570f9"
  },
  {
   "cell_type": "markdown",
   "source": [
    "--> code OK, value probably OK"
   ],
   "metadata": {
    "collapsed": false
   },
   "id": "7689fc6dcbd9617d"
  },
  {
   "cell_type": "markdown",
   "source": [
    "### VIFp"
   ],
   "metadata": {
    "collapsed": false
   },
   "id": "fe9c7f748256af0e"
  },
  {
   "cell_type": "code",
   "execution_count": 18,
   "outputs": [
    {
     "data": {
      "text/plain": "tensor(0.6713)"
     },
     "execution_count": 18,
     "metadata": {},
     "output_type": "execute_result"
    }
   ],
   "source": [
    "metric = vif.VIFp(data_range=255, normalize=False, chromatic=True)\n",
    "metric.score(img_r, img_m)\n",
    "metric.score_val"
   ],
   "metadata": {
    "collapsed": false,
    "ExecuteTime": {
     "end_time": "2024-01-03T14:19:38.529224700Z",
     "start_time": "2024-01-03T14:19:38.477459200Z"
    }
   },
   "id": "d317b893da3bab89"
  },
  {
   "cell_type": "markdown",
   "source": [
    "--> code OK, value **NOT** OK"
   ],
   "metadata": {
    "collapsed": false
   },
   "id": "5644b0b928e51097"
  },
  {
   "cell_type": "code",
   "execution_count": 30,
   "outputs": [
    {
     "name": "stdout",
     "output_type": "stream",
     "text": [
      "0.6092888086704665\n",
      "tensor(0.7071)\n",
      "1.0015422609092626\n"
     ]
    },
    {
     "ename": "RuntimeError",
     "evalue": "This function was deprecated since version 1.9 and is now removed. The default behavior has changed from using the upper triangular portion of the matrix by default to using the lower triangular portion.\n\nL, _ = torch.symeig(A, upper=upper) should be replaced with:\nL = torch.linalg.eigvalsh(A, UPLO='U' if upper else 'L')\n\nand\n\nL, V = torch.symeig(A, eigenvectors=True) should be replaced with:\nL, V = torch.linalg.eigh(A, UPLO='U' if upper else 'L')",
     "output_type": "error",
     "traceback": [
      "\u001B[1;31m---------------------------------------------------------------------------\u001B[0m",
      "\u001B[1;31mRuntimeError\u001B[0m                              Traceback (most recent call last)",
      "Cell \u001B[1;32mIn[30], line 17\u001B[0m\n\u001B[0;32m     15\u001B[0m \u001B[38;5;28;01mfrom\u001B[39;00m \u001B[38;5;21;01mtorch\u001B[39;00m\u001B[38;5;21;01m.\u001B[39;00m\u001B[38;5;21;01mnn\u001B[39;00m\u001B[38;5;21;01m.\u001B[39;00m\u001B[38;5;21;01mfunctional\u001B[39;00m \u001B[38;5;28;01mimport\u001B[39;00m normalize\n\u001B[0;32m     16\u001B[0m metric \u001B[38;5;241m=\u001B[39m VIF()\n\u001B[1;32m---> 17\u001B[0m score \u001B[38;5;241m=\u001B[39m metric(normalize(img_r_tensor\u001B[38;5;241m.\u001B[39mfloat()), normalize(img_m_tensor\u001B[38;5;241m.\u001B[39mfloat()), as_loss\u001B[38;5;241m=\u001B[39m\u001B[38;5;28;01mFalse\u001B[39;00m)\n",
      "File \u001B[1;32m~\\.conda\\envs\\IQA_Library\\Lib\\site-packages\\torch\\nn\\modules\\module.py:1518\u001B[0m, in \u001B[0;36mModule._wrapped_call_impl\u001B[1;34m(self, *args, **kwargs)\u001B[0m\n\u001B[0;32m   1516\u001B[0m     \u001B[38;5;28;01mreturn\u001B[39;00m \u001B[38;5;28mself\u001B[39m\u001B[38;5;241m.\u001B[39m_compiled_call_impl(\u001B[38;5;241m*\u001B[39margs, \u001B[38;5;241m*\u001B[39m\u001B[38;5;241m*\u001B[39mkwargs)  \u001B[38;5;66;03m# type: ignore[misc]\u001B[39;00m\n\u001B[0;32m   1517\u001B[0m \u001B[38;5;28;01melse\u001B[39;00m:\n\u001B[1;32m-> 1518\u001B[0m     \u001B[38;5;28;01mreturn\u001B[39;00m \u001B[38;5;28mself\u001B[39m\u001B[38;5;241m.\u001B[39m_call_impl(\u001B[38;5;241m*\u001B[39margs, \u001B[38;5;241m*\u001B[39m\u001B[38;5;241m*\u001B[39mkwargs)\n",
      "File \u001B[1;32m~\\.conda\\envs\\IQA_Library\\Lib\\site-packages\\torch\\nn\\modules\\module.py:1527\u001B[0m, in \u001B[0;36mModule._call_impl\u001B[1;34m(self, *args, **kwargs)\u001B[0m\n\u001B[0;32m   1522\u001B[0m \u001B[38;5;66;03m# If we don't have any hooks, we want to skip the rest of the logic in\u001B[39;00m\n\u001B[0;32m   1523\u001B[0m \u001B[38;5;66;03m# this function, and just call forward.\u001B[39;00m\n\u001B[0;32m   1524\u001B[0m \u001B[38;5;28;01mif\u001B[39;00m \u001B[38;5;129;01mnot\u001B[39;00m (\u001B[38;5;28mself\u001B[39m\u001B[38;5;241m.\u001B[39m_backward_hooks \u001B[38;5;129;01mor\u001B[39;00m \u001B[38;5;28mself\u001B[39m\u001B[38;5;241m.\u001B[39m_backward_pre_hooks \u001B[38;5;129;01mor\u001B[39;00m \u001B[38;5;28mself\u001B[39m\u001B[38;5;241m.\u001B[39m_forward_hooks \u001B[38;5;129;01mor\u001B[39;00m \u001B[38;5;28mself\u001B[39m\u001B[38;5;241m.\u001B[39m_forward_pre_hooks\n\u001B[0;32m   1525\u001B[0m         \u001B[38;5;129;01mor\u001B[39;00m _global_backward_pre_hooks \u001B[38;5;129;01mor\u001B[39;00m _global_backward_hooks\n\u001B[0;32m   1526\u001B[0m         \u001B[38;5;129;01mor\u001B[39;00m _global_forward_hooks \u001B[38;5;129;01mor\u001B[39;00m _global_forward_pre_hooks):\n\u001B[1;32m-> 1527\u001B[0m     \u001B[38;5;28;01mreturn\u001B[39;00m forward_call(\u001B[38;5;241m*\u001B[39margs, \u001B[38;5;241m*\u001B[39m\u001B[38;5;241m*\u001B[39mkwargs)\n\u001B[0;32m   1529\u001B[0m \u001B[38;5;28;01mtry\u001B[39;00m:\n\u001B[0;32m   1530\u001B[0m     result \u001B[38;5;241m=\u001B[39m \u001B[38;5;28;01mNone\u001B[39;00m\n",
      "File \u001B[1;32m~\\.conda\\envs\\IQA_Library\\Lib\\site-packages\\IQA_pytorch\\VIF.py:162\u001B[0m, in \u001B[0;36mVIF.forward\u001B[1;34m(self, y, x, as_loss)\u001B[0m\n\u001B[0;32m    160\u001B[0m \u001B[38;5;28;01melse\u001B[39;00m:\n\u001B[0;32m    161\u001B[0m     \u001B[38;5;28;01mwith\u001B[39;00m torch\u001B[38;5;241m.\u001B[39mno_grad():\n\u001B[1;32m--> 162\u001B[0m         score \u001B[38;5;241m=\u001B[39m \u001B[38;5;28mself\u001B[39m\u001B[38;5;241m.\u001B[39mvif(x, y)\n\u001B[0;32m    163\u001B[0m     \u001B[38;5;28;01mreturn\u001B[39;00m score\n",
      "File \u001B[1;32m~\\.conda\\envs\\IQA_Library\\Lib\\site-packages\\IQA_pytorch\\VIF.py:122\u001B[0m, in \u001B[0;36mVIF.vif\u001B[1;34m(self, x, y)\u001B[0m\n\u001B[0;32m    120\u001B[0m sp_y \u001B[38;5;241m=\u001B[39m SteerablePyramidSpace(y, height\u001B[38;5;241m=\u001B[39m\u001B[38;5;28mself\u001B[39m\u001B[38;5;241m.\u001B[39mlevel, order\u001B[38;5;241m=\u001B[39m\u001B[38;5;28mself\u001B[39m\u001B[38;5;241m.\u001B[39mori, channels\u001B[38;5;241m=\u001B[39m\u001B[38;5;28mself\u001B[39m\u001B[38;5;241m.\u001B[39mchannels)[::\u001B[38;5;241m-\u001B[39m\u001B[38;5;241m1\u001B[39m]\n\u001B[0;32m    121\u001B[0m g_all, vv_all \u001B[38;5;241m=\u001B[39m \u001B[38;5;28mself\u001B[39m\u001B[38;5;241m.\u001B[39mvifsub_est_M(sp_y, sp_x)\n\u001B[1;32m--> 122\u001B[0m ss_arr, l_arr, cu_arr \u001B[38;5;241m=\u001B[39m \u001B[38;5;28mself\u001B[39m\u001B[38;5;241m.\u001B[39mrefparams_vecgsm(sp_y)\n\u001B[0;32m    123\u001B[0m num, den \u001B[38;5;241m=\u001B[39m [], []\n\u001B[0;32m    125\u001B[0m \u001B[38;5;28;01mfor\u001B[39;00m i \u001B[38;5;129;01min\u001B[39;00m \u001B[38;5;28mrange\u001B[39m(\u001B[38;5;28mlen\u001B[39m(\u001B[38;5;28mself\u001B[39m\u001B[38;5;241m.\u001B[39msubbands)):\n",
      "File \u001B[1;32m~\\.conda\\envs\\IQA_Library\\Lib\\site-packages\\IQA_pytorch\\VIF.py:111\u001B[0m, in \u001B[0;36mVIF.refparams_vecgsm\u001B[1;34m(self, org)\u001B[0m\n\u001B[0;32m    109\u001B[0m ss\u001B[38;5;241m=\u001B[39mtorch\u001B[38;5;241m.\u001B[39msum(ss\u001B[38;5;241m*\u001B[39mtemp,dim\u001B[38;5;241m=\u001B[39m\u001B[38;5;241m2\u001B[39m)\u001B[38;5;241m/\u001B[39m(M\u001B[38;5;241m*\u001B[39mM)\n\u001B[0;32m    110\u001B[0m ss\u001B[38;5;241m=\u001B[39mss\u001B[38;5;241m.\u001B[39mreshape(B,C,H\u001B[38;5;241m/\u001B[39m\u001B[38;5;241m/\u001B[39mM,W\u001B[38;5;241m/\u001B[39m\u001B[38;5;241m/\u001B[39mM)    \n\u001B[1;32m--> 111\u001B[0m v,_ \u001B[38;5;241m=\u001B[39m torch\u001B[38;5;241m.\u001B[39msymeig(cu,eigenvectors\u001B[38;5;241m=\u001B[39m\u001B[38;5;28;01mTrue\u001B[39;00m)\n\u001B[0;32m    112\u001B[0m l_arr\u001B[38;5;241m.\u001B[39mappend(v)\n\u001B[0;32m    113\u001B[0m ssarr\u001B[38;5;241m.\u001B[39mappend(ss)\n",
      "File \u001B[1;32m~\\.conda\\envs\\IQA_Library\\Lib\\site-packages\\torch\\_linalg_utils.py:136\u001B[0m, in \u001B[0;36m_symeig\u001B[1;34m(input, eigenvectors, upper, out)\u001B[0m\n\u001B[0;32m    133\u001B[0m \u001B[38;5;28;01mdef\u001B[39;00m \u001B[38;5;21m_symeig\u001B[39m(\n\u001B[0;32m    134\u001B[0m     \u001B[38;5;28minput\u001B[39m, eigenvectors\u001B[38;5;241m=\u001B[39m\u001B[38;5;28;01mFalse\u001B[39;00m, upper\u001B[38;5;241m=\u001B[39m\u001B[38;5;28;01mTrue\u001B[39;00m, \u001B[38;5;241m*\u001B[39m, out\u001B[38;5;241m=\u001B[39m\u001B[38;5;28;01mNone\u001B[39;00m\n\u001B[0;32m    135\u001B[0m ) \u001B[38;5;241m-\u001B[39m\u001B[38;5;241m>\u001B[39m Tuple[Tensor, Tensor]:\n\u001B[1;32m--> 136\u001B[0m     \u001B[38;5;28;01mraise\u001B[39;00m \u001B[38;5;167;01mRuntimeError\u001B[39;00m(\n\u001B[0;32m    137\u001B[0m         \u001B[38;5;124m\"\u001B[39m\u001B[38;5;124mThis function was deprecated since version 1.9 and is now removed. \u001B[39m\u001B[38;5;124m\"\u001B[39m\n\u001B[0;32m    138\u001B[0m         \u001B[38;5;124m\"\u001B[39m\u001B[38;5;124mThe default behavior has changed from using the upper triangular portion of the matrix by default \u001B[39m\u001B[38;5;124m\"\u001B[39m\n\u001B[0;32m    139\u001B[0m         \u001B[38;5;124m\"\u001B[39m\u001B[38;5;124mto using the lower triangular portion.\u001B[39m\u001B[38;5;130;01m\\n\u001B[39;00m\u001B[38;5;130;01m\\n\u001B[39;00m\u001B[38;5;124m\"\u001B[39m\n\u001B[0;32m    140\u001B[0m         \u001B[38;5;124m\"\u001B[39m\u001B[38;5;124mL, _ = torch.symeig(A, upper=upper) \u001B[39m\u001B[38;5;124m\"\u001B[39m\n\u001B[0;32m    141\u001B[0m         \u001B[38;5;124m\"\u001B[39m\u001B[38;5;124mshould be replaced with:\u001B[39m\u001B[38;5;130;01m\\n\u001B[39;00m\u001B[38;5;124m\"\u001B[39m\n\u001B[0;32m    142\u001B[0m         \u001B[38;5;124m\"\u001B[39m\u001B[38;5;124mL = torch.linalg.eigvalsh(A, UPLO=\u001B[39m\u001B[38;5;124m'\u001B[39m\u001B[38;5;124mU\u001B[39m\u001B[38;5;124m'\u001B[39m\u001B[38;5;124m if upper else \u001B[39m\u001B[38;5;124m'\u001B[39m\u001B[38;5;124mL\u001B[39m\u001B[38;5;124m'\u001B[39m\u001B[38;5;124m)\u001B[39m\u001B[38;5;130;01m\\n\u001B[39;00m\u001B[38;5;130;01m\\n\u001B[39;00m\u001B[38;5;124m\"\u001B[39m\n\u001B[0;32m    143\u001B[0m         \u001B[38;5;124m\"\u001B[39m\u001B[38;5;124mand\u001B[39m\u001B[38;5;130;01m\\n\u001B[39;00m\u001B[38;5;130;01m\\n\u001B[39;00m\u001B[38;5;124m\"\u001B[39m\n\u001B[0;32m    144\u001B[0m         \u001B[38;5;124m\"\u001B[39m\u001B[38;5;124mL, V = torch.symeig(A, eigenvectors=True) \u001B[39m\u001B[38;5;124m\"\u001B[39m\n\u001B[0;32m    145\u001B[0m         \u001B[38;5;124m\"\u001B[39m\u001B[38;5;124mshould be replaced with:\u001B[39m\u001B[38;5;130;01m\\n\u001B[39;00m\u001B[38;5;124m\"\u001B[39m\n\u001B[0;32m    146\u001B[0m         \u001B[38;5;124m\"\u001B[39m\u001B[38;5;124mL, V = torch.linalg.eigh(A, UPLO=\u001B[39m\u001B[38;5;124m'\u001B[39m\u001B[38;5;124mU\u001B[39m\u001B[38;5;124m'\u001B[39m\u001B[38;5;124m if upper else \u001B[39m\u001B[38;5;124m'\u001B[39m\u001B[38;5;124mL\u001B[39m\u001B[38;5;124m'\u001B[39m\u001B[38;5;124m)\u001B[39m\u001B[38;5;124m\"\u001B[39m\n\u001B[0;32m    147\u001B[0m     )\n",
      "\u001B[1;31mRuntimeError\u001B[0m: This function was deprecated since version 1.9 and is now removed. The default behavior has changed from using the upper triangular portion of the matrix by default to using the lower triangular portion.\n\nL, _ = torch.symeig(A, upper=upper) should be replaced with:\nL = torch.linalg.eigvalsh(A, UPLO='U' if upper else 'L')\n\nand\n\nL, V = torch.symeig(A, eigenvectors=True) should be replaced with:\nL, V = torch.linalg.eigh(A, UPLO='U' if upper else 'L')"
     ]
    }
   ],
   "source": [
    "# sewar VIFp\n",
    "from sewar import vifp\n",
    "print(vifp(img_r, img_m, sigma_nsq=3.2))\n",
    "\n",
    "# piq VIFp\n",
    "from piq import vif_p as piq_vif_p\n",
    "print(piq_vif_p(img_r_tensor, img_m_tensor, data_range=255, sigma_n_sq=3.2))\n",
    "\n",
    "# xdesign VIFp\n",
    "from xdesign.metrics.fullref import vifp as xdesign_vifp\n",
    "print(xdesign_vifp(img_r_gray, img_m_gray, L =255)[1].mean())\n",
    "\n",
    "# # IQA-pytorch VIFp\n",
    "# from IQA_pytorch import VIF\n",
    "# from torch.nn.functional import normalize\n",
    "# metric = VIF()\n",
    "# score = metric(normalize(img_r_tensor.float()), normalize(img_m_tensor.float()), as_loss=False)"
   ],
   "metadata": {
    "collapsed": false,
    "ExecuteTime": {
     "end_time": "2024-01-03T15:50:00.138228500Z",
     "start_time": "2024-01-03T15:49:57.833135100Z"
    }
   },
   "id": "570b872c6104b3d0"
  },
  {
   "cell_type": "markdown",
   "source": [
    "### FSIM"
   ],
   "metadata": {
    "collapsed": false
   },
   "id": "e1e8bee96d7208b3"
  },
  {
   "cell_type": "code",
   "execution_count": 23,
   "outputs": [
    {
     "data": {
      "text/plain": "tensor(0.9938)"
     },
     "execution_count": 23,
     "metadata": {},
     "output_type": "execute_result"
    }
   ],
   "source": [
    "metric_fsim_m = fsim.FSIM(data_range=255, normalize=False, chromatic=True)\n",
    "metric_fsim_m.score(img_r, img_m)\n",
    "metric_fsim_m.score_val"
   ],
   "metadata": {
    "collapsed": false,
    "ExecuteTime": {
     "end_time": "2024-01-03T14:20:18.847680300Z",
     "start_time": "2024-01-03T14:20:18.786098600Z"
    }
   },
   "id": "b2323034962dbec8"
  },
  {
   "cell_type": "markdown",
   "source": [
    "--> code OK, value OK"
   ],
   "metadata": {
    "collapsed": false
   },
   "id": "f83fe954ff5c16e"
  },
  {
   "cell_type": "markdown",
   "source": [
    "### SSIM"
   ],
   "metadata": {
    "collapsed": false
   },
   "id": "ba894bf6b972866d"
  },
  {
   "cell_type": "code",
   "execution_count": 30,
   "outputs": [
    {
     "data": {
      "text/plain": "0.9167259591896975"
     },
     "execution_count": 30,
     "metadata": {},
     "output_type": "execute_result"
    }
   ],
   "source": [
    "metric_ssim_m = ssim.SSIM(data_range=255, normalize=False)\n",
    "metric_ssim_m.score(img_r, img_m, gaussian_weights=True, use_sample_covariance=False, sigma=1.5, channel_axis=2)\n",
    "metric_ssim_m.score_val"
   ],
   "metadata": {
    "collapsed": false,
    "ExecuteTime": {
     "end_time": "2024-01-03T14:21:54.591070900Z",
     "start_time": "2024-01-03T14:21:54.494258Z"
    }
   },
   "id": "85dc8402092d712"
  },
  {
   "cell_type": "markdown",
   "source": [
    "--> code OK, value **NOT** OK"
   ],
   "metadata": {
    "collapsed": false
   },
   "id": "80849a3ebb71206b"
  },
  {
   "cell_type": "code",
   "execution_count": 33,
   "outputs": [
    {
     "name": "stdout",
     "output_type": "stream",
     "text": [
      "(0.9369159676757867, 0.9369360732793357)\n",
      "tensor(0.9784)\n",
      "0.9167259591896975\n",
      "tensor(1.)\n",
      "0.9139210249821998\n",
      "0.907095280979383\n",
      "tensor([0.6556])\n"
     ]
    }
   ],
   "source": [
    "# sewar ssim\n",
    "from sewar import ssim\n",
    "print(ssim(img_r, img_m))\n",
    "\n",
    "# piq ssim\n",
    "from piq import ssim as piq_ssim\n",
    "print(piq_ssim(img_r_tensor, img_m_tensor, data_range=255))\n",
    "\n",
    "# skimage ssim\n",
    "from skimage.metrics import structural_similarity as skimage_ssim\n",
    "print(skimage_ssim(img_r, img_m, data_range=255, gaussian_weights=True, use_sample_covariance=False, sigma=1.5, channel_axis=2))\n",
    "\n",
    "# pytorch-msssim ssim\n",
    "from pytorch_msssim import ssim as pytorch_msssim_ssim\n",
    "print(pytorch_msssim_ssim(img_r_tensor, img_m_tensor, data_range=255))\n",
    "\n",
    "# pytorch-ignite ssim\n",
    "from ignite.metrics import SSIM\n",
    "metric = SSIM(data_range=255)\n",
    "metric.update((img_r_tensor, img_m_tensor))\n",
    "print(metric.compute())\n",
    "\n",
    "# xdesign ssim\n",
    "from xdesign.metrics import ssim as xdesign_ssim\n",
    "print(xdesign_ssim(img_r, img_m, L=255)[1])\n",
    "\n",
    "# IQA-pytorch ssim\n",
    "from IQA_pytorch import SSIM\n",
    "from torch.nn.functional import normalize\n",
    "metric = SSIM()\n",
    "print(metric(normalize(img_r_tensor.float()), normalize(img_m_tensor.float()), as_loss=False))"
   ],
   "metadata": {
    "collapsed": false,
    "ExecuteTime": {
     "end_time": "2024-01-03T15:51:45.185918Z",
     "start_time": "2024-01-03T15:51:44.133221900Z"
    }
   },
   "id": "4f5c7f6ff49805e4"
  },
  {
   "cell_type": "markdown",
   "source": [
    "### MSSSIM"
   ],
   "metadata": {
    "collapsed": false
   },
   "id": "6b6e089adf5fcadc"
  },
  {
   "cell_type": "code",
   "execution_count": 36,
   "outputs": [
    {
     "data": {
      "text/plain": "(0.9903786114953346+0j)"
     },
     "execution_count": 36,
     "metadata": {},
     "output_type": "execute_result"
    }
   ],
   "source": [
    "metric_msssim_m = msssim.MSSSIM(data_range=255, normalize=False)\n",
    "metric_msssim_m.score(img_r, img_m)\n",
    "metric_msssim_m.score_val"
   ],
   "metadata": {
    "collapsed": false,
    "ExecuteTime": {
     "end_time": "2024-01-03T14:22:45.839576200Z",
     "start_time": "2024-01-03T14:22:44.959099100Z"
    }
   },
   "id": "d4c469ad91d3af61"
  },
  {
   "cell_type": "markdown",
   "source": [
    "--> code OK, value **NOT** OK"
   ],
   "metadata": {
    "collapsed": false
   },
   "id": "78ce227c78498e07"
  },
  {
   "cell_type": "code",
   "execution_count": 34,
   "outputs": [
    {
     "name": "stdout",
     "output_type": "stream",
     "text": [
      "(0.9903786114953346+0j)\n",
      "tensor(0.9880)\n",
      "0.999986455114548\n",
      "tensor([0.9320])\n"
     ]
    }
   ],
   "source": [
    "# sewar msssim\n",
    "from sewar import msssim\n",
    "print(msssim(img_r, img_m))\n",
    "\n",
    "# piq msssim\n",
    "from piq import multi_scale_ssim as piq_msssim\n",
    "print(piq_msssim(img_r_tensor, img_m_tensor, data_range=255))\n",
    "\n",
    "# pytorch-msssim msssim\n",
    "try:\n",
    "    from pytorch_msssim import ms_ssim as pytorch_msssim_msssim\n",
    "    print(pytorch_msssim_msssim(img_r_tensor, img_m_tensor, data_range=255))\n",
    "except:\n",
    "    pass\n",
    "\n",
    "# xdesign msssim\n",
    "from xdesign.metrics import msssim as xdesign_msssim\n",
    "print(xdesign_msssim(img_r_gray, img_m_gray, L=255)[1])\n",
    "\n",
    "# IQA-pytorch msssim\n",
    "from IQA_pytorch import MS_SSIM\n",
    "from torch.nn.functional import normalize\n",
    "metric = MS_SSIM()\n",
    "print(metric(normalize(img_r_tensor.float()), normalize(img_m_tensor.float()), as_loss=False))"
   ],
   "metadata": {
    "collapsed": false,
    "ExecuteTime": {
     "end_time": "2024-01-03T15:54:33.320426900Z",
     "start_time": "2024-01-03T15:54:32.263516600Z"
    }
   },
   "id": "dd02529373b938b6"
  },
  {
   "cell_type": "markdown",
   "source": [
    "### VSI"
   ],
   "metadata": {
    "collapsed": false
   },
   "id": "279bb24dd0e3d431"
  },
  {
   "cell_type": "code",
   "execution_count": 41,
   "outputs": [
    {
     "data": {
      "text/plain": "tensor(0.9974)"
     },
     "execution_count": 41,
     "metadata": {},
     "output_type": "execute_result"
    }
   ],
   "source": [
    "metric = vsi.VSI(data_range=255, normalize=False)\n",
    "metric.score(img_r, img_m)\n",
    "metric.score_val"
   ],
   "metadata": {
    "collapsed": false,
    "ExecuteTime": {
     "end_time": "2024-01-03T16:04:10.770465200Z",
     "start_time": "2024-01-03T16:04:10.630581300Z"
    }
   },
   "id": "6009b315234a0435"
  },
  {
   "cell_type": "markdown",
   "source": [
    "## Conclusion\n",
    "\n",
    "| Metric | Code OK | Value OK   |\n",
    "| --- |---------|------------|\n",
    "| PSNR | OK      | OK         |\n",
    "| RMSE | OK      | OK         |\n",
    "| VIFp | OK      | **NOT** OK |\n",
    "| FSIM | OK      | OK         |\n",
    "| SSIM | OK      | **NOT** OK |\n",
    "| MSSSIM | OK      | **NOT** OK |\n",
    "| VSI | OK      | ?          |\n",
    "| MAD | --      | --         |\n",
    "| GSM | --      | --         |\n",
    "| SFF | --      | --         |\n",
    "| CNR | --      | --         |\n",
    "| Ma | --      | --         |\n",
    "| PI | --      | --         |\n",
    "| NIQE | --      | --         |"
   ],
   "metadata": {
    "collapsed": false
   },
   "id": "b32811577a434e51"
  }
 ],
 "metadata": {
  "kernelspec": {
   "display_name": "Python 3",
   "language": "python",
   "name": "python3"
  },
  "language_info": {
   "codemirror_mode": {
    "name": "ipython",
    "version": 2
   },
   "file_extension": ".py",
   "mimetype": "text/x-python",
   "name": "python",
   "nbconvert_exporter": "python",
   "pygments_lexer": "ipython2",
   "version": "2.7.6"
  }
 },
 "nbformat": 4,
 "nbformat_minor": 5
}
