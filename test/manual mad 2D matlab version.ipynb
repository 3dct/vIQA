{
 "cells": [
  {
   "cell_type": "code",
   "execution_count": 1,
   "id": "2599ed0c439963cb",
   "metadata": {
    "collapsed": false,
    "ExecuteTime": {
     "end_time": "2024-01-17T09:43:39.166198300Z",
     "start_time": "2024-01-17T09:43:34.874925400Z"
    }
   },
   "outputs": [],
   "source": [
    "import scipy.fft as fft\n",
    "from scipy.stats import skew, kurtosis\n",
    "from utils import _to_float, load_data\n",
    "import itertools\n",
    "import math\n",
    "import numpy as np\n",
    "import skimage.io as io\n",
    "from skimage.color import rgb2gray\n",
    "import matplotlib.pyplot as plt"
   ]
  },
  {
   "cell_type": "code",
   "execution_count": 2,
   "outputs": [],
   "source": [
    "file_path_img_r = '../../samples/Catec_Two_PlateIQI_20um/Catec_Two_PlateIQI_20um_1620proj_220kV_Rayscan-SimCT_800x800x1000_16bit.raw'\n",
    "file_path_img_m = '../../samples/Catec_Two_PlateIQI_20um/Catec_Two_PlateIQI_20um_810proj_220kV_Rayscan-SimCT_800x800x1000_16bit.raw'\n",
    "# # Data loading\n",
    "# img_r = load_data(file_path_img_r, data_range=255, normalize=True, batch=False)[400:600, 300, 300:500]\n",
    "# img_m = load_data(file_path_img_m, data_range=255, normalize=True, batch=False)[400:600, 300, 300:500]\n",
    "\n",
    "img_r = load_data(file_path_img_r, data_range=255, normalize=True, batch=False)[0:1000, 200, 0:800]\n",
    "img_m = load_data(file_path_img_m, data_range=255, normalize=True, batch=False)[0:1000, 200, 0:800]\n",
    "\n",
    "# file_path_img_r = '../../TID2013/reference_images/I01.bmp'\n",
    "# file_path_img_m = '../../TID2013/distorted_images/I01_01_2.bmp'\n",
    "# \n",
    "# img_r = io.imread(file_path_img_r)\n",
    "# img_m = io.imread(file_path_img_m)\n",
    "# \n",
    "# img_r = rgb2gray(img_r)\n",
    "# img_m = rgb2gray(img_m)"
   ],
   "metadata": {
    "collapsed": true,
    "ExecuteTime": {
     "end_time": "2024-01-17T09:44:09.879468300Z",
     "start_time": "2024-01-17T09:43:39.168193100Z"
    }
   },
   "id": "initial_id"
  },
  {
   "cell_type": "code",
   "execution_count": 3,
   "outputs": [],
   "source": [
    "M, N = img_r.shape\n",
    "account_monitor = False"
   ],
   "metadata": {
    "collapsed": false,
    "ExecuteTime": {
     "end_time": "2024-01-17T09:44:09.882459800Z",
     "start_time": "2024-01-17T09:44:09.878470900Z"
    }
   },
   "id": "877489a81f59ea2"
  },
  {
   "cell_type": "code",
   "execution_count": 4,
   "outputs": [],
   "source": [
    "# accounting for display resolution and viewing distance\n",
    "if account_monitor:\n",
    "    disp_res = 81.59  # px / in\n",
    "    view_dis = 39.37  # in\n",
    "    cycles_per_degree = (disp_res * view_dis * np.tan(np.pi / 180)) / 2\n",
    "else:\n",
    "    cycles_per_degree = 32"
   ],
   "metadata": {
    "collapsed": false,
    "ExecuteTime": {
     "end_time": "2024-01-17T09:44:09.895425300Z",
     "start_time": "2024-01-17T09:44:09.883458Z"
    }
   },
   "id": "395e44d1389bf9da"
  },
  {
   "cell_type": "code",
   "execution_count": 5,
   "outputs": [],
   "source": [
    "def _contrast_sensitivity_function(m, n, nfreq):\n",
    "    xplane, yplane = np.meshgrid(np.arange(-n / 2 + 0.5, n / 2 + 0.5), np.arange(-m / 2 + 0.5, m / 2 + 0.5))\n",
    "    plane = (xplane + 1j * yplane) * 2 * nfreq / n\n",
    "    radfreq = np.abs(plane)\n",
    "    \n",
    "    w = 0.7\n",
    "    theta = np.angle(plane)\n",
    "    s = ((1 - w) / 2) * np.cos(4 * theta) + ((1 + w) / 2)\n",
    "    radfreq /= s\n",
    "    \n",
    "    lambda_ = 0.114\n",
    "    f_peak = 7.8909\n",
    "    cond = radfreq < f_peak\n",
    "    csf = 2.6 * (0.0192 + lambda_ * radfreq) * np.exp(-(lambda_ * radfreq)**1.1)\n",
    "    csf[cond] = 0.9809\n",
    "    \n",
    "    return csf"
   ],
   "metadata": {
    "collapsed": false,
    "ExecuteTime": {
     "end_time": "2024-01-17T09:44:09.919362600Z",
     "start_time": "2024-01-17T09:44:09.896422900Z"
    }
   },
   "id": "98d8b7aece2b6d41"
  },
  {
   "cell_type": "code",
   "execution_count": 6,
   "outputs": [],
   "source": [
    "csf = _contrast_sensitivity_function(M, N, 32)"
   ],
   "metadata": {
    "collapsed": false,
    "ExecuteTime": {
     "end_time": "2024-01-17T09:44:09.995227600Z",
     "start_time": "2024-01-17T09:44:09.900412500Z"
    }
   },
   "id": "3621ceed17ef856b"
  },
  {
   "cell_type": "code",
   "execution_count": 8,
   "outputs": [],
   "source": [
    "k = 0.02874\n",
    "gamma = 2.2\n",
    "LUT = np.arange(0, 256)\n",
    "LUT = k * LUT ** (gamma / 3)\n",
    "lum_r = LUT[img_r]\n",
    "lum_m = LUT[img_m]"
   ],
   "metadata": {
    "collapsed": false,
    "ExecuteTime": {
     "end_time": "2024-01-17T09:44:10.009266Z",
     "start_time": "2024-01-17T09:44:09.995227600Z"
    }
   },
   "id": "62f9c5a62b38b50e"
  },
  {
   "cell_type": "code",
   "execution_count": 9,
   "outputs": [],
   "source": [
    "def _fft(img):\n",
    "    return fft.fftshift(fft.fftn(img))\n",
    "\n",
    "def _ifft(fourier_img):\n",
    "    return fft.ifftn(fft.ifftshift(fourier_img))"
   ],
   "metadata": {
    "collapsed": false,
    "ExecuteTime": {
     "end_time": "2024-01-17T09:44:10.012250500Z",
     "start_time": "2024-01-17T09:44:10.007294300Z"
    }
   },
   "id": "1291ce77c6b519b5"
  },
  {
   "cell_type": "code",
   "execution_count": 10,
   "outputs": [],
   "source": [
    "lum_r_fft = _fft(lum_r)\n",
    "lum_m_fft = _fft(lum_m)\n",
    "\n",
    "I_org = np.real(_ifft(csf * lum_r_fft))\n",
    "I_dst = np.real(_ifft(csf * lum_m_fft))\n",
    "\n",
    "I_err = I_dst - I_org"
   ],
   "metadata": {
    "collapsed": false,
    "ExecuteTime": {
     "end_time": "2024-01-17T09:44:10.136664200Z",
     "start_time": "2024-01-17T09:44:10.012250500Z"
    }
   },
   "id": "f03da47cf29f2bd5"
  },
  {
   "cell_type": "code",
   "execution_count": 11,
   "outputs": [],
   "source": [
    "def extract_blocks(img, block_size, stride):\n",
    "    \"\"\"\n",
    "    Extracts blocks from an image.\n",
    "    :param img: Input image\n",
    "    :param block_size: Size of the block\n",
    "    :param stride: Stride\n",
    "    :return: Numpy array of blocks\n",
    "    \"\"\"\n",
    "    boxes = []\n",
    "    m, n = img.shape\n",
    "    for i in range(0, m - (block_size - 1), stride):\n",
    "        for j in range(0, n - (block_size - 1), stride):\n",
    "            boxes.append(img[i:i + block_size, j:j + block_size])\n",
    "    return np.array(boxes)"
   ],
   "metadata": {
    "collapsed": false,
    "ExecuteTime": {
     "end_time": "2024-01-17T09:44:10.152620Z",
     "start_time": "2024-01-17T09:44:10.140652300Z"
    }
   },
   "id": "643785b64c15622c"
  },
  {
   "cell_type": "code",
   "execution_count": 42,
   "outputs": [],
   "source": [
    "def min_std(image):\n",
    "    tmp = np.empty(image.shape)\n",
    "    stdout = np.empty(image.shape)\n",
    "    for i in range(0, M-15, 4):\n",
    "        for j in range(0, N-15, 4):\n",
    "            mean = 0\n",
    "            for k in range(i, i+8):\n",
    "                for l in range(j, j+8):\n",
    "                    mean += image[k, l]\n",
    "            mean /= 64\n",
    "            \n",
    "            stdev = 0\n",
    "            for k in range(i, i+8):\n",
    "                for l in range(j, j+8):\n",
    "                    stdev += (image[k, l] - mean) ** 2\n",
    "            stdev = np.sqrt(stdev / 63)\n",
    "            \n",
    "            for k in range(i, i+4):\n",
    "                for l in range(j, j+4):\n",
    "                    tmp[k, l] = stdev\n",
    "                    stdout[k, l] = stdev\n",
    "    \n",
    "    for i in range(0, M-15, 4):\n",
    "        for j in range(0, N-15, 4):\n",
    "            val = tmp[i, j]\n",
    "            for k in range(i, i+8, 5):\n",
    "                for l in range(j, j+8, 5):\n",
    "                    if tmp[k, l] < val:\n",
    "                        val = tmp[k, l]\n",
    "                        \n",
    "            for k in range(i, i+4):\n",
    "                for l in range(j, j+4):\n",
    "                    stdout[k, l] = val\n",
    "    \n",
    "    return stdout            "
   ],
   "metadata": {
    "collapsed": false,
    "ExecuteTime": {
     "end_time": "2024-01-17T11:59:19.403005500Z",
     "start_time": "2024-01-17T11:59:19.398987100Z"
    }
   },
   "id": "bfe54aa8defac941"
  },
  {
   "cell_type": "code",
   "execution_count": 13,
   "outputs": [],
   "source": [
    "# Contrast masking\n",
    "BLOCK_SIZE = 16\n",
    "overlap = 0.75\n",
    "STRIDE = BLOCK_SIZE - int(overlap * BLOCK_SIZE)\n",
    "I_org_blocks = extract_blocks(I_org, block_size=BLOCK_SIZE, stride=STRIDE)\n",
    "I_err_blocks = extract_blocks(I_err, block_size=BLOCK_SIZE, stride=STRIDE)"
   ],
   "metadata": {
    "collapsed": false,
    "ExecuteTime": {
     "end_time": "2024-01-17T09:44:19.578918900Z",
     "start_time": "2024-01-17T09:44:19.471388Z"
    }
   },
   "id": "6df5ee23440ed756"
  },
  {
   "cell_type": "code",
   "execution_count": 46,
   "outputs": [],
   "source": [
    "mu_org_p = np.mean(I_org_blocks, axis=(1, 2))\n",
    "# std_org_p = np.array([min_std(block, block_size=int(BLOCK_SIZE / 2), stride=int(BLOCK_SIZE / 2)) for block in I_org_blocks])\n",
    "std_org = min_std(I_org)\n",
    "std_err_p = np.std(I_err_blocks, axis=(1, 2), ddof=1)\n",
    "\n",
    "mu_org = np.zeros(I_org.shape)\n",
    "# std_org = np.zeros(I_org.shape)\n",
    "std_err = np.zeros(I_err.shape)\n",
    "\n",
    "block_n = 0\n",
    "for x in range(0, I_org.shape[0] - STRIDE * 3, STRIDE):\n",
    "    for y in range(0, I_org.shape[1] - STRIDE * 3, STRIDE):\n",
    "        mu_org[x:x+STRIDE, y:y+STRIDE] = mu_org_p[block_n]\n",
    "        # std_org[x:x+STRIDE, y:y+STRIDE] = std_org_p[block_n]\n",
    "        std_err[x:x+STRIDE, y:y+STRIDE] = std_err_p[block_n]\n",
    "        block_n += 1\n",
    "del mu_org_p, std_org_p, std_err_p"
   ],
   "metadata": {
    "collapsed": false,
    "ExecuteTime": {
     "end_time": "2024-01-17T12:00:05.903352500Z",
     "start_time": "2024-01-17T12:00:03.634133900Z"
    }
   },
   "id": "28f3c00591f1eb52"
  },
  {
   "cell_type": "code",
   "execution_count": 44,
   "outputs": [
    {
     "name": "stderr",
     "output_type": "stream",
     "text": [
      "C:\\Users\\p42938\\AppData\\Local\\Temp\\ipykernel_7788\\863585825.py:1: RuntimeWarning: invalid value encountered in divide\n",
      "  C_org = std_org / mu_org\n"
     ]
    },
    {
     "data": {
      "text/plain": "array([[0., 0., 0., ..., 0., 0., 0.],\n       [0., 0., 0., ..., 0., 0., 0.],\n       [0., 0., 0., ..., 0., 0., 0.],\n       ...,\n       [0., 0., 0., ..., 0., 0., 0.],\n       [0., 0., 0., ..., 0., 0., 0.],\n       [0., 0., 0., ..., 0., 0., 0.]])"
     },
     "execution_count": 44,
     "metadata": {},
     "output_type": "execute_result"
    }
   ],
   "source": [
    "C_org = std_org / mu_org\n",
    "C_err = np.zeros(std_err.shape)\n",
    "np.divide(std_err, mu_org, out=C_err, where=mu_org>0.5)"
   ],
   "metadata": {
    "collapsed": false,
    "ExecuteTime": {
     "end_time": "2024-01-17T11:59:42.517005800Z",
     "start_time": "2024-01-17T11:59:42.505864100Z"
    }
   },
   "id": "e5a986d191ec0781"
  },
  {
   "cell_type": "code",
   "execution_count": 47,
   "outputs": [
    {
     "name": "stderr",
     "output_type": "stream",
     "text": [
      "C:\\Users\\p42938\\AppData\\Local\\Temp\\ipykernel_7788\\2523429962.py:1: RuntimeWarning: divide by zero encountered in log\n",
      "  Ci_org = np.log(C_org)\n",
      "C:\\Users\\p42938\\AppData\\Local\\Temp\\ipykernel_7788\\2523429962.py:2: RuntimeWarning: divide by zero encountered in log\n",
      "  Ci_err = np.log(C_err)\n"
     ]
    }
   ],
   "source": [
    "Ci_org = np.log(C_org)\n",
    "Ci_err = np.log(C_err)"
   ],
   "metadata": {
    "collapsed": false,
    "ExecuteTime": {
     "end_time": "2024-01-17T12:06:41.228922300Z",
     "start_time": "2024-01-17T12:06:41.151940900Z"
    }
   },
   "id": "1864a0e01af3b705"
  },
  {
   "cell_type": "code",
   "execution_count": 45,
   "outputs": [
    {
     "name": "stderr",
     "output_type": "stream",
     "text": [
      "C:\\Users\\p42938\\AppData\\Local\\Temp\\ipykernel_7788\\913300767.py:2: RuntimeWarning: divide by zero encountered in log\n",
      "  cond_1 = np.logical_and(np.log(C_err) > np.log(C_org), np.log(C_org) > delta)\n",
      "C:\\Users\\p42938\\AppData\\Local\\Temp\\ipykernel_7788\\913300767.py:3: RuntimeWarning: divide by zero encountered in log\n",
      "  cond_2 = np.logical_and(np.log(C_err) > delta, delta >= np.log(C_org))\n",
      "C:\\Users\\p42938\\AppData\\Local\\Temp\\ipykernel_7788\\913300767.py:6: RuntimeWarning: divide by zero encountered in log\n",
      "  np.subtract(np.log(C_err), np.log(C_org), out=xi, where=cond_1)\n",
      "C:\\Users\\p42938\\AppData\\Local\\Temp\\ipykernel_7788\\913300767.py:7: RuntimeWarning: divide by zero encountered in log\n",
      "  np.subtract(np.log(C_err), delta, out=xi, where=cond_2)\n"
     ]
    },
    {
     "data": {
      "text/plain": "array([[0., 0., 0., ..., 0., 0., 0.],\n       [0., 0., 0., ..., 0., 0., 0.],\n       [0., 0., 0., ..., 0., 0., 0.],\n       ...,\n       [0., 0., 0., ..., 0., 0., 0.],\n       [0., 0., 0., ..., 0., 0., 0.],\n       [0., 0., 0., ..., 0., 0., 0.]])"
     },
     "execution_count": 45,
     "metadata": {},
     "output_type": "execute_result"
    }
   ],
   "source": [
    "delta = -5\n",
    "cond_1 = np.logical_and(Ci_err > Ci_org, Ci_org > delta)\n",
    "cond_2 = np.logical_and(Ci_err > delta, delta >= Ci_org)\n",
    "\n",
    "xi = np.zeros(C_err.shape)\n",
    "np.subtract(np.log(C_err), np.log(C_org), out=xi, where=cond_1)\n",
    "np.subtract(np.log(C_err), delta, out=xi, where=cond_2)"
   ],
   "metadata": {
    "collapsed": false,
    "ExecuteTime": {
     "end_time": "2024-01-17T11:59:52.612271400Z",
     "start_time": "2024-01-17T11:59:52.488778900Z"
    }
   },
   "id": "7943536f47c482c3"
  },
  {
   "cell_type": "code",
   "execution_count": 37,
   "outputs": [
    {
     "data": {
      "text/plain": "(1000, 800)"
     },
     "execution_count": 37,
     "metadata": {},
     "output_type": "execute_result"
    }
   ],
   "source": [
    "I_err.shape"
   ],
   "metadata": {
    "collapsed": false,
    "ExecuteTime": {
     "end_time": "2024-01-16T10:38:57.242196800Z",
     "start_time": "2024-01-16T10:38:57.169213600Z"
    }
   },
   "id": "6ed72f8f77ae9c9"
  },
  {
   "cell_type": "code",
   "execution_count": 33,
   "outputs": [],
   "source": [
    "# Combination of contrast masking and contrast sensitivity\n",
    "D_p = np.sum(I_err ** 2) / (I_err.shape[0] * I_err.shape[1]) "
   ],
   "metadata": {
    "collapsed": false,
    "ExecuteTime": {
     "end_time": "2024-01-17T11:12:23.957307300Z",
     "start_time": "2024-01-17T11:12:23.949869Z"
    }
   },
   "id": "1b865da809ba0855"
  },
  {
   "cell_type": "code",
   "execution_count": 34,
   "outputs": [
    {
     "data": {
      "text/plain": "0.02028448380905756"
     },
     "execution_count": 34,
     "metadata": {},
     "output_type": "execute_result"
    }
   ],
   "source": [
    "d_detect = np.sqrt(np.sum((xi * D_p) ** 2) / len(xi))\n",
    "d_detect"
   ],
   "metadata": {
    "collapsed": false,
    "ExecuteTime": {
     "end_time": "2024-01-17T11:12:25.298944500Z",
     "start_time": "2024-01-17T11:12:25.288717100Z"
    }
   },
   "id": "d3297080a2e287d0"
  },
  {
   "cell_type": "code",
   "execution_count": 17,
   "outputs": [],
   "source": [
    "def _gabor_convolve(im, scales_num: int, orientations_num: int, min_wavelength=3, wavelength_scaling=3, bandwidth_param=0.55, d_theta_on_sigma=1.5):\n",
    "    \"\"\"\n",
    "    Computes Gabor filter responses. \\n\n",
    "    bandwidth_param vs wavelength_scaling \\n\n",
    "    0.85 <--> 1.3 \\n\n",
    "    0.74 <--> 1.6 (1 octave bandwidth) \\n\n",
    "    0.65 <--> 2.1 \\n\n",
    "    0.55 <--> 3.0 (2 octave bandwidth) \\n\n",
    "    \n",
    "    AUTHOR\n",
    "    ------\n",
    "    This code was originally written in Matlab by Peter Kovesi and adapted by Eric Larson. \\n\n",
    "    It is available from http://vision.eng.shizuoka.ac.jp/mad (version 2011_10_07). \\n\n",
    "    It was translated to Python by Lukas Behammer. \\n\n",
    "    \n",
    "    Author: Peter Kovesi \\n\n",
    "    Department of Computer Science & Software Engineering \\n\n",
    "    The University of Western Australia \\n\n",
    "    pk@cs.uwa.edu.au  https://peterkovesi.com/projects/ \\n\n",
    "    \n",
    "    Adaption: Eric Larson \\n\n",
    "    Department of Electrical and Computer Engineering \\n\n",
    "    Oklahoma State University, 2008 \\n\n",
    "    University Of Washington Seattle, 2009 \\n\n",
    "    Image Coding and Analysis lab\n",
    "    \n",
    "    Translation: Lukas Behammer \\n\n",
    "    Research Center Wels \\n\n",
    "    University of Applied Sciences Upper Austria \\n\n",
    "    CT Research Group \\n\n",
    "    \n",
    "    MODIFICATIONS\n",
    "    -------------\n",
    "    May 2001 \\n\n",
    "    Altered, 2008, Eric Larson \\n\n",
    "    Altered precomputations, 2011, Eric Larson \\n\n",
    "    Translated to Python, 2024, Lukas Behammer\n",
    "    \n",
    "    Literature\n",
    "    -------\n",
    "    D. J. Field, \"Relations Between the Statistics of Natural Images and the\n",
    "    Response Properties of Cortical Cells\", Journal of The Optical Society of\n",
    "    America A, Vol 4, No. 12, December 1987. pp 2379-2394\n",
    "    \n",
    "    LICENSE\n",
    "    -------\n",
    "    Copyright (c) 2001-2010 Peter Kovesi\n",
    "    www.peterkovesi.com\n",
    "\n",
    "    Permission is hereby granted, free of charge, to any person obtaining a copy\n",
    "    of this software and associated documentation files (the \"Software\"), to deal\n",
    "    in the Software without restriction, subject to the following conditions:\n",
    "\n",
    "    The above copyright notice and this permission notice shall be included in \n",
    "    all copies or substantial portions of the Software.\n",
    "\n",
    "    The Software is provided \"as is\", without warranty of any kind.\n",
    "    :param im: Image to be filtered\n",
    "    :param scales_num: Number of wavelet scales\n",
    "    :param orientations_num: Number of filter orientations\n",
    "    :param min_wavelength: Wavelength of smallest scale filter\n",
    "    :param wavelength_scaling: Scaling factor between successive filters\n",
    "    :param bandwidth_param: Ratio of standard deviation of the Gaussian describing log Gabor filter's transfer function in the frequency domain to the filter's center frequency (0.74 for 1 octave bandwidth, 0.55 for 2 octave bandwidth, 0.41 for 3 octave bandwidth)\n",
    "    :param d_theta_on_sigma: Ratio of angular interval between filter orientations and standard deviation of angular Gaussian function used to construct filters in the frequency plane\n",
    "    :return: \n",
    "    \"\"\"\n",
    "    # Precomputing and assigning variables\n",
    "    scales = np.arange(0, scales_num)\n",
    "    orientations = np.arange(0, orientations_num)\n",
    "    rows, cols = im.shape # image dimensions\n",
    "    # center of image\n",
    "    col_c = math.floor(cols/2)\n",
    "    row_c = math.floor(rows/2)\n",
    "    \n",
    "    # set up filter wavelengths from scales\n",
    "    wavelengths = [min_wavelength * wavelength_scaling ** scale_n for scale_n in range(0, scales_num)]\n",
    "    \n",
    "    # convert image to frequency domain\n",
    "    im_fft = fft.fftn(im)\n",
    "    \n",
    "    # compute matrices of same site as im with values ranging from -0.5 to 0.5 (-1.0 to 1.0) for horizontal and vertical directions each\n",
    "    if cols % 2 == 0:\n",
    "        x_range = np.linspace(-cols/2, (cols-2)/2, cols) / (cols / 2)\n",
    "    else:\n",
    "        x_range = np.linspace(-cols/2, cols/2, cols) / (cols / 2)\n",
    "    if rows % 2 == 0:\n",
    "        y_range = np.linspace(-rows/2, (rows-2)/2, rows) / (rows / 2)\n",
    "    else:\n",
    "        y_range = np.linspace(-rows/2, rows/2, rows) / (rows / 2)\n",
    "    x, y = np.meshgrid(x_range, y_range)\n",
    "    \n",
    "    # filters have radial component (frequency band) and an angular component (orientation), those are multiplied to get the final filter\n",
    "    \n",
    "    # compute radial distance from center of matrix\n",
    "    radius = np.sqrt(x**2 + y**2)\n",
    "    radius[radius == 0] = 1  # avoid logarithm of zero\n",
    "    \n",
    "    # compute polar angle and its sine and cosine\n",
    "    theta = np.arctan2(-y, x)\n",
    "    sin_theta = np.sin(theta)\n",
    "    cos_theta = np.cos(theta)\n",
    "    \n",
    "    # compute standard deviation of angular Gaussian function\n",
    "    theta_sigma = np.pi / orientations_num / d_theta_on_sigma\n",
    "    \n",
    "    # compute radial component\n",
    "    radial_components = []\n",
    "    for scale_n, scale in enumerate(scales):  # for each scale\n",
    "        center_freq = 1.0 / wavelengths[scale_n]  # center frequency of filter\n",
    "        normalised_center_freq = center_freq / 0.5\n",
    "        # log Gabor response for each frequency band (scale)\n",
    "        log_gabor = np.exp((np.log(radius) - np.log(normalised_center_freq))**2 / -(2 * np.log(bandwidth_param) ** 2))\n",
    "        log_gabor[row_c, col_c] = 0\n",
    "        radial_components.append(log_gabor)\n",
    "    \n",
    "    # angular component and final filtering    \n",
    "    res = np.empty((scales_num, orientations_num), dtype=object)  # precompute result array\n",
    "    for orientation_n, orientation in enumerate(orientations):  # for each orientation\n",
    "        # compute angular component\n",
    "        # Pre-compute filter data specific to this orientation\n",
    "        # For each point in the filter matrix calculate the angular distance from the specified filter orientation.  To overcome the angular wrap-around problem sine difference and cosine difference values are first computed and then the atan2 function is used to determine angular distance.\n",
    "        angle = orientation_n * np.pi / orientations_num  # filter angle\n",
    "        diff_sin = sin_theta * np.cos(angle) - cos_theta * np.sin(angle)  # difference of sin\n",
    "        diff_cos = cos_theta * np.cos(angle) + sin_theta * np.sin(angle)  # difference of cos\n",
    "        angular_distance = abs(np.arctan2(diff_sin, diff_cos))  # absolute angular distance\n",
    "        spread = np.exp((-angular_distance ** 2) / (2 * theta_sigma ** 2))  # angular filter component\n",
    "        \n",
    "        # filtering\n",
    "        for scale_n, scale in enumerate(scales):  # for each scale\n",
    "            # compute final filter\n",
    "            filter_ = fft.fftshift(radial_components[scale_n] * spread)\n",
    "            filter_[0, 0] = 0\n",
    "            \n",
    "            # apply filter\n",
    "            res[scale_n, orientation_n] = fft.ifftn(im_fft * filter_)\n",
    "    \n",
    "    return res"
   ],
   "metadata": {
    "collapsed": false,
    "ExecuteTime": {
     "end_time": "2024-01-15T16:26:49.196393100Z",
     "start_time": "2024-01-15T16:26:49.190676700Z"
    }
   },
   "id": "cfcb2705dc629d46"
  },
  {
   "cell_type": "code",
   "execution_count": 18,
   "outputs": [],
   "source": [
    "gabor_org = _gabor_convolve(img_r, nscale=5, norient=4)\n",
    "gabor_dst = _gabor_convolve(img_m, nscale=5, norient=4)"
   ],
   "metadata": {
    "collapsed": false,
    "ExecuteTime": {
     "end_time": "2024-01-15T16:26:50.761932800Z",
     "start_time": "2024-01-15T16:26:49.196393100Z"
    }
   },
   "id": "ed88454bb852dbf9"
  },
  {
   "cell_type": "code",
   "execution_count": 19,
   "outputs": [],
   "source": [
    "def _get_statistics(image, block_size, stride):\n",
    "    sub_blocks = extract_blocks(image, block_size=block_size, stride=stride)\n",
    "    std = np.std(sub_blocks, axis=(1, 2))\n",
    "    sk = []\n",
    "    k = []\n",
    "    for block in sub_blocks:\n",
    "        sk.append(skew(np.abs(block.flatten())))\n",
    "        k.append(kurtosis(np.abs(block.flatten())))\n",
    "    return std, sk, k"
   ],
   "metadata": {
    "collapsed": false,
    "ExecuteTime": {
     "end_time": "2024-01-15T16:26:50.761932800Z",
     "start_time": "2024-01-15T16:26:50.758871600Z"
    }
   },
   "id": "46eeafab09b42910"
  },
  {
   "cell_type": "code",
   "execution_count": 20,
   "outputs": [],
   "source": [
    "stds_r = []\n",
    "sks_r = []\n",
    "ks_r = []\n",
    "for s_o in gabor_org.reshape(20):\n",
    "    std, sk, k = _get_statistics(s_o, block_size=BLOCK_SIZE, stride=STRIDE)\n",
    "    stds_r.append(std)\n",
    "    sks_r.append(sk)\n",
    "    ks_r.append(k)\n",
    "    \n",
    "stds_m = []\n",
    "sks_m = []\n",
    "ks_m = []\n",
    "for s_o in gabor_dst.reshape(20):\n",
    "    std, sk, k = _get_statistics(s_o, block_size=BLOCK_SIZE, stride=STRIDE)\n",
    "    stds_m.append(std)\n",
    "    sks_m.append(sk)\n",
    "    ks_m.append(k)"
   ],
   "metadata": {
    "collapsed": false,
    "ExecuteTime": {
     "end_time": "2024-01-15T16:51:02.648223300Z",
     "start_time": "2024-01-15T16:26:50.762954900Z"
    }
   },
   "id": "b969c0881dd19d8b"
  },
  {
   "cell_type": "code",
   "execution_count": 21,
   "outputs": [],
   "source": [
    "stds_r = np.array(stds_r)\n",
    "sks_r = np.array(sks_r)\n",
    "ks_r = np.array(ks_r)\n",
    "stds_m = np.array(stds_m)\n",
    "sks_m = np.array(sks_m)\n",
    "ks_m = np.array(ks_m)"
   ],
   "metadata": {
    "collapsed": false,
    "ExecuteTime": {
     "end_time": "2024-01-15T16:51:02.850826100Z",
     "start_time": "2024-01-15T16:51:02.649220800Z"
    }
   },
   "id": "b2cd458dbda3f25d"
  },
  {
   "cell_type": "code",
   "execution_count": 22,
   "outputs": [],
   "source": [
    "stats = np.abs(stds_r - stds_m) + 2 * np.abs(sks_r - sks_m) + np.abs(ks_r - ks_m)"
   ],
   "metadata": {
    "collapsed": false,
    "ExecuteTime": {
     "end_time": "2024-01-15T16:51:02.874935900Z",
     "start_time": "2024-01-15T16:51:02.850826100Z"
    }
   },
   "id": "5df075c9b8812726"
  },
  {
   "cell_type": "code",
   "execution_count": 23,
   "outputs": [],
   "source": [
    "w = [0.5, 0.75, 1, 5, 6]\n",
    "ws = np.array(list((itertools.repeat(w, 4)))).flatten()"
   ],
   "metadata": {
    "collapsed": false,
    "ExecuteTime": {
     "end_time": "2024-01-15T16:51:02.876933100Z",
     "start_time": "2024-01-15T16:51:02.874431800Z"
    }
   },
   "id": "fbdae3542e1477ba"
  },
  {
   "cell_type": "code",
   "execution_count": 24,
   "outputs": [],
   "source": [
    "ws = np.array(list(itertools.repeat(ws, stats.shape[1]))).T"
   ],
   "metadata": {
    "collapsed": false,
    "ExecuteTime": {
     "end_time": "2024-01-15T16:51:02.909909500Z",
     "start_time": "2024-01-15T16:51:02.876933100Z"
    }
   },
   "id": "b611c310bc3a0168"
  },
  {
   "cell_type": "code",
   "execution_count": 25,
   "outputs": [],
   "source": [
    "eta = np.sum(ws * stats, axis=0)"
   ],
   "metadata": {
    "collapsed": false,
    "ExecuteTime": {
     "end_time": "2024-01-15T16:51:02.910908400Z",
     "start_time": "2024-01-15T16:51:02.898340400Z"
    }
   },
   "id": "88d30d6761c3f5e"
  },
  {
   "cell_type": "code",
   "execution_count": 26,
   "outputs": [
    {
     "data": {
      "text/plain": "64.681246703985"
     },
     "execution_count": 26,
     "metadata": {},
     "output_type": "execute_result"
    }
   ],
   "source": [
    "d_appear = np.sqrt(np.sum(eta ** 2) / len(eta))\n",
    "d_appear"
   ],
   "metadata": {
    "collapsed": false,
    "ExecuteTime": {
     "end_time": "2024-01-15T16:51:02.912904Z",
     "start_time": "2024-01-15T16:51:02.908888400Z"
    }
   },
   "id": "92d11ad9c3be867d"
  },
  {
   "cell_type": "code",
   "execution_count": 27,
   "outputs": [],
   "source": [
    "beta_1 = 0.467\n",
    "beta_2 = 0.130\n",
    "alpha = 1 / (1 + beta_1 * d_detect**beta_2)\n",
    "mad_index = d_detect**alpha / d_appear**(1-alpha)"
   ],
   "metadata": {
    "collapsed": false,
    "ExecuteTime": {
     "end_time": "2024-01-15T16:51:02.925265300Z",
     "start_time": "2024-01-15T16:51:02.910908400Z"
    }
   },
   "id": "303fff5b295d6740"
  },
  {
   "cell_type": "code",
   "execution_count": 28,
   "outputs": [
    {
     "data": {
      "text/plain": "0.011170525941570184"
     },
     "execution_count": 28,
     "metadata": {},
     "output_type": "execute_result"
    }
   ],
   "source": [
    "mad_index"
   ],
   "metadata": {
    "collapsed": false,
    "ExecuteTime": {
     "end_time": "2024-01-15T16:51:02.939227200Z",
     "start_time": "2024-01-15T16:51:02.918543Z"
    }
   },
   "id": "354a9ccd1395d6ff"
  }
 ],
 "metadata": {
  "kernelspec": {
   "display_name": "Python 3",
   "language": "python",
   "name": "python3"
  },
  "language_info": {
   "codemirror_mode": {
    "name": "ipython",
    "version": 2
   },
   "file_extension": ".py",
   "mimetype": "text/x-python",
   "name": "python",
   "nbconvert_exporter": "python",
   "pygments_lexer": "ipython2",
   "version": "2.7.6"
  }
 },
 "nbformat": 4,
 "nbformat_minor": 5
}
