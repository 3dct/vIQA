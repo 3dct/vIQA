{
 "cells": [
  {
   "cell_type": "code",
   "execution_count": 1,
   "id": "2599ed0c439963cb",
   "metadata": {
    "collapsed": false,
    "ExecuteTime": {
     "end_time": "2024-01-23T15:50:45.309538300Z",
     "start_time": "2024-01-23T15:50:40.545582Z"
    }
   },
   "outputs": [],
   "source": [
    "import scipy.fft as fft\n",
    "from scipy.stats import skew, kurtosis\n",
    "from scipy.ndimage import convolve\n",
    "from utils import _to_float, load_data\n",
    "import itertools\n",
    "import math\n",
    "import numpy as np\n",
    "import skimage.io as io\n",
    "from skimage.color import rgb2gray\n",
    "import matplotlib.pyplot as plt"
   ]
  },
  {
   "cell_type": "code",
   "execution_count": 2,
   "outputs": [],
   "source": [
    "file_path_img_r = '../../samples/Catec_Two_PlateIQI_20um/Catec_Two_PlateIQI_20um_1620proj_220kV_Rayscan-SimCT_800x800x1000_16bit.raw'\n",
    "file_path_img_m = '../../samples/Catec_Two_PlateIQI_20um/Catec_Two_PlateIQI_20um_810proj_220kV_Rayscan-SimCT_800x800x1000_16bit.raw'\n",
    "# # Data loading\n",
    "# img_r = load_data(file_path_img_r, data_range=255, normalize=True, batch=False)[400:600, 300, 300:500]\n",
    "# img_m = load_data(file_path_img_m, data_range=255, normalize=True, batch=False)[400:600, 300, 300:500]\n",
    "\n",
    "img_r = load_data(file_path_img_r, data_range=255, normalize=True, batch=False)[0:1000, 200, 0:800]\n",
    "img_m = load_data(file_path_img_m, data_range=255, normalize=True, batch=False)[0:1000, 200, 0:800]\n",
    "\n",
    "# file_path_img_r = '../../TID2013/reference_images/I01.bmp'\n",
    "# file_path_img_m = '../../TID2013/distorted_images/I01_01_2.bmp'\n",
    "# \n",
    "# img_r = io.imread(file_path_img_r)\n",
    "# img_m = io.imread(file_path_img_m)\n",
    "# \n",
    "# img_r = rgb2gray(img_r)\n",
    "# img_m = rgb2gray(img_m)"
   ],
   "metadata": {
    "collapsed": true,
    "ExecuteTime": {
     "end_time": "2024-01-23T15:51:16.618422Z",
     "start_time": "2024-01-23T15:50:45.313556800Z"
    }
   },
   "id": "initial_id"
  },
  {
   "cell_type": "code",
   "execution_count": 3,
   "outputs": [],
   "source": [
    "M, N = img_r.shape\n",
    "account_monitor = False"
   ],
   "metadata": {
    "collapsed": false,
    "ExecuteTime": {
     "end_time": "2024-01-23T15:51:16.630170700Z",
     "start_time": "2024-01-23T15:51:16.621190600Z"
    }
   },
   "id": "877489a81f59ea2"
  },
  {
   "cell_type": "code",
   "execution_count": 4,
   "outputs": [],
   "source": [
    "cycles_per_degree = 32"
   ],
   "metadata": {
    "collapsed": false,
    "ExecuteTime": {
     "end_time": "2024-01-23T15:51:16.631166300Z",
     "start_time": "2024-01-23T15:51:16.622187900Z"
    }
   },
   "id": "395e44d1389bf9da"
  },
  {
   "cell_type": "code",
   "execution_count": 5,
   "outputs": [],
   "source": [
    "def _contrast_sensitivity_function(m, n, nfreq):\n",
    "    xplane, yplane = np.meshgrid(np.arange(-n / 2 + 0.5, n / 2 + 0.5), np.arange(-m / 2 + 0.5, m / 2 + 0.5))\n",
    "    plane = (xplane + 1j * yplane) * 2 * nfreq / n\n",
    "    radfreq = np.abs(plane)\n",
    "    \n",
    "    w = 0.7\n",
    "    theta = np.angle(plane)\n",
    "    s = ((1 - w) / 2) * np.cos(4 * theta) + ((1 + w) / 2)\n",
    "    radfreq /= s\n",
    "    \n",
    "    lambda_ = 0.114\n",
    "    f_peak = 7.8909\n",
    "    cond = radfreq < f_peak\n",
    "    csf = 2.6 * (0.0192 + lambda_ * radfreq) * np.exp(-(lambda_ * radfreq)**1.1)\n",
    "    csf[cond] = 0.9809\n",
    "    \n",
    "    return csf"
   ],
   "metadata": {
    "collapsed": false,
    "ExecuteTime": {
     "end_time": "2024-01-23T15:51:16.635761900Z",
     "start_time": "2024-01-23T15:51:16.633262Z"
    }
   },
   "id": "98d8b7aece2b6d41"
  },
  {
   "cell_type": "code",
   "execution_count": 6,
   "outputs": [],
   "source": [
    "csf = _contrast_sensitivity_function(M, N, 32)"
   ],
   "metadata": {
    "collapsed": false,
    "ExecuteTime": {
     "end_time": "2024-01-23T15:51:16.730479400Z",
     "start_time": "2024-01-23T15:51:16.634764800Z"
    }
   },
   "id": "3621ceed17ef856b"
  },
  {
   "cell_type": "code",
   "execution_count": 7,
   "outputs": [],
   "source": [
    "krt_dst_p = 0.02874\n",
    "gamma = 2.2\n",
    "LUT = np.arange(0, 256)\n",
    "LUT = krt_dst_p * LUT ** (gamma / 3)\n",
    "lum_r = LUT[img_r]\n",
    "lum_m = LUT[img_m]"
   ],
   "metadata": {
    "collapsed": false,
    "ExecuteTime": {
     "end_time": "2024-01-23T15:51:16.743860400Z",
     "start_time": "2024-01-23T15:51:16.733472400Z"
    }
   },
   "id": "62f9c5a62b38b50e"
  },
  {
   "cell_type": "code",
   "execution_count": 8,
   "outputs": [],
   "source": [
    "def _fft(img):\n",
    "    return fft.fftshift(fft.fftn(img))\n",
    "\n",
    "def _ifft(fourier_img):\n",
    "    return fft.ifftn(fft.ifftshift(fourier_img))"
   ],
   "metadata": {
    "collapsed": false,
    "ExecuteTime": {
     "end_time": "2024-01-23T15:51:16.745853900Z",
     "start_time": "2024-01-23T15:51:16.742864900Z"
    }
   },
   "id": "1291ce77c6b519b5"
  },
  {
   "cell_type": "code",
   "execution_count": 9,
   "outputs": [],
   "source": [
    "lum_r_fft = _fft(lum_r)\n",
    "lum_m_fft = _fft(lum_m)\n",
    "\n",
    "I_org = np.real(_ifft(csf * lum_r_fft))\n",
    "I_dst = np.real(_ifft(csf * lum_m_fft))\n",
    "\n",
    "I_err = I_dst - I_org"
   ],
   "metadata": {
    "collapsed": false,
    "ExecuteTime": {
     "end_time": "2024-01-23T15:51:16.852169100Z",
     "start_time": "2024-01-23T15:51:16.744856800Z"
    }
   },
   "id": "f03da47cf29f2bd5"
  },
  {
   "cell_type": "code",
   "execution_count": 10,
   "outputs": [],
   "source": [
    "def extract_blocks(img, block_size, stride):\n",
    "    \"\"\"\n",
    "    Extracts blocks from an image.\n",
    "    :param img: Input image\n",
    "    :param block_size: Size of the block\n",
    "    :param stride: Stride\n",
    "    :return: Numpy array of blocks\n",
    "    \"\"\"\n",
    "    boxes = []\n",
    "    m, n = img.shape\n",
    "    for i in range(0, m - (block_size - 1), stride):\n",
    "        for j in range(0, n - (block_size - 1), stride):\n",
    "            boxes.append(img[i:i + block_size, j:j + block_size])\n",
    "    return np.array(boxes)"
   ],
   "metadata": {
    "collapsed": false,
    "ExecuteTime": {
     "end_time": "2024-01-23T15:51:16.863574900Z",
     "start_time": "2024-01-23T15:51:16.855576200Z"
    }
   },
   "id": "643785b64c15622c"
  },
  {
   "cell_type": "code",
   "execution_count": 11,
   "outputs": [],
   "source": [
    "def min_std(image):\n",
    "    tmp = np.empty(image.shape)\n",
    "    stdout = np.empty(image.shape)\n",
    "    for i in range(0, M-15, 4):\n",
    "        for j in range(0, N-15, 4):\n",
    "            mean = 0\n",
    "            for k in range(i, i+8):\n",
    "                for l in range(j, j+8):\n",
    "                    mean += image[k, l]\n",
    "            mean /= 64\n",
    "            \n",
    "            stdev = 0\n",
    "            for k in range(i, i+8):\n",
    "                for l in range(j, j+8):\n",
    "                    stdev += (image[k, l] - mean) ** 2\n",
    "            stdev = np.sqrt(stdev / 63)\n",
    "            \n",
    "            for k in range(i, i+4):\n",
    "                for l in range(j, j+4):\n",
    "                    tmp[k, l] = stdev\n",
    "                    stdout[k, l] = stdev\n",
    "    \n",
    "    for i in range(0, M-15, 4):\n",
    "        for j in range(0, N-15, 4):\n",
    "            val = tmp[i, j]\n",
    "            for k in range(i, i+8, 5):\n",
    "                for l in range(j, j+8, 5):\n",
    "                    if tmp[k, l] < val:\n",
    "                        val = tmp[k, l]\n",
    "                        \n",
    "            for k in range(i, i+4):\n",
    "                for l in range(j, j+4):\n",
    "                    stdout[k, l] = val\n",
    "    \n",
    "    return stdout            "
   ],
   "metadata": {
    "collapsed": false,
    "ExecuteTime": {
     "end_time": "2024-01-23T15:51:16.876874800Z",
     "start_time": "2024-01-23T15:51:16.860557600Z"
    }
   },
   "id": "bfe54aa8defac941"
  },
  {
   "cell_type": "code",
   "execution_count": 12,
   "outputs": [],
   "source": [
    "# Contrast masking\n",
    "BLOCK_SIZE = 16\n",
    "overlap = 0.75\n",
    "STRIDE = BLOCK_SIZE - int(overlap * BLOCK_SIZE)\n",
    "I_org_blocks = extract_blocks(I_org, block_size=BLOCK_SIZE, stride=STRIDE)\n",
    "I_err_blocks = extract_blocks(I_err, block_size=BLOCK_SIZE, stride=STRIDE)"
   ],
   "metadata": {
    "collapsed": false,
    "ExecuteTime": {
     "end_time": "2024-01-23T15:51:16.990574700Z",
     "start_time": "2024-01-23T15:51:16.873882900Z"
    }
   },
   "id": "6df5ee23440ed756"
  },
  {
   "cell_type": "code",
   "execution_count": 13,
   "outputs": [],
   "source": [
    "mu_org_p = np.mean(I_org_blocks, axis=(1, 2))\n",
    "std_err_p = np.std(I_err_blocks, axis=(1, 2), ddof=1)\n",
    "\n",
    "std_org = min_std(I_org)\n",
    "\n",
    "mu_org = np.zeros(I_org.shape)\n",
    "std_err = np.zeros(I_err.shape)\n",
    "\n",
    "block_n = 0\n",
    "for x in range(0, I_org.shape[0] - STRIDE * 3, STRIDE):\n",
    "    for y in range(0, I_org.shape[1] - STRIDE * 3, STRIDE):\n",
    "        mu_org[x:x+STRIDE, y:y+STRIDE] = mu_org_p[block_n]\n",
    "        std_err[x:x+STRIDE, y:y+STRIDE] = std_err_p[block_n]\n",
    "        block_n += 1\n",
    "del mu_org_p, std_err_p"
   ],
   "metadata": {
    "collapsed": false,
    "ExecuteTime": {
     "end_time": "2024-01-23T15:51:19.051106500Z",
     "start_time": "2024-01-23T15:51:16.992569900Z"
    }
   },
   "id": "28f3c00591f1eb52"
  },
  {
   "cell_type": "code",
   "execution_count": 14,
   "outputs": [
    {
     "name": "stderr",
     "output_type": "stream",
     "text": [
      "C:\\Users\\p42938\\AppData\\Local\\Temp\\ipykernel_18832\\276551476.py:1: RuntimeWarning: invalid value encountered in divide\n",
      "  C_org = std_org / mu_org\n"
     ]
    }
   ],
   "source": [
    "C_org = std_org / mu_org\n",
    "C_err = np.zeros(std_err.shape)\n",
    "_ = np.divide(std_err, mu_org, out=C_err, where=mu_org>0.5)"
   ],
   "metadata": {
    "collapsed": false,
    "ExecuteTime": {
     "end_time": "2024-01-23T15:51:19.064567100Z",
     "start_time": "2024-01-23T15:51:19.054099200Z"
    }
   },
   "id": "e5a986d191ec0781"
  },
  {
   "cell_type": "code",
   "execution_count": 15,
   "outputs": [
    {
     "name": "stderr",
     "output_type": "stream",
     "text": [
      "C:\\Users\\p42938\\AppData\\Local\\Temp\\ipykernel_18832\\2523429962.py:1: RuntimeWarning: divide by zero encountered in log\n",
      "  Ci_org = np.log(C_org)\n",
      "C:\\Users\\p42938\\AppData\\Local\\Temp\\ipykernel_18832\\2523429962.py:2: RuntimeWarning: divide by zero encountered in log\n",
      "  Ci_err = np.log(C_err)\n"
     ]
    }
   ],
   "source": [
    "Ci_org = np.log(C_org)\n",
    "Ci_err = np.log(C_err)"
   ],
   "metadata": {
    "collapsed": false,
    "ExecuteTime": {
     "end_time": "2024-01-23T15:51:19.093936700Z",
     "start_time": "2024-01-23T15:51:19.063569100Z"
    }
   },
   "id": "1864a0e01af3b705"
  },
  {
   "cell_type": "code",
   "execution_count": 16,
   "outputs": [],
   "source": [
    "C_slope = 1\n",
    "Ci_thrsh = -5\n",
    "Cd_thrsh = -5\n",
    "tmp = C_slope * (Ci_org - Ci_thrsh) + Cd_thrsh\n",
    "cond_1 = np.logical_and(Ci_err > tmp, Ci_org > Ci_thrsh)\n",
    "cond_2 = np.logical_and(Ci_err > Cd_thrsh, Ci_thrsh >= Ci_org)\n",
    "\n",
    "# in matlab: additional normalization parameter: ms_scale = 1\n",
    "# --> (... - ...) / ms_scale\n",
    "# not yet implemented\n",
    "msk = np.zeros(C_err.shape)\n",
    "_ = np.subtract(Ci_err, tmp, out=msk, where=cond_1)\n",
    "_ = np.subtract(Ci_err, Cd_thrsh, out=msk, where=cond_2)"
   ],
   "metadata": {
    "collapsed": false,
    "ExecuteTime": {
     "end_time": "2024-01-23T15:51:19.111483400Z",
     "start_time": "2024-01-23T15:51:19.096929700Z"
    }
   },
   "id": "7943536f47c482c3"
  },
  {
   "cell_type": "code",
   "execution_count": 17,
   "outputs": [],
   "source": [
    "win = np.ones((BLOCK_SIZE, BLOCK_SIZE)) / BLOCK_SIZE**2\n",
    "lmse = convolve((_to_float(img_r) - _to_float(img_m))**2, win, mode='reflect')"
   ],
   "metadata": {
    "collapsed": false,
    "ExecuteTime": {
     "end_time": "2024-01-23T15:51:19.294372700Z",
     "start_time": "2024-01-23T15:51:19.108493100Z"
    }
   },
   "id": "93571d0993953d26"
  },
  {
   "cell_type": "code",
   "execution_count": 18,
   "outputs": [],
   "source": [
    "mp = msk * lmse\n",
    "mp2 = mp[BLOCK_SIZE:-BLOCK_SIZE, BLOCK_SIZE:-BLOCK_SIZE]"
   ],
   "metadata": {
    "collapsed": false,
    "ExecuteTime": {
     "end_time": "2024-01-23T15:51:19.308726700Z",
     "start_time": "2024-01-23T15:51:19.297365500Z"
    }
   },
   "id": "8f45520aa69b2378"
  },
  {
   "cell_type": "code",
   "execution_count": 19,
   "outputs": [
    {
     "data": {
      "text/plain": "13142.507283411735"
     },
     "execution_count": 19,
     "metadata": {},
     "output_type": "execute_result"
    }
   ],
   "source": [
    "d_detect = np.linalg.norm(mp2) / np.sqrt(np.prod(mp2.shape)) * 200\n",
    "d_detect"
   ],
   "metadata": {
    "collapsed": false,
    "ExecuteTime": {
     "end_time": "2024-01-23T15:51:19.311230700Z",
     "start_time": "2024-01-23T15:51:19.302242800Z"
    }
   },
   "id": "d3297080a2e287d0"
  },
  {
   "cell_type": "code",
   "execution_count": 20,
   "outputs": [],
   "source": [
    "def _gabor_convolve(im, scales_num: int, orientations_num: int, min_wavelength=3, wavelength_scaling=3, bandwidth_param=0.55, d_theta_on_sigma=1.5):\n",
    "    \"\"\"\n",
    "    Computes Gabor filter responses. \\n\n",
    "    bandwidth_param vs wavelength_scaling \\n\n",
    "    0.85 <--> 1.3 \\n\n",
    "    0.74 <--> 1.6 (1 octave bandwidth) \\n\n",
    "    0.65 <--> 2.1 \\n\n",
    "    0.55 <--> 3.0 (2 octave bandwidth) \\n\n",
    "    \n",
    "    AUTHOR\n",
    "    ------\n",
    "    This code was originally written in Matlab by Peter Kovesi and adapted by Eric Larson. \\n\n",
    "    It is available from http://vision.eng.shizuoka.ac.jp/mad (version 2011_10_07). \\n\n",
    "    It was translated to Python by Lukas Behammer. \\n\n",
    "    \n",
    "    Author: Peter Kovesi \\n\n",
    "    Department of Computer Science & Software Engineering \\n\n",
    "    The University of Western Australia \\n\n",
    "    pk@cs.uwa.edu.au  https://peterkovesi.com/projects/ \\n\n",
    "    \n",
    "    Adaption: Eric Larson \\n\n",
    "    Department of Electrical and Computer Engineering \\n\n",
    "    Oklahoma State University, 2008 \\n\n",
    "    University Of Washington Seattle, 2009 \\n\n",
    "    Image Coding and Analysis lab\n",
    "    \n",
    "    Translation: Lukas Behammer \\n\n",
    "    Research Center Wels \\n\n",
    "    University of Applied Sciences Upper Austria \\n\n",
    "    CT Research Group \\n\n",
    "    \n",
    "    MODIFICATIONS\n",
    "    -------------\n",
    "    May 2001 \\n\n",
    "    Altered, 2008, Eric Larson \\n\n",
    "    Altered precomputations, 2011, Eric Larson \\n\n",
    "    Translated to Python, 2024, Lukas Behammer\n",
    "    \n",
    "    Literature\n",
    "    -------\n",
    "    D. J. Field, \"Relations Between the Statistics of Natural Images and the\n",
    "    Response Properties of Cortical Cells\", Journal of The Optical Society of\n",
    "    America A, Vol 4, No. 12, December 1987. pp 2379-2394\n",
    "    \n",
    "    LICENSE\n",
    "    -------\n",
    "    Copyright (c) 2001-2010 Peter Kovesi\n",
    "    www.peterkovesi.com\n",
    "\n",
    "    Permission is hereby granted, free of charge, to any person obtaining a copy\n",
    "    of this software and associated documentation files (the \"Software\"), to deal\n",
    "    in the Software without restriction, subject to the following conditions:\n",
    "\n",
    "    The above copyright notice and this permission notice shall be included in \n",
    "    all copies or substantial portions of the Software.\n",
    "\n",
    "    The Software is provided \"as is\", without warranty of any kind.\n",
    "    :param im: Image to be filtered\n",
    "    :param scales_num: Number of wavelet scales\n",
    "    :param orientations_num: Number of filter orientations\n",
    "    :param min_wavelength: Wavelength of smallest scale filter\n",
    "    :param wavelength_scaling: Scaling factor between successive filters\n",
    "    :param bandwidth_param: Ratio of standard deviation of the Gaussian describing log Gabor filter's transfer function in the frequency domain to the filter's center frequency (0.74 for 1 octave bandwidth, 0.55 for 2 octave bandwidth, 0.41 for 3 octave bandwidth)\n",
    "    :param d_theta_on_sigma: Ratio of angular interval between filter orientations and standard deviation of angular Gaussian function used to construct filters in the frequency plane\n",
    "    :return: \n",
    "    \"\"\"\n",
    "    # Precomputing and assigning variables\n",
    "    scales = np.arange(0, scales_num)\n",
    "    orientations = np.arange(0, orientations_num)\n",
    "    rows, cols = im.shape # image dimensions\n",
    "    # center of image\n",
    "    col_c = math.floor(cols/2)\n",
    "    row_c = math.floor(rows/2)\n",
    "    \n",
    "    # set up filter wavelengths from scales\n",
    "    wavelengths = [min_wavelength * wavelength_scaling ** scale_n for scale_n in range(0, scales_num)]\n",
    "    \n",
    "    # convert image to frequency domain\n",
    "    im_fft = fft.fftn(im)\n",
    "    \n",
    "    # compute matrices of same site as im with values ranging from -0.5 to 0.5 (-1.0 to 1.0) for horizontal and vertical directions each\n",
    "    if cols % 2 == 0:\n",
    "        x_range = np.linspace(-cols/2, (cols-2)/2, cols) / (cols / 2)\n",
    "    else:\n",
    "        x_range = np.linspace(-cols/2, cols/2, cols) / (cols / 2)\n",
    "    if rows % 2 == 0:\n",
    "        y_range = np.linspace(-rows/2, (rows-2)/2, rows) / (rows / 2)\n",
    "    else:\n",
    "        y_range = np.linspace(-rows/2, rows/2, rows) / (rows / 2)\n",
    "    x, y = np.meshgrid(x_range, y_range)\n",
    "    \n",
    "    # filters have radial component (frequency band) and an angular component (orientation), those are multiplied to get the final filter\n",
    "    \n",
    "    # compute radial distance from center of matrix\n",
    "    radius = np.sqrt(x**2 + y**2)\n",
    "    radius[radius == 0] = 1  # avoid logarithm of zero\n",
    "    \n",
    "    # compute polar angle and its sine and cosine\n",
    "    theta = np.arctan2(-y, x)\n",
    "    sin_theta = np.sin(theta)\n",
    "    cos_theta = np.cos(theta)\n",
    "    \n",
    "    # compute standard deviation of angular Gaussian function\n",
    "    theta_sigma = np.pi / orientations_num / d_theta_on_sigma\n",
    "    \n",
    "    # compute radial component\n",
    "    radial_components = []\n",
    "    for scale_n, scale in enumerate(scales):  # for each scale\n",
    "        center_freq = 1.0 / wavelengths[scale_n]  # center frequency of filter\n",
    "        normalised_center_freq = center_freq / 0.5\n",
    "        # log Gabor response for each frequency band (scale)\n",
    "        log_gabor = np.exp((np.log(radius) - np.log(normalised_center_freq))**2 / -(2 * np.log(bandwidth_param) ** 2))\n",
    "        log_gabor[row_c, col_c] = 0\n",
    "        radial_components.append(log_gabor)\n",
    "    \n",
    "    # angular component and final filtering    \n",
    "    res = np.empty((scales_num, orientations_num), dtype=object)  # precompute result array\n",
    "    for orientation_n, orientation in enumerate(orientations):  # for each orientation\n",
    "        # compute angular component\n",
    "        # Pre-compute filter data specific to this orientation\n",
    "        # For each point in the filter matrix calculate the angular distance from the specified filter orientation.  To overcome the angular wrap-around problem sine difference and cosine difference values are first computed and then the atan2 function is used to determine angular distance.\n",
    "        angle = orientation_n * np.pi / orientations_num  # filter angle\n",
    "        diff_sin = sin_theta * np.cos(angle) - cos_theta * np.sin(angle)  # difference of sin\n",
    "        diff_cos = cos_theta * np.cos(angle) + sin_theta * np.sin(angle)  # difference of cos\n",
    "        angular_distance = abs(np.arctan2(diff_sin, diff_cos))  # absolute angular distance\n",
    "        spread = np.exp((-angular_distance ** 2) / (2 * theta_sigma ** 2))  # angular filter component\n",
    "        \n",
    "        # filtering\n",
    "        for scale_n, scale in enumerate(scales):  # for each scale\n",
    "            # compute final filter\n",
    "            filter_ = fft.fftshift(radial_components[scale_n] * spread)\n",
    "            filter_[0, 0] = 0\n",
    "            \n",
    "            # apply filter\n",
    "            res[scale_n, orientation_n] = fft.ifftn(im_fft * filter_)\n",
    "    \n",
    "    return res"
   ],
   "metadata": {
    "collapsed": false,
    "ExecuteTime": {
     "end_time": "2024-01-23T15:51:19.324076Z",
     "start_time": "2024-01-23T15:51:19.319211200Z"
    }
   },
   "id": "cfcb2705dc629d46"
  },
  {
   "cell_type": "code",
   "execution_count": 21,
   "outputs": [],
   "source": [
    "orientations_num = 4\n",
    "scales_num = 5\n",
    "gabor_org = _gabor_convolve(img_r, scales_num=scales_num, orientations_num=orientations_num, min_wavelength=3, wavelength_scaling=3,\n",
    "                            bandwidth_param=0.55, d_theta_on_sigma=1.5)\n",
    "gabor_dst = _gabor_convolve(img_m, scales_num=scales_num, orientations_num=orientations_num, min_wavelength=3, wavelength_scaling=3,\n",
    "                            bandwidth_param=0.55, d_theta_on_sigma=1.5)"
   ],
   "metadata": {
    "collapsed": false,
    "ExecuteTime": {
     "end_time": "2024-01-23T15:51:20.875001800Z",
     "start_time": "2024-01-23T15:51:19.325073900Z"
    }
   },
   "id": "ed88454bb852dbf9"
  },
  {
   "cell_type": "code",
   "execution_count": 22,
   "outputs": [],
   "source": [
    "O = orientations_num * scales_num\n",
    "weights = [0.5, 0.75, 1, 5, 6]\n",
    "weights /= np.sum(weights)"
   ],
   "metadata": {
    "collapsed": false,
    "ExecuteTime": {
     "end_time": "2024-01-23T15:51:20.888138600Z",
     "start_time": "2024-01-23T15:51:20.875999300Z"
    }
   },
   "id": "2cf663d8525f51e1"
  },
  {
   "cell_type": "code",
   "execution_count": 25,
   "outputs": [],
   "source": [
    "def _get_statistics(image, block_size, stride):\n",
    "    sub_blocks = extract_blocks(image, block_size=block_size, stride=stride)\n",
    "    std = np.std(sub_blocks, axis=(1, 2))\n",
    "    skw = []\n",
    "    krt = []\n",
    "    for block in sub_blocks:\n",
    "        skw.append(skew(np.abs(block.flatten())))\n",
    "        krt.append(kurtosis(np.abs(block.flatten())) + 3)\n",
    "    return std, skw, krt"
   ],
   "metadata": {
    "collapsed": false,
    "ExecuteTime": {
     "end_time": "2024-01-23T16:03:14.105565900Z",
     "start_time": "2024-01-23T16:03:13.297425100Z"
    }
   },
   "id": "46eeafab09b42910"
  },
  {
   "cell_type": "code",
   "execution_count": 31,
   "outputs": [
    {
     "name": "stdout",
     "output_type": "stream",
     "text": [
      "1\n",
      "2\n",
      "3\n",
      "4\n",
      "5\n",
      "6\n",
      "7\n",
      "8\n",
      "9\n",
      "10\n",
      "11\n",
      "12\n",
      "13\n",
      "14\n",
      "15\n",
      "16\n",
      "17\n",
      "18\n",
      "19\n",
      "20\n"
     ]
    }
   ],
   "source": [
    "stats = np.zeros((M, N))\n",
    "c = 0\n",
    "for scale_n in range(scales_num):\n",
    "    for orientation_n in range(orientations_num):\n",
    "        c += 1\n",
    "        print(c)\n",
    "        std_ref_p, skw_ref_p, krt_ref_p = _get_statistics(np.abs(gabor_org[scale_n, orientation_n]), block_size=BLOCK_SIZE, stride=STRIDE)\n",
    "        std_dst_p, skw_dst_p, krt_dst_p = _get_statistics(np.abs(gabor_dst[scale_n, orientation_n]), block_size=BLOCK_SIZE, stride=STRIDE)\n",
    "        \n",
    "        std_ref = np.zeros((M, N))\n",
    "        std_dst = np.zeros((M, N))\n",
    "        skw_ref = np.zeros((M, N))\n",
    "        skw_dst = np.zeros((M, N))\n",
    "        krt_ref = np.zeros((M, N))\n",
    "        krt_dst = np.zeros((M, N))\n",
    "        \n",
    "        block_n = 0\n",
    "        for x in range(0, M - STRIDE * 3, STRIDE):\n",
    "            for y in range(0, N - STRIDE * 3, STRIDE):\n",
    "                std_ref[x:x + STRIDE, y:y + STRIDE] = std_ref_p[block_n]\n",
    "                std_dst[x:x+STRIDE, y:y+STRIDE] = std_dst_p[block_n]\n",
    "                skw_ref[x:x + STRIDE, y:y + STRIDE] = skw_ref_p[block_n]\n",
    "                skw_dst[x:x+STRIDE, y:y+STRIDE] = skw_dst_p[block_n]\n",
    "                krt_ref[x:x + STRIDE, y:y + STRIDE] = krt_ref_p[block_n]\n",
    "                krt_dst[x:x+STRIDE, y:y+STRIDE] = krt_dst_p[block_n]\n",
    "                block_n += 1\n",
    "        \n",
    "        stats += weights[scale_n] * (np.abs(std_ref - std_dst) + 2 * np.abs(skw_ref - skw_dst) + np.abs(krt_ref - krt_dst))"
   ],
   "metadata": {
    "collapsed": false,
    "ExecuteTime": {
     "end_time": "2024-01-23T16:49:27.342373200Z",
     "start_time": "2024-01-23T16:25:55.623079400Z"
    }
   },
   "id": "3534977b88a35748"
  },
  {
   "cell_type": "code",
   "execution_count": 32,
   "outputs": [],
   "source": [
    "mp2 = stats[BLOCK_SIZE:-BLOCK_SIZE, BLOCK_SIZE:-BLOCK_SIZE]"
   ],
   "metadata": {
    "collapsed": false,
    "ExecuteTime": {
     "end_time": "2024-01-23T16:50:07.931041300Z",
     "start_time": "2024-01-23T16:50:07.915869800Z"
    }
   },
   "id": "88d30d6761c3f5e"
  },
  {
   "cell_type": "code",
   "execution_count": 33,
   "outputs": [
    {
     "data": {
      "text/plain": "2.8866045602584562"
     },
     "execution_count": 33,
     "metadata": {},
     "output_type": "execute_result"
    }
   ],
   "source": [
    "d_appear = np.linalg.norm(mp2) / np.sqrt(np.prod(mp2.shape))\n",
    "d_appear"
   ],
   "metadata": {
    "collapsed": false,
    "ExecuteTime": {
     "end_time": "2024-01-23T16:50:07.943036100Z",
     "start_time": "2024-01-23T16:50:07.920957100Z"
    }
   },
   "id": "92d11ad9c3be867d"
  },
  {
   "cell_type": "code",
   "execution_count": 84,
   "outputs": [],
   "source": [
    "# from scipy.io import savemat\n",
    "# savemat('gabor_org.mat', {'gabor_org': gabor_org})"
   ],
   "metadata": {
    "collapsed": false,
    "ExecuteTime": {
     "end_time": "2024-01-23T15:17:47.806835300Z",
     "start_time": "2024-01-23T15:17:43.519731500Z"
    }
   },
   "id": "c1a606825613b34f"
  },
  {
   "cell_type": "code",
   "execution_count": 39,
   "outputs": [],
   "source": [
    "thresh1 = 2.55\n",
    "thresh2 = 3.35\n",
    "\n",
    "beta_1 = np.exp(-thresh1/thresh2)  # 0.467\n",
    "beta_2 = 1/(np.log(10)*thresh2)  # 0.130\n",
    "alpha = 1 / (1 + beta_1 * d_detect**beta_2)\n",
    "mad_index = d_detect**alpha * d_appear**(1-alpha)"
   ],
   "metadata": {
    "collapsed": false,
    "ExecuteTime": {
     "end_time": "2024-01-23T17:03:57.303435700Z",
     "start_time": "2024-01-23T17:03:57.150341Z"
    }
   },
   "id": "303fff5b295d6740"
  },
  {
   "cell_type": "code",
   "execution_count": 40,
   "outputs": [
    {
     "data": {
      "text/plain": "73.94868486130845"
     },
     "execution_count": 40,
     "metadata": {},
     "output_type": "execute_result"
    }
   ],
   "source": [
    "mad_index"
   ],
   "metadata": {
    "collapsed": false,
    "ExecuteTime": {
     "end_time": "2024-01-23T17:03:59.738428Z",
     "start_time": "2024-01-23T17:03:59.735110500Z"
    }
   },
   "id": "354a9ccd1395d6ff"
  }
 ],
 "metadata": {
  "kernelspec": {
   "display_name": "Python 3",
   "language": "python",
   "name": "python3"
  },
  "language_info": {
   "codemirror_mode": {
    "name": "ipython",
    "version": 2
   },
   "file_extension": ".py",
   "mimetype": "text/x-python",
   "name": "python",
   "nbconvert_exporter": "python",
   "pygments_lexer": "ipython2",
   "version": "2.7.6"
  }
 },
 "nbformat": 4,
 "nbformat_minor": 5
}
