{
 "cells": [
  {
   "cell_type": "code",
   "execution_count": 7,
   "id": "initial_id",
   "metadata": {
    "collapsed": true,
    "ExecuteTime": {
     "end_time": "2023-12-20T15:27:06.107302300Z",
     "start_time": "2023-12-20T15:27:04.136534100Z"
    }
   },
   "outputs": [],
   "source": [
    "import psnr, rmse\n",
    "from utils import load_data\n",
    "import numpy as np\n",
    "import torch\n",
    "from piq import fsim"
   ]
  },
  {
   "cell_type": "code",
   "execution_count": 8,
   "outputs": [],
   "source": [
    "file_path_img_r = '../../samples/Catec_Two_PlateIQI_20um/Catec_Two_PlateIQI_20um_1620proj_220kV_Rayscan-SimCT_800x800x1000_16bit.raw'\n",
    "file_path_img_m = '../../samples/Catec_Two_PlateIQI_20um/Catec_Two_PlateIQI_20um_810proj_220kV_Rayscan-SimCT_800x800x1000_16bit.raw'\n",
    "\n",
    "img_r = load_data(file_path_img_r)\n",
    "img_m = load_data(file_path_img_m)"
   ],
   "metadata": {
    "collapsed": false,
    "ExecuteTime": {
     "end_time": "2023-12-20T15:27:37.514565600Z",
     "start_time": "2023-12-20T15:27:06.109264300Z"
    }
   },
   "id": "6595dca8a766d911"
  },
  {
   "cell_type": "code",
   "execution_count": 9,
   "outputs": [
    {
     "data": {
      "text/plain": "(1000, 800, 800)"
     },
     "execution_count": 9,
     "metadata": {},
     "output_type": "execute_result"
    }
   ],
   "source": [
    "img_r.shape"
   ],
   "metadata": {
    "collapsed": false,
    "ExecuteTime": {
     "end_time": "2023-12-20T15:27:37.519092900Z",
     "start_time": "2023-12-20T15:27:37.515563Z"
    }
   },
   "id": "e7a4bbbd2490329e"
  },
  {
   "cell_type": "code",
   "execution_count": 10,
   "outputs": [],
   "source": [
    "img_r_tensor = torch.tensor(img_r).permute(2, 0, 1).unsqueeze(0).unsqueeze(0)\n",
    "img_m_tensor = torch.tensor(img_m).permute(2, 0, 1).unsqueeze(0).unsqueeze(0)"
   ],
   "metadata": {
    "collapsed": false,
    "ExecuteTime": {
     "end_time": "2023-12-20T15:27:39.199682400Z",
     "start_time": "2023-12-20T15:27:37.521087500Z"
    }
   },
   "id": "c89246a528fb5ebf"
  },
  {
   "cell_type": "code",
   "execution_count": 11,
   "outputs": [
    {
     "data": {
      "text/plain": "torch.Size([1, 1, 800, 1000, 800])"
     },
     "execution_count": 11,
     "metadata": {},
     "output_type": "execute_result"
    }
   ],
   "source": [
    "img_r_tensor.shape"
   ],
   "metadata": {
    "collapsed": false,
    "ExecuteTime": {
     "end_time": "2023-12-20T15:27:39.200680Z",
     "start_time": "2023-12-20T15:27:39.192956600Z"
    }
   },
   "id": "e782eab9ab2131f2"
  },
  {
   "cell_type": "code",
   "execution_count": 12,
   "outputs": [
    {
     "data": {
      "text/plain": "torch.Size([1, 1, 800, 1000, 800])"
     },
     "execution_count": 12,
     "metadata": {},
     "output_type": "execute_result"
    }
   ],
   "source": [
    "img_m_tensor.shape"
   ],
   "metadata": {
    "collapsed": false,
    "ExecuteTime": {
     "end_time": "2023-12-20T15:27:39.205184500Z",
     "start_time": "2023-12-20T15:27:39.199682400Z"
    }
   },
   "id": "bc75fbb6fc717bd"
  },
  {
   "cell_type": "code",
   "execution_count": 13,
   "outputs": [
    {
     "ename": "AssertionError",
     "evalue": "Expected number of dimensions to be 4, got 5",
     "output_type": "error",
     "traceback": [
      "\u001B[1;31m---------------------------------------------------------------------------\u001B[0m",
      "\u001B[1;31mAssertionError\u001B[0m                            Traceback (most recent call last)",
      "Cell \u001B[1;32mIn[13], line 1\u001B[0m\n\u001B[1;32m----> 1\u001B[0m score_val \u001B[38;5;241m=\u001B[39m fsim(img_r_tensor, img_m_tensor, chromatic\u001B[38;5;241m=\u001B[39m\u001B[38;5;28;01mFalse\u001B[39;00m, data_range\u001B[38;5;241m=\u001B[39m\u001B[38;5;241m255\u001B[39m)\n",
      "File \u001B[1;32m~\\.conda\\envs\\IQA_Library\\Lib\\site-packages\\piq\\fsim.py:57\u001B[0m, in \u001B[0;36mfsim\u001B[1;34m(x, y, reduction, data_range, chromatic, scales, orientations, min_length, mult, sigma_f, delta_theta, k)\u001B[0m\n\u001B[0;32m     18\u001B[0m \u001B[38;5;28;01mdef\u001B[39;00m \u001B[38;5;21mfsim\u001B[39m(x: torch\u001B[38;5;241m.\u001B[39mTensor, y: torch\u001B[38;5;241m.\u001B[39mTensor, reduction: \u001B[38;5;28mstr\u001B[39m \u001B[38;5;241m=\u001B[39m \u001B[38;5;124m'\u001B[39m\u001B[38;5;124mmean\u001B[39m\u001B[38;5;124m'\u001B[39m,\n\u001B[0;32m     19\u001B[0m          data_range: Union[\u001B[38;5;28mint\u001B[39m, \u001B[38;5;28mfloat\u001B[39m] \u001B[38;5;241m=\u001B[39m \u001B[38;5;241m1.0\u001B[39m, chromatic: \u001B[38;5;28mbool\u001B[39m \u001B[38;5;241m=\u001B[39m \u001B[38;5;28;01mTrue\u001B[39;00m,\n\u001B[0;32m     20\u001B[0m          scales: \u001B[38;5;28mint\u001B[39m \u001B[38;5;241m=\u001B[39m \u001B[38;5;241m4\u001B[39m, orientations: \u001B[38;5;28mint\u001B[39m \u001B[38;5;241m=\u001B[39m \u001B[38;5;241m4\u001B[39m, min_length: \u001B[38;5;28mint\u001B[39m \u001B[38;5;241m=\u001B[39m \u001B[38;5;241m6\u001B[39m,\n\u001B[0;32m     21\u001B[0m          mult: \u001B[38;5;28mint\u001B[39m \u001B[38;5;241m=\u001B[39m \u001B[38;5;241m2\u001B[39m, sigma_f: \u001B[38;5;28mfloat\u001B[39m \u001B[38;5;241m=\u001B[39m \u001B[38;5;241m0.55\u001B[39m, delta_theta: \u001B[38;5;28mfloat\u001B[39m \u001B[38;5;241m=\u001B[39m \u001B[38;5;241m1.2\u001B[39m,\n\u001B[0;32m     22\u001B[0m          k: \u001B[38;5;28mfloat\u001B[39m \u001B[38;5;241m=\u001B[39m \u001B[38;5;241m2.0\u001B[39m) \u001B[38;5;241m-\u001B[39m\u001B[38;5;241m>\u001B[39m torch\u001B[38;5;241m.\u001B[39mTensor:\n\u001B[0;32m     23\u001B[0m \u001B[38;5;250m    \u001B[39m\u001B[38;5;124mr\u001B[39m\u001B[38;5;124;03m\"\"\"Compute Feature Similarity Index Measure for a batch of images.\u001B[39;00m\n\u001B[0;32m     24\u001B[0m \n\u001B[0;32m     25\u001B[0m \u001B[38;5;124;03m    Args:\u001B[39;00m\n\u001B[1;32m   (...)\u001B[0m\n\u001B[0;32m     55\u001B[0m \n\u001B[0;32m     56\u001B[0m \u001B[38;5;124;03m    \"\"\"\u001B[39;00m\n\u001B[1;32m---> 57\u001B[0m     _validate_input([x, y], dim_range\u001B[38;5;241m=\u001B[39m(\u001B[38;5;241m4\u001B[39m, \u001B[38;5;241m4\u001B[39m), data_range\u001B[38;5;241m=\u001B[39m(\u001B[38;5;241m0\u001B[39m, data_range))\n\u001B[0;32m     59\u001B[0m     \u001B[38;5;66;03m# Rescale to [0, 255] range, because all constant are calculated for this factor\u001B[39;00m\n\u001B[0;32m     60\u001B[0m     x \u001B[38;5;241m=\u001B[39m x \u001B[38;5;241m/\u001B[39m \u001B[38;5;28mfloat\u001B[39m(data_range) \u001B[38;5;241m*\u001B[39m \u001B[38;5;241m255\u001B[39m\n",
      "File \u001B[1;32m~\\.conda\\envs\\IQA_Library\\Lib\\site-packages\\piq\\utils\\common.py:94\u001B[0m, in \u001B[0;36m_validate_input\u001B[1;34m(tensors, dim_range, data_range, size_range, check_for_channels_first)\u001B[0m\n\u001B[0;32m     90\u001B[0m     \u001B[38;5;28;01massert\u001B[39;00m t\u001B[38;5;241m.\u001B[39msize()[size_range[\u001B[38;5;241m0\u001B[39m]: size_range[\u001B[38;5;241m1\u001B[39m]] \u001B[38;5;241m==\u001B[39m x\u001B[38;5;241m.\u001B[39msize()[size_range[\u001B[38;5;241m0\u001B[39m]: size_range[\u001B[38;5;241m1\u001B[39m]], \\\n\u001B[0;32m     91\u001B[0m         \u001B[38;5;124mf\u001B[39m\u001B[38;5;124m'\u001B[39m\u001B[38;5;124mExpected tensors with same size at given dimensions, got \u001B[39m\u001B[38;5;132;01m{\u001B[39;00mt\u001B[38;5;241m.\u001B[39msize()\u001B[38;5;132;01m}\u001B[39;00m\u001B[38;5;124m and \u001B[39m\u001B[38;5;132;01m{\u001B[39;00mx\u001B[38;5;241m.\u001B[39msize()\u001B[38;5;132;01m}\u001B[39;00m\u001B[38;5;124m'\u001B[39m\n\u001B[0;32m     93\u001B[0m \u001B[38;5;28;01mif\u001B[39;00m dim_range[\u001B[38;5;241m0\u001B[39m] \u001B[38;5;241m==\u001B[39m dim_range[\u001B[38;5;241m1\u001B[39m]:\n\u001B[1;32m---> 94\u001B[0m     \u001B[38;5;28;01massert\u001B[39;00m t\u001B[38;5;241m.\u001B[39mdim() \u001B[38;5;241m==\u001B[39m dim_range[\u001B[38;5;241m0\u001B[39m], \u001B[38;5;124mf\u001B[39m\u001B[38;5;124m'\u001B[39m\u001B[38;5;124mExpected number of dimensions to be \u001B[39m\u001B[38;5;132;01m{\u001B[39;00mdim_range[\u001B[38;5;241m0\u001B[39m]\u001B[38;5;132;01m}\u001B[39;00m\u001B[38;5;124m, got \u001B[39m\u001B[38;5;132;01m{\u001B[39;00mt\u001B[38;5;241m.\u001B[39mdim()\u001B[38;5;132;01m}\u001B[39;00m\u001B[38;5;124m'\u001B[39m\n\u001B[0;32m     95\u001B[0m \u001B[38;5;28;01melif\u001B[39;00m dim_range[\u001B[38;5;241m0\u001B[39m] \u001B[38;5;241m<\u001B[39m dim_range[\u001B[38;5;241m1\u001B[39m]:\n\u001B[0;32m     96\u001B[0m     \u001B[38;5;28;01massert\u001B[39;00m dim_range[\u001B[38;5;241m0\u001B[39m] \u001B[38;5;241m<\u001B[39m\u001B[38;5;241m=\u001B[39m t\u001B[38;5;241m.\u001B[39mdim() \u001B[38;5;241m<\u001B[39m\u001B[38;5;241m=\u001B[39m dim_range[\u001B[38;5;241m1\u001B[39m], \\\n\u001B[0;32m     97\u001B[0m         \u001B[38;5;124mf\u001B[39m\u001B[38;5;124m'\u001B[39m\u001B[38;5;124mExpected number of dimensions to be between \u001B[39m\u001B[38;5;132;01m{\u001B[39;00mdim_range[\u001B[38;5;241m0\u001B[39m]\u001B[38;5;132;01m}\u001B[39;00m\u001B[38;5;124m and \u001B[39m\u001B[38;5;132;01m{\u001B[39;00mdim_range[\u001B[38;5;241m1\u001B[39m]\u001B[38;5;132;01m}\u001B[39;00m\u001B[38;5;124m, got \u001B[39m\u001B[38;5;132;01m{\u001B[39;00mt\u001B[38;5;241m.\u001B[39mdim()\u001B[38;5;132;01m}\u001B[39;00m\u001B[38;5;124m'\u001B[39m\n",
      "\u001B[1;31mAssertionError\u001B[0m: Expected number of dimensions to be 4, got 5"
     ]
    }
   ],
   "source": [
    "score_val = fsim(img_r_tensor, img_m_tensor, chromatic=False, data_range=255)"
   ],
   "metadata": {
    "collapsed": false,
    "ExecuteTime": {
     "end_time": "2023-12-20T15:27:39.983753300Z",
     "start_time": "2023-12-20T15:27:39.205184500Z"
    }
   },
   "id": "32c77a753305ab93"
  }
 ],
 "metadata": {
  "kernelspec": {
   "display_name": "Python 3",
   "language": "python",
   "name": "python3"
  },
  "language_info": {
   "codemirror_mode": {
    "name": "ipython",
    "version": 2
   },
   "file_extension": ".py",
   "mimetype": "text/x-python",
   "name": "python",
   "nbconvert_exporter": "python",
   "pygments_lexer": "ipython2",
   "version": "2.7.6"
  }
 },
 "nbformat": 4,
 "nbformat_minor": 5
}
